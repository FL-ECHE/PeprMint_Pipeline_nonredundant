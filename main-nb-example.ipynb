{
 "cells": [
  {
   "cell_type": "markdown",
   "id": "d5d961a0-aebf-4cea-9d03-26e1d67da0c1",
   "metadata": {},
   "source": [
    "# Rewriting the code to create and analyse data from the PePrMInt project\n",
    "\n",
    "_MIT License, Copyright (c) 2022 Reuter Group_\n",
    "\n",
    "This notebook is a simple example of the usage of the software in its present form.\n",
    "See *.py source files for more information."
   ]
  },
  {
   "cell_type": "markdown",
   "id": "99b8aa58-07e6-4429-a368-4e40b066efe3",
   "metadata": {},
   "source": [
    "### 1. Adjust desired settings in the `peprmint_default.config` file (_optional_)\n",
    "\n",
    "Alternatively, deleting that file makes the execution fall back to factory settings, and populate datasets in a folder `data` of the current directory."
   ]
  },
  {
   "cell_type": "markdown",
   "id": "e30b329e-8f1b-43c5-b225-e47b33ea0853",
   "metadata": {},
   "source": [
    "### 2. Run the code as illustrated below. One may skip/deactivate some steps of the computation to work with the intediate results."
   ]
  },
  {
   "cell_type": "code",
   "execution_count": null,
   "id": "76ffee3b-7e44-43ee-afbc-39ef65441852",
   "metadata": {
    "tags": []
   },
   "outputs": [],
   "source": [
    "from src.settings import Settings\n",
    "from src.data_retriever import DataRetriever\n",
    "from src.preprocessing import Preprocessing\n",
    "from src.dataset_manager import DatasetManager\n",
    "from src.figure_generator import FigureGenerator\n",
    "\n",
    "# notebook #0\n",
    "global_settings = Settings()   # setup reading standard configuration file\n",
    "#global_settings = Settings(\"/opt/cbu/my.config\")  # use different config file\n",
    "\n",
    "\n",
    "# support to specify superfamilies not implemented by default\n",
    "global_settings.add_new_superfamily(name = \"C1\",\n",
    "                                    ref_pdb = \"1ptrA00\", # reference for tagging IBS\n",
    "                                    ref_res1 = \"243\",\n",
    "                                    ref_res2 = \"257\",\n",
    "                                    ref_res3 = \"237\",\n",
    "                                    cath_domain = \"3.30.60.20\",\n",
    "                                    prosite_domain = \"PS50081\",\n",
    "                                    interpro_domain = None,\n",
    "                                    refine_AF_data_with_interpro = False)\n",
    "\n",
    "# notebook #1\n",
    "data_retriever = DataRetriever(global_settings)\n",
    "data_retriever.fetch()\n",
    "\n",
    "# superposition and reorientation of downloaded PDBs\n",
    "preprocess = Preprocessing(global_settings)\n",
    "preprocess.run(database=\"cath\", verbose=False, use_cath_superpose=False)\n",
    "\n",
    "# alternative, pairwise superimposition. NB! Might take too much time!\n",
    "#preprocess.run(database=\"cath\", use_cath_superpose=True)\n",
    "\n",
    "# notebook #2\n",
    "dataset_manager = DatasetManager(global_settings)\n",
    "dataset_manager.build(recalculate=False)   # build dataset from fetched data\n",
    "#dataset_manager.load_light_dataset()   # load dataset built on a previous run\n",
    "\n",
    "# notebook #3\n",
    "# not needed if already computed earlier\n",
    "dataset_manager.add_alphafold_data()\n",
    "\"\"\"\n",
    "dataset_manager.add_alphafold_data(EXCLUDE_SEQS = [\"Q54C71\",    # optional\n",
    "                                                   \"O94827\",\n",
    "                                                   \"Q54C71\",\n",
    "                                                   \"Q22070\",\n",
    "                                                   \"P39960\",\n",
    "                                                   \"Q62077\",\n",
    "                                                   \"Q06839\"],\n",
    "                                   EXCLUDE_DOMAIN = [\"FYVE\"])   # optional\n",
    "\"\"\"\n",
    "#preprocess.run(database=\"alphafold\", verbose=True, use_cath_superpose=False)\n",
    "#dataset_manager.build(recalculate=True)\n",
    "\n",
    "# auxiliary tools notebook for interfacial binding sites (IBS) tagging\n",
    "#dataset_manager.add_IBS_data(db=\"cath+af\")   # tag and save merged dataset\n",
    "#dataset_manager.load_IBS_data(db=\"cath+af\")   # load from a previous run\n",
    "\n",
    "# notebook #4\n",
    "#figure_gen = dataset_manager.get_figure_generator_after_IBS()\n",
    "#figure_gen.make_figure_composition_of_exposed_IBS()\n",
    "#figure_gen.make_figure_protrusions()\n",
    "#figure_gen.make_figure_composition_for_proteins_with_HP_at_IBS()\n",
    "#figure_gen.make_figure_neighbourhood_composition()\n",
    "#figure_gen.make_figure_number_of_structures_w_and_wo_HP_at_IBS()\n",
    "#figure_gen.make_figure_composition_for_proteins_without_HP_at_IBS()\n",
    "#figure_gen.make_figure_superfamily_decomposition_exposed_env_HP()\n"
   ]
  }
 ],
 "metadata": {
  "kernelspec": {
   "display_name": "Python [conda env:peprmint-dev]",
   "language": "python",
   "name": "conda-env-peprmint-dev-py"
  },
  "language_info": {
   "codemirror_mode": {
    "name": "ipython",
    "version": 3
   },
   "file_extension": ".py",
   "mimetype": "text/x-python",
   "name": "python",
   "nbconvert_exporter": "python",
   "pygments_lexer": "ipython3",
   "version": "3.7.12"
  }
 },
 "nbformat": 4,
 "nbformat_minor": 5
}
