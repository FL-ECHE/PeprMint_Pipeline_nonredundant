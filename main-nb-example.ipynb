{
 "cells": [
  {
   "cell_type": "markdown",
   "id": "d5d961a0-aebf-4cea-9d03-26e1d67da0c1",
   "metadata": {},
   "source": [
    "# Rewriting the code to create and analyse data from the PePrMInt project\n",
    "\n",
    "_MIT License, Copyright (c) 2022 Reuter Group_\n",
    "\n",
    "This notebook is a simple example of the usage of the software in its present form.\n",
    "See *.py source files for more information."
   ]
  },
  {
   "cell_type": "markdown",
   "id": "99b8aa58-07e6-4429-a368-4e40b066efe3",
   "metadata": {},
   "source": [
    "### 1. Adjust desired settings in the `peprmint_default.config` file (_optional_)\n",
    "\n",
    "Alternatively, deleting that file makes the execution fall back to factory settings, and populate datasets in a folder `data` of the current directory."
   ]
  },
  {
   "cell_type": "markdown",
   "id": "e30b329e-8f1b-43c5-b225-e47b33ea0853",
   "metadata": {},
   "source": [
    "### 2. Run the code as illustrated below. One may skip/deactivate some steps of the computation to work with the intediate results."
   ]
  },
  {
   "cell_type": "code",
   "execution_count": null,
   "id": "76ffee3b-7e44-43ee-afbc-39ef65441852",
   "metadata": {
    "tags": []
   },
   "outputs": [],
   "source": [
    "from src.settings import Settings\n",
    "from src.data_retriever import DataRetriever\n",
    "from src.dataset_manager import DatasetManager\n",
    "\n",
    "# notebook #0\n",
    "global_settings = Settings()   # setup reading standard configuration file\n",
    "#global_settings = Settings(\"/opt/cbu/my.config\")  # use different config file\n",
    "\n",
    "# notebook #1\n",
    "data_retriever = DataRetriever(global_settings)\n",
    "#data_retriever.run()\n",
    "\n",
    "# notebook #2\n",
    "dataset_manager = DatasetManager(global_settings)\n",
    "dataset_manager.run()\n",
    "#dataset_manager.run(recalculate=False)"
   ]
  }
 ],
 "metadata": {
  "kernelspec": {
   "display_name": "Python [conda env:trunk]",
   "language": "python",
   "name": "conda-env-trunk-py"
  },
  "language_info": {
   "codemirror_mode": {
    "name": "ipython",
    "version": 3
   },
   "file_extension": ".py",
   "mimetype": "text/x-python",
   "name": "python",
   "nbconvert_exporter": "python",
   "pygments_lexer": "ipython3",
   "version": "3.7.12"
  }
 },
 "nbformat": 4,
 "nbformat_minor": 5
}
