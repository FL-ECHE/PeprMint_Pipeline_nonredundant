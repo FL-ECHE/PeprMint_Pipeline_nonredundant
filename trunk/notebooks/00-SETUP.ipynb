{
 "cells": [
  {
   "cell_type": "markdown",
   "metadata": {},
   "source": [
    "<p style=\"text-align: center;\" ><font size=\"7\" >Peprmint dataset creation setup</font></p>\n",
    "<hr />"
   ]
  },
  {
   "cell_type": "markdown",
   "metadata": {},
   "source": [
    "Author: Thibault Tubiana, Ph.D.  \n",
    "version : 1.0"
   ]
  },
  {
   "cell_type": "code",
   "execution_count": 2,
   "metadata": {
    "pycharm": {
     "is_executing": false
    }
   },
   "outputs": [],
   "source": [
    "import os"
   ]
  },
  {
   "cell_type": "markdown",
   "metadata": {},
   "source": [
    "# Dependancies\n",
    "\n",
    "\n",
    "Installation with a environment.\n",
    "\n",
    "1. install nb_conda_kernels to use your environment in conda (and only this, because mkdssp will not be loaded in the PATH without this solution)  \n",
    "`conda install -c conda-forge nb_conda_kernels nodejs ipywidgets`\n",
    "\n",
    "2. Create a environment for this peprmint datasate and use its kernel  \n",
    "`conda create --name peprmint -c conda-forge -c salilab -c hydroid seaborn pandas biopandas biopython ipywidgets scipy numpy tqdm xmltodict pathlib dssp pytables termcolor requests bs4 lxml wordcloud nglview mdanalysis weasyprint openpyxl`  \n",
    "Then install a last package with pypi  \n",
    "`conda activate peprmint`  \n",
    "`pip install pbxplore freesasa vg`\n",
    "3. for progressbar usage (in base):  \n",
    "`conda deactivate`  \n",
    "`jupyter labextension install @jupyter-widgets/jupyterlab-manager\n",
    "jupyter nbextension enable --py widgetsnbextension`\n",
    "\n",
    "4. For NGLVIEW  \n",
    "`jupyter labextension install  nglview-js-widgets`\n",
    "\n",
    "5. Don't forget to choose the peprmint environment for the kernel \"`Python [conda env:peprmint]`\"\n",
    "\n",
    "6. LINUX AND MAC ONLY:  \n",
    "if you want some speedup sometimes, install pandarallel `pip install pandarallel`"
   ]
  },
  {
   "cell_type": "markdown",
   "metadata": {},
   "source": [
    "# folder definition"
   ]
  },
  {
   "cell_type": "code",
   "execution_count": 3,
   "metadata": {},
   "outputs": [],
   "source": [
    "SETUP = {} #Dictionnary with ALL parameters"
   ]
  },
  {
   "cell_type": "code",
   "execution_count": 4,
   "metadata": {
    "pycharm": {
     "is_executing": false
    }
   },
   "outputs": [],
   "source": [
    "#Folder definition\n",
    "from sys import platform\n",
    "if platform == \"linux\" or platform == \"linux2\":\n",
    "    PEPRMINT_FOLDER = \"/mnt/d/work/projets/peprmint\"\n",
    "elif platform == \"darwin\":\n",
    "    PEPRMINT_FOLDER = \"/Users/thibault/Documents/WORK/peprmint\"\n",
    "else:\n",
    "    raise ValueError(\"OS NOT FOUND\")\n",
    "WORKDIR = f\"{PEPRMINT_FOLDER}/dataset/\"\n",
    "CATHFOLDER = f\"{PEPRMINT_FOLDER}/databases/cath/\"\n",
    "ALFAFOLDFOLDER = f\"{PEPRMINT_FOLDER}/databases/alfafold/\"\n",
    "PROSITEFOLDER = f\"{PEPRMINT_FOLDER}/databases/prosite/\"\n",
    "UNIPROTFOLDER = f\"{PEPRMINT_FOLDER}/databases/uniprot/\"\n",
    "FIGURESFOLDER = f\"{PEPRMINT_FOLDER}/figures/\"\n",
    "\n",
    "SETUP[\"PEPRMINT_FOLDER\"]=PEPRMINT_FOLDER\n",
    "SETUP[\"WORKDIR\"]=WORKDIR\n",
    "SETUP[\"CATHFOLDER\"]=CATHFOLDER\n",
    "SETUP[\"PROSITEFOLDER\"]=PROSITEFOLDER\n",
    "SETUP[\"ALFAFOLDFOLDER\"]=ALFAFOLDFOLDER\n",
    "SETUP[\"UNIPROTFOLDER\"]=UNIPROTFOLDER\n",
    "SETUP[\"FIGURESFOLDER\"]=FIGURESFOLDER"
   ]
  },
  {
   "cell_type": "code",
   "execution_count": 15,
   "metadata": {},
   "outputs": [],
   "source": [
    "for k in SETUP:\n",
    "    exec(f\"{k}2 = SETUP['{k}']\")"
   ]
  },
  {
   "cell_type": "code",
   "execution_count": 16,
   "metadata": {},
   "outputs": [
    {
     "data": {
      "text/plain": [
       "'/Users/thibault/Documents/WORK/peprmint/databases/prosite/'"
      ]
     },
     "execution_count": 16,
     "metadata": {},
     "output_type": "execute_result"
    }
   ],
   "source": [
    "PROSITEFOLDER2"
   ]
  },
  {
   "cell_type": "markdown",
   "metadata": {},
   "source": [
    "# Create dictories\n"
   ]
  },
  {
   "cell_type": "code",
   "execution_count": 8,
   "metadata": {
    "pycharm": {
     "is_executing": false
    }
   },
   "outputs": [],
   "source": [
    "if not os.path.exists(PEPRMINT_FOLDER):\n",
    "    os.makedirs(PEPRMINT_FOLDER)\n",
    "if not os.path.exists(WORKDIR):\n",
    "    os.makedirs(WORKDIR)\n",
    "if not os.path.exists(FIGURESFOLDER):\n",
    "    os.makedirs(FIGURESFOLDER)\n",
    "if not os.path.exists(ALFAFOLDFOLDER):\n",
    "    os.makedirs(ALFAFOLDFOLDER)\n",
    "if not os.path.exists(UNIPROTFOLDER):\n",
    "    os.makedirs(UNIPROTFOLDER)\n",
    "if not os.path.exists(PROSITEFOLDER):\n",
    "    os.makedirs(PROSITEFOLDER) #MSA will contains the alignments in \"msa\" format (FASTA). \n",
    "if not os.path.exists(CATHFOLDER):\n",
    "    os.makedirs(CATHFOLDER)"
   ]
  },
  {
   "cell_type": "markdown",
   "metadata": {},
   "source": [
    "# Cath and Prosite mapping"
   ]
  },
  {
   "cell_type": "markdown",
   "metadata": {},
   "source": [
    "First we define the CATHVERSION because their is no 'latest' pointer. So if we want to update something, we need to update the version mannually"
   ]
  },
  {
   "cell_type": "code",
   "execution_count": 9,
   "metadata": {
    "pycharm": {
     "is_executing": false
    }
   },
   "outputs": [],
   "source": [
    "CATHVERSION = 'v4_2_0'"
   ]
  },
  {
   "cell_type": "code",
   "execution_count": 10,
   "metadata": {
    "pycharm": {
     "is_executing": false,
     "name": "#%%\n"
    }
   },
   "outputs": [],
   "source": [
    "DOMAIN_PROSITE = {\n",
    "    \"PH\": \"PS50003\",\n",
    "    \"C2\": [\"PS50004\",\"PS51547\"],\n",
    "    \"C1\": \"PS50081\",  # Note : no C1 prosite on SMART but 2 C1 ProSite on Interprot (PS50081,PS00479), I took PS50081 since the data in PS00479 are in PS50081.\n",
    "    \"PX\": \"PS50195\",\n",
    "    # \"FYVE\":\"PS50178\",\n",
    "    \"FYVE\": [\"PS50178\",'PS50089', 'PS00518','PS50016','PS01359','PS50014','PS00633','PS50119'],  # FYVE CAN BE THIS ONE TOO....\n",
    "    # \"PPASE_MYOTUBULARIN\":\"PS51339\",# no GRAM domain found on prosite. Has to do this manually. Go on http://smart.embl-heidelberg.de/smart/do_annotation.pl?DOMAIN=GRAM&BLAST=DUMMY\n",
    "    \"BAR\": \"PS51021\",  # 1URU is missing on prosite\n",
    "    # \"GLA\":\"PS50963\",\n",
    "    \"ENTH\": \"PS50942\",\n",
    "    \"SH2\": \"PS50001\",\n",
    "    \"SEC14\": \"PS50191\",\n",
    "    \"START\": \"PS50848\",\n",
    "    \"C2DIS\":\"PS50022\",\n",
    "    \"GLA\": \"PS50998\",\n",
    "    \"PLD\":\"PS50035\",\n",
    "    \"PLA\":\"PS00118\",\n",
    "    \"ANNEXIN\":\"PS00223\",\n",
    "}\n",
    "# Invert keys and values to have PROSITEID ==> DOMAIN\n",
    "PROSITE_DOMAIN = {}\n",
    "for key, value in DOMAIN_PROSITE.items():\n",
    "    if type(value) == type([]):\n",
    "        for subvalues in value:\n",
    "            PROSITE_DOMAIN[subvalues] = key\n",
    "    else:\n",
    "        PROSITE_DOMAIN[value] = key\n",
    "# PROSITE_DOMAIN = {v: k for k, v in DOMAIN_PROSITE.items()}\n",
    "\n",
    "DOMAIN_CATH = {\n",
    "    \"PH\": \"2.30.29.30\",\n",
    "    \"C2\": \"2.60.40.150\",\n",
    "    \"C1\": \"3.30.60.20\",\n",
    "    \"PX\": \"3.30.1520.10\",\n",
    "    \"FYVE\": \"3.30.40.10\",\n",
    "    \"BAR\": \"1.20.1270.60\",\n",
    "    \"ENTH\": \"1.25.40.90\",\n",
    "    \"SH2\": \"3.30.505.10\",\n",
    "    \"SEC14\": \"3.40.525.10\",\n",
    "    \"START\": \"3.30.530.20\",\n",
    "    \"C2DIS\": \"2.60.120.260\",\n",
    "    \"GLA\":\"2.40.20.10\",\n",
    "    \"PLD\":\"3.20.20.190\",\n",
    "    \"PLA\":\"1.20.90.10\",\n",
    "    \"ANNEXIN\":\"1.10.220.10\",\n",
    "}\n",
    "\n",
    "DOMAIN_INTERPRO = {\n",
    "    \"PH\": \"SSF50729\",\n",
    "    \"C2\": \"SSF49562\",\n",
    "    \"C1\": None,\n",
    "    \"PX\": \"SSF64268\",\n",
    "    \"FYVE\": \"SSF57903\", #badly classified it looks like...\n",
    "    \"BAR\": \"SSF103657\",\n",
    "    \"ENTH\": \"SSF48464\",\n",
    "    \"SH2\": \"SSF55550\",\n",
    "    \"SEC14\": [\"SSF52087\",\"SSF46938\"], #the CRAL TRIO domain is truncated in SSF.\n",
    "    \"START\": \"SSF55961\",\n",
    "    \"C2DIS\": \"SSF49785\",\n",
    "    \"GLA\":None,\n",
    "    \"PLD\":\"SSF51695\",\n",
    "    \"PLA\":\"G3DSA:1.20.90.10\",\n",
    "    \"ANNEXIN\":\"SSF47874\",\n",
    "}\n",
    "\n",
    "DOMAIN_INTERPRO_REFINE = {\n",
    "    \"PH\": True,\n",
    "    \"C2\": False,\n",
    "    \"C1\": False,\n",
    "    \"PX\": True,\n",
    "    \"FYVE\": False,\n",
    "    \"BAR\": False,\n",
    "    \"ENTH\": False,\n",
    "    \"SH2\": False,\n",
    "    \"SEC14\": False,\n",
    "    \"START\": True,\n",
    "    \"C2DIS\": False,\n",
    "    \"GLA\":False,\n",
    "    \"PLD\":False,\n",
    "    \"PLA\":True,\n",
    "    \"ANNEXIN\":False,\n",
    "}\n",
    "\n",
    "# Invert keys and values to have CATHID ==> DOMAIN\n",
    "CATH_DOMAIN = {v: k for k, v in DOMAIN_CATH.items()}\n",
    "SUPERFAMILY = CATH_DOMAIN\n",
    "SETUP[\"DOMAIN_PROSITE\"] = DOMAIN_PROSITE\n",
    "SETUP[\"PROSITE_DOMAIN\"] = PROSITE_DOMAIN\n",
    "SETUP[\"DOMAIN_CATH\"] = DOMAIN_CATH\n",
    "SETUP[\"CATH_DOMAIN\"] = CATH_DOMAIN\n",
    "SETUP[\"SUPERFAMILY\"] = SUPERFAMILY\n"
   ]
  },
  {
   "cell_type": "markdown",
   "metadata": {
    "jupyter": {
     "outputs_hidden": false
    },
    "pycharm": {
     "name": "#%%\n"
    }
   },
   "source": [
    "# TOOL FUNCTION\n"
   ]
  },
  {
   "cell_type": "code",
   "execution_count": 2,
   "metadata": {},
   "outputs": [],
   "source": [
    "def selectUniquePerCluster(df, cathCluster, Uniref, withAlignment = True):\n",
    "    \"\"\"\n",
    "    Return a datasert with only 1 data per choosed clusters.\n",
    "    \"\"\"\n",
    "    \n",
    "    if cathCluster not in [\"S35\",\"S60\",\"S95\",\"S100\"]:\n",
    "        raise ValueError('CathCluster given not in [\"S35\",\"S60\",\"S95\",\"S100\"]')\n",
    "    \n",
    "    if Uniref not in [\"uniref50\",\"uniref90\",\"uniref100\"]:\n",
    "        raise ValueError('CathCluster given not in [\"uniref50\",\"uniref90\",\"uniref100\"]')\n",
    "    \n",
    "    if withAlignment:\n",
    "        df = df[~df.alignment_position.isnull()]\n",
    "    \n",
    "    cathdf = df.query(\"data_type == 'cathpdb'\")\n",
    "    seqdf = df.query(\"data_type == 'prosite'\")\n",
    "    \n",
    "    def selectUniqueCath(group):\n",
    "        uniqueNames = group.cathpdb.unique()\n",
    "        select = uniqueNames[0]\n",
    "        \n",
    "        #return group.query(\"cathpdb == @select\")\n",
    "        return select\n",
    "    \n",
    "    def selectUniqueUniref(group,exclusion):\n",
    "        uniqueNames = group.uniprot_acc.unique()\n",
    "        select = uniqueNames[0]\n",
    "        #return group.query(\"uniprot_acc == @select\")\n",
    "        if select not in exclusion:\n",
    "            return select\n",
    "        \n",
    "\n",
    "    dfReprCathNames = cathdf.groupby([\"domain\",cathCluster]).apply(selectUniqueCath).to_numpy()\n",
    "    \n",
    "    excludeUniref = df.query(\"cathpdb in @dfReprCathNames\").uniprot_acc.unique() #Structures are prior to sequences.\n",
    "    dfReprUnirefNames = seqdf.groupby([\"domain\",Uniref]).apply(selectUniqueUniref, exclusion=excludeUniref).to_numpy()\n",
    "    dfReprCath = cathdf.query(\"cathpdb in @dfReprCathNames\")\n",
    "    dfReprUniref = seqdf.query(\"uniprot_acc in @dfReprUnirefNames\")\n",
    "    \n",
    "    return (pd.concat([dfReprCath,dfReprUniref]))"
   ]
  },
  {
   "cell_type": "code",
   "execution_count": 1,
   "metadata": {},
   "outputs": [
    {
     "ename": "NameError",
     "evalue": "name 'DOMAIN_SEQ' is not defined",
     "output_type": "error",
     "traceback": [
      "\u001b[0;31m---------------------------------------------------------------------------\u001b[0m",
      "\u001b[0;31mNameError\u001b[0m                                 Traceback (most recent call last)",
      "\u001b[0;32m<ipython-input-1-376a1536b52f>\u001b[0m in \u001b[0;36m<module>\u001b[0;34m\u001b[0m\n\u001b[0;32m----> 1\u001b[0;31m \u001b[0mDOMAIN_SEQ\u001b[0m\u001b[0;34m\u001b[0m\u001b[0;34m\u001b[0m\u001b[0m\n\u001b[0m",
      "\u001b[0;31mNameError\u001b[0m: name 'DOMAIN_SEQ' is not defined"
     ]
    }
   ],
   "source": []
  },
  {
   "cell_type": "markdown",
   "metadata": {},
   "source": [
    "# Dataset description\n",
    "\n",
    "\n",
    " - _**Data related**_\n",
    "   - **data_type**: Origin of the data (`cath` for PDBS, `prosite` for sequences)\n",
    "   - **domain**: domain of the se\n",
    "   - **cathpdb**: CATH domain ID (name of the PDB)\n",
    "   - **pdb**: 4 char PDB Code\n",
    "   - **uniprot_acc**: Uniprot Accession number (like 'P14262')\n",
    "   - **uniprot_id**: Uniprot ID (like 'PLC_BACCE')\n",
    "   - **domain**: domain Name\n",
    "   - **location**: Location of the protein in the cell\n",
    "   - **CR:prositeID**: Cross Reference: prosite IDs list in the uniprot record.\n",
    "   - **CR:prositeName**: Cross Reference: prosite Names list in the uniprot record.\n",
    "   \n",
    " - _**Residue related**_\n",
    "   - **aatype**: Amino acid property classification\n",
    "   - **residue_name**: amino acid name\n",
    "   - **residue_number**: amino acid number\n",
    "   - **residue_index**: 0-based residue number.\n",
    " \n",
    " - _**Atom related**_\n",
    "   - **atom_name**: Name of the atom\n",
    "   - **atom_number**: Atom numbering\n",
    "   - **convhull_vertex**: True if the atom is vertex of the convexhull, False if it's not.\n",
    "   - **density**: density of the atoms (number of neighbours)\n",
    "   - **neighbours**: list of neighbours\n",
    "   - **lowdens_protrusion**: True if the atom is a low density protrusion, False if it's not\n",
    "   \n",
    " - _**Structure Related**_\n",
    "   - **chain_id**: Chain identifier\n",
    "   - **bfactor**: Bfactor of each atoms (if present)\n",
    "   - **x_coord/y_coord/z_coord**: X/Y/Z coordinate\n",
    "   - **resolution**: resolution of the PDB\n",
    "   - **occupancy**: atom's occupancy\n",
    "   - **sasa_rel**: accessible surface aera\n",
    "   - **sec_struc**: secondary structure of the current amino acid\n",
    "   - **sec_struc_segment**: secondary structure segment\n",
    "\n",
    " - _**Sequence related**_\n",
    "   - **alignment_position**: position of the amino acid in the multiple alignment\n",
    "   - **entropy**: Shannon Entropy of the alignment position\n",
    "   - **ali_range**: begin-end of of the alignment in the full protein sequence (unipro_id). The full protein sequence is not in the dataset\n",
    "   \n",
    " - _**Cluster Related**_\n",
    "   - **S100** : Cath Cluster number at 100% of idendity\n",
    "   - **S95** : Cath Cluster number at 95% of idendity\n",
    "   - **S60** : Cath Cluster number at 60% of idendity\n",
    "   - **S35** : Cath Cluster number at 35% of idendity\n",
    "   - **uniref50**: Representative uniprot_acc for cluster with 50% of idendity\n",
    "   - **uniref90**: Representative uniprot_acc for cluster with 90% of idendity\n",
    "   - **uniref100**: Representative uniprot_acc for cluster with 100% of idendity\n"
   ]
  },
  {
   "cell_type": "code",
   "execution_count": null,
   "metadata": {},
   "outputs": [],
   "source": []
  }
 ],
 "metadata": {
  "interpreter": {
   "hash": "d6cfc11889ccfd51a17702d12e554e76e639a1fb0ecca480f03522341ecca115"
  },
  "kernelspec": {
   "display_name": "Python [conda env:peprmint]",
   "language": "python",
   "name": "python3"
  },
  "language_info": {
   "codemirror_mode": {
    "name": "ipython",
    "version": 3
   },
   "file_extension": ".py",
   "mimetype": "text/x-python",
   "name": "python",
   "nbconvert_exporter": "python",
   "pygments_lexer": "ipython3",
   "version": "3.9.7"
  },
  "pycharm": {
   "stem_cell": {
    "cell_type": "raw",
    "metadata": {
     "collapsed": false
    },
    "source": []
   }
  },
  "toc-autonumbering": false,
  "toc-showmarkdowntxt": true
 },
 "nbformat": 4,
 "nbformat_minor": 4
}
