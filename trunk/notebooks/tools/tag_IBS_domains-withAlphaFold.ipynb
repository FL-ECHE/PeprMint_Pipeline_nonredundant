{
 "cells": [
  {
   "cell_type": "markdown",
   "metadata": {},
   "source": [
    "# Tag the binding site on all proteins of the dataset. WITH ALPHAFOLD STRUCTURES"
   ]
  },
  {
   "cell_type": "markdown",
   "metadata": {},
   "source": [
    "## Imports"
   ]
  },
  {
   "cell_type": "code",
   "execution_count": 1,
   "metadata": {},
   "outputs": [
    {
     "name": "stderr",
     "output_type": "stream",
     "text": [
      "/Users/thibault/miniconda3/envs/peprmint/lib/python3.7/site-packages/tqdm/std.py:699: FutureWarning: The Panel class is removed from pandas. Accessing it from the top-level namespace will also be removed in the next version\n",
      "  from pandas import Panel\n"
     ]
    },
    {
     "data": {
      "application/vnd.jupyter.widget-view+json": {
       "model_id": "e6aeb2aa941543ad9244fe5ba71de515",
       "version_major": 2,
       "version_minor": 0
      },
      "text/plain": []
     },
     "metadata": {},
     "output_type": "display_data"
    }
   ],
   "source": [
    "## Imports and settings\n",
    "import pandas as pd\n",
    "import numpy as np\n",
    "import math\n",
    "import seaborn as sns\n",
    "import matplotlib.pyplot as plt\n",
    "from scipy.spatial import ConvexHull\n",
    "#%matplotlib inline\n",
    "sns.set_style(\"darkgrid\")\n",
    "\n",
    "import ipywidgets as widgets\n",
    "from IPython.display import display, Markdown, clear_output\n",
    "\n",
    "\n",
    "# from tqdm.auto import tqdm\n",
    "from tqdm.notebook import tnrange, tqdm\n",
    "\n",
    "tqdm.pandas()  # activate tqdm progressbar for pandas apply\n",
    "\n",
    "pd.options.mode.chained_assignment = (\n",
    "    None  # default='warn', remove pandas warning when adding a new column\n",
    ")\n",
    "pd.set_option(\"display.max_columns\", None)\n",
    "\n",
    "from IPython.core.interactiveshell import InteractiveShell\n",
    "\n",
    "\n",
    "InteractiveShell.ast_node_interactivity = \"all\"\n",
    "#%config InlineBackend.figure_format ='svg' #better quality figure figure\n",
    "np.seterr(divide='ignore', invalid='ignore')\n",
    "\n",
    "import matplotlib.gridspec as gridspec\n",
    "\n",
    "\n",
    "import MDAnalysis as mda\n",
    "import nglview as nv\n",
    "import platform"
   ]
  },
  {
   "cell_type": "markdown",
   "metadata": {},
   "source": [
    "## Tool functions "
   ]
  },
  {
   "cell_type": "code",
   "execution_count": 2,
   "metadata": {},
   "outputs": [],
   "source": [
    "def equality_test(pop1,pop2, ALTERNATIVE=\"two-sided\", pairwised=False):\n",
    "    \"\"\"\n",
    "    Perform equality test between two sample\n",
    "    \n",
    "    Args:\n",
    "        - pop1 (array): sample1 (continuous or discrete data)\n",
    "        - pop2 (array): sample2 (continuous or discrete data)\n",
    "        - ALTERNATIVE (str): could be 'two-sided','less','greater'. Default is 'two-sided'\n",
    "    Teturn:\n",
    "        None\n",
    "    \"\"\"\n",
    "        \n",
    "    #for formating\n",
    "    from IPython.display import Markdown, display\n",
    "    def printmd(string, color=None):\n",
    "        colorstr = \"<span style='color:{}'>{}</span>\".format(color, string)\n",
    "        display(Markdown(colorstr))\n",
    "        \n",
    "    printmd(\"**STATISTICAL TEST BETWEEN TWO SAMPLES**\")\n",
    "    \n",
    "    printmd(f\" - ALTERNATIVE HYPOTHESIS = {ALTERNATIVE}\")\n",
    "    from decimal import Decimal\n",
    "    import scipy.stats as stats\n",
    "    \n",
    "    sign = {\"two-sided\":\"≠\",\n",
    "       \"less\":\"<\",\n",
    "       \"greater\":\">\"}\n",
    "    \n",
    "\n",
    "    printmd(\"**NORMALITY TEST (shapiro)**\")\n",
    "    normality = True\n",
    "    printmd(\"*The two samples should follow a normal law to use a standard t.test*\")\n",
    "\n",
    "    normpop1 = stats.shapiro(pop1).pvalue\n",
    "    normpop2 = stats.shapiro(pop2).pvalue\n",
    "    if normpop1 < 0.05:\n",
    "        printmd(f\"---- Sample 1 shapioro test pvalue = {normpop1:.2E}, <= 0.05. This sample DO NOT follow a normal law\", color='red')\n",
    "        normality = False\n",
    "    else: \n",
    "        printmd(f\"---- Sample 1 shapioro test pvalue = {normpop1:.2E}, > 0.05. This sample follow a normal law\", color='blue')\n",
    "    if normpop2 < 0.05:\n",
    "        printmd(f\"---- Sample 1 shapioro test pvalue = {normpop2:.2E}, <= 0.05. This sample DO NOT follow a normal law\", color='red')\n",
    "        normality = False\n",
    "    else: \n",
    "        printmd(f\"---- Sample 1 shapioro test pvalue = {normpop2:.2E}, > 0.05. This sample follow a normal law\", color='blue')\n",
    "\n",
    "    if normality == True:\n",
    "        printmd(\"Both samples follow a normal law\")\n",
    "\n",
    "        if pairwised == True:\n",
    "            printmd(\"**TTest_REL Pairwise test **\")\n",
    "            equalstat, equalpval = stats.ttest_rel(pop1,pop2)\n",
    "        else: \n",
    "            print(\"Performing Variance equality test\")\n",
    "            varstat, varpval = stats.levene(pop1,pop2)\n",
    "            #Levene, pval < 0.05 --> Variance are not equal.\n",
    "            #Levene, pval > 0.05 --> Non significatif and the hypothesis H0 is not rejected. \n",
    "\n",
    "\n",
    "            printmd(\"-- Null hypothesis, the the variances are equals\")\n",
    "            print(f\"---- Variance test --> stat={varstat:.2E}, p-value={varpval:.3E}\")\n",
    "            if varpval < 0.05:\n",
    "                printmd(\"P value <= 0.05, H0 rejected. the variance are not equal. Performing Welch’s t-test\", color=\"red\")\n",
    "                equal_var = False\n",
    "            else:\n",
    "                printmd(\"Pvalue > 0.05, the variances not equal. Performing a standard independent 2 sample test \", color=\"blue\")\n",
    "                equal_var = True\n",
    "            equalstat, equalpval = stats.ttest_ind(pop1,\n",
    "                                       pop2,\n",
    "                                       equal_var=equal_var,)\n",
    "            \n",
    "        print(f\"t-test --> stat={equalstat:.2E}, p-value={equalpval:.3E}\")\n",
    "        print(f\"  Null hypothesis : the two samples average are equal\")\n",
    "        print(f\"  Alternative hypothesis : average(sample2) {sign[ALTERNATIVE]} average(sample2)\")\n",
    "        if equalpval > 0.05:\n",
    "            printmd(\"pvalue > 0.05, we cannot reject the null hypothesis of identical average between both populations.\", color=\"blue\")\n",
    "        else:\n",
    "            printmd(\"pvalue <= 0.05, the null hypothesis is rejected, the two samples are differents\", color=\"red\")\n",
    "    else:\n",
    "        printmd(\"One or both sample(s) doesn't follow a normal law.\")\n",
    "        if pairwised==True:\n",
    "            printmd(\"**WILCOXON SIGNED-RANK TEST**\")\n",
    "            printmd(f\"  Null hypothesis : the two distribution are equals\")\n",
    "            printmd(f\"  Alternative hypothesis : pop1 {sign[ALTERNATIVE]} pop2\")\n",
    "            stat, pval = stats.wilcoxon(pop1,pop2, alternative=ALTERNATIVE)\n",
    "        else:\n",
    "            printmd(\"Performing a Wilcoxon Rank sum test with continuity correction\")\n",
    "            printmd(\"**WILCOXON RANK SUM TEST WITH CONTINUITY CORRECTION (or Mann-Whitney test)**\")\n",
    "            printmd(f\"  Null hypothesis : the two distribution are equals\")\n",
    "            printmd(f\"  Alternative hypothesis : pop1 {sign[ALTERNATIVE]} pop2\")\n",
    "            stat, pval = stats.mannwhitneyu(pop1,pop2, alternative=ALTERNATIVE)\n",
    "        if pval < 0.05:\n",
    "            printmd(f\"  pvalue = {pval:.2E} which is <= 0.05. The null hypothesis is rejected. The alternative hypothesis (f{ALTERNATIVE}) is valid and the two distrubition are different\", color=\"red\")\n",
    "        else:\n",
    "            printmd(f\"  pvalue = {pval:.2E} which is > 0.05. The null hypothesis not rejected. Both distributions are not statistically differents.\", color=\"blue\")"
   ]
  },
  {
   "cell_type": "markdown",
   "metadata": {},
   "source": [
    "## Parameters"
   ]
  },
  {
   "cell_type": "code",
   "execution_count": 3,
   "metadata": {},
   "outputs": [],
   "source": [
    "%run \"./00-SETUP.ipynb\""
   ]
  },
  {
   "cell_type": "markdown",
   "metadata": {},
   "source": [
    "## Loading datasets"
   ]
  },
  {
   "cell_type": "code",
   "execution_count": 4,
   "metadata": {},
   "outputs": [],
   "source": [
    "### Load Dataset \n",
    "DATASETAF = pd.read_pickle(f\"{WORKDIR}/DATASET_peprmint_d25.pkl\")\n",
    "DATASET = pd.read_pickle(f\"{WORKDIR}/DATASET_peprmint_d25.pkl\")\n",
    "#DATASET = pd.read_pickle(f\"{WORKDIR}/DATASET_peprmint.backup\")"
   ]
  },
  {
   "cell_type": "code",
   "execution_count": 5,
   "metadata": {},
   "outputs": [
    {
     "data": {
      "text/plain": [
       "4249"
      ]
     },
     "execution_count": 5,
     "metadata": {},
     "output_type": "execute_result"
    }
   ],
   "source": [
    "domainList=['PH','C2','START','C1','C2DIS','PX','ENTH','PLD','ANNEXIN','PLA']\n",
    "\n",
    "len(DATASET.query(\"data_type == 'cathpdb' and domain in @domainList\").cathpdb.unique())"
   ]
  },
  {
   "cell_type": "code",
   "execution_count": 6,
   "metadata": {},
   "outputs": [
    {
     "data": {
      "text/plain": [
       "5910"
      ]
     },
     "execution_count": 6,
     "metadata": {},
     "output_type": "execute_result"
    }
   ],
   "source": [
    "\n",
    "len(DATASETAF.query(\"data_type != 'prosite' and domain in @domainList\").cathpdb.unique())"
   ]
  },
  {
   "cell_type": "markdown",
   "metadata": {},
   "source": [
    "## Define calculation to performe"
   ]
  },
  {
   "cell_type": "code",
   "execution_count": 13,
   "metadata": {},
   "outputs": [],
   "source": [
    "DO_REPORT = False\n",
    "TEST_SIMILARITIES_AFCATH = True\n",
    "DO_PICTURES = False\n",
    "SHOW_EXAMPLE = False\n",
    "DO_ALIGNMENT = False"
   ]
  },
  {
   "cell_type": "markdown",
   "metadata": {},
   "source": [
    "## Define cluster level here"
   ]
  },
  {
   "cell_type": "code",
   "execution_count": 8,
   "metadata": {},
   "outputs": [],
   "source": [
    "if not 'clusterLevel' in locals():\n",
    "    clusterLevel = \"S100\"\n",
    "    unirefLevel = 'uniref100'\n",
    "ZAXISLEVEL=0"
   ]
  },
  {
   "cell_type": "markdown",
   "metadata": {},
   "source": [
    "# Test how different is AF and CATH for the PH Domain"
   ]
  },
  {
   "cell_type": "markdown",
   "metadata": {},
   "source": [
    "## PH Domain"
   ]
  },
  {
   "cell_type": "code",
   "execution_count": 9,
   "metadata": {},
   "outputs": [],
   "source": [
    "if DO_ALIGNMENT:\n",
    "    !cd /Users/thibault/Documents/WORK/peprmint/databases/aligned_cath-AF/PH/\n",
    "    !/Users/thibault/miniconda3/envs/peprmint/bin/python ~/OneDrive\\ -\\ University\\ of\\ Bergen/projects/peprmint/dev/pepermintdataset/scripts/align_on_z.py -d PH -ref 2da0A00 -res1 19 -res2 42 -res3 50 -i 'aligned/output' -o 'zaligned' -dir \"aligned_cath-AF\"\n",
    "    #!/Users/thibault/miniconda3/envs/peprmint/bin/python ~/OneDrive\\ -\\ University\\ of\\ Bergen/projects/peprmint/dev/pepermintdataset/scripts/align_on_z.py -d PH -ref 1fgyA00 -res1 367 -res2 276 -res3 349 -i 'raw' -o 'zaligned_sansom'"
   ]
  },
  {
   "cell_type": "markdown",
   "metadata": {},
   "source": [
    "### Canonic orientation"
   ]
  },
  {
   "cell_type": "code",
   "execution_count": 10,
   "metadata": {},
   "outputs": [
    {
     "name": "stdout",
     "output_type": "stream",
     "text": [
      "142 will be removed IN TOTAL\n"
     ]
    }
   ],
   "source": [
    "#Prepare Exclusion of PTB and other domains\n",
    "#Procedure\n",
    "#1. Get protein template from Mark Lemmon review (https://www.ncbi.nlm.nih.gov/pmc/articles/PMC1221219/pdf/10926821.pdf) or from the PDB\n",
    "#2. search from this protein in rcsb PDB -> Annotation -> Click on the PFAM familly \n",
    "#3. In the results, display only PDB IDs \n",
    "#4. For each PDB, get S60 Cluster IDS. \n",
    "#5. Remove those S60 Cluster IDs from the PH superfamilly.\n",
    "\n",
    "# LIST OF PFAM\n",
    "# PTB = PF00640\n",
    "# RANDB = PF00638\n",
    "# EVH/WH1 = PF00568  \n",
    "\n",
    "pdb_PTB = \"2YT8_1,2YT7_1,6DM4_2,3O17_2,3D8F_1,2E45_1,2YT1_1,6O5O_1,1NU2_1,3O2M_2,3H8D_2,1NTV_1,5LW1_3,6FUZ_1,2G01_2,6LNM_2,5YI7_1,5YI8_1,4DBB_1,6F5E_3,2NMB_1,2MYQ_1,1N3H_1,3F0W_1,3SUZ_1,3SV1_1,1SHC_1,2L1C_1,1AQC_1,2YSC_1,3D8D_1,2YSZ_1,3D8E_1,1OY2_1,3VUG_2,4JMH_2,5NQH_1,3VUH_2,3VUK_2,3VUI_2,4E73_2,2FPD_1,3VUL_2,2EJ8_1,6ITU_1,1WJ1_1,3OXI_2,5C5B_2,5C5B_1,6F7O_1,2FPF_1,2LSW_1,1WGU_1,4Z88_2,2ELA_1,2ELB_1,2DYQ_1,2FPE_1,3VUM_2,5UWS_4,2GMX_2,6OVF_1,2IDH_1,2OEI_1,4H8S_1,2EAM_1,1OQN_1,1TCE_1,4G1W_2,4XWX_1,5YQG_2,1X11_1,1M7E_1,1MIL_1,4HYS_2,1P3R_1,2Z0N_1,2LMR_1,3QYB_1,5NJK_1,2Q12_1,5NJJ_1,3PTG_2,3DXC_1,3QYE_1,1X45_1,1UKI_2,3DXE_1,1Y7N_1,3SO6_1,2Z0O_1,2KIV_1,2Q13_1,4NC6_1,3DXD_1,1UKH_2,2HO2_1,2YT0_1,2M38_1,2H96_2,5ZRY_1,4HYU_2,1DDM_1,1QG1_2,1U39_1,4IZY_2,3V3V_2,3VUD_2,6KMH_2,2KE7_1,1U3B_1,2ROZ_2,5CZI_2,1U37_1,4H39_2,1U38_1\"\n",
    "pdb_RANDB = \"5UWW_2,6KFT_2,1K5G_2,5UWT_2,3UIO_4,5UWI_2,6CIT_2,4HAU_2,4HB2_2,4HAT_2,4HB3_2,4HB4_2,4HAX_3,4HAV_2,4HAW_2,3TJ3_2,4HB0_2,5DIF_2,1XKE_1,5DH9_2,4GMX_2,2CRF_1,6XJT_2,6XJU_2,6XJR_2,6XJS_2,5DHF_2,5DHA_2,4LQW_1,5UWJ_2,3UIP_4,5UWH_2,3UIN_4,5JLJ_2,5ZPU_2,2C1M_2,4GA0_1,6A38_2,2C1T_2,5DI9_2,6A3E_2,6A3C_2,6A3B_2,6A3A_2,4HAZ_2,4HAY_2,4GPT_2,2LAS_2,7L5E_2,4GA1_1,1UN0_2,5UWU_2,1RRP_2,5UWS_2,3OAN_1,5CLL_2,5YRO_2,6XJP_2,4L6E_1,6M6X_2,5CLQ_2,6X2M_2,6X2O_2,5YSU_2,6X2S_2,6X2U_2,5YST_2,6X2V_2,6X2W_2,6X2X_2,6X2Y_2,6X2R_2,6X2P_2,4WVF_2,5YTB_2,2EC1_1,5UWQ_2,1K5D_2,5UWR_2,5UWO_2,5UWP_2,2Y8G_1,3N7C_1,4I9Y_1,3M1I_2,5XZX_2,1Z5S_4,2Y8F_1,3WYF_2,4GA2_1\"\n",
    "pdb_EVH = \"1TJ6_1,5N91_1,5ZZ9_1,5N9C_1,1CEE_2,2XQN_2,3RSE_8,6RCJ_1,6RCF_1,3CHW_3,2V8C_2,2PBD_3,6RD2_1,2PAV_3,2IYB_1,6XXR_1,7A5M_1,2OT0_2,1XOD_1,1I2H_1,1EVH_1,6V65_1,1USD_1,1USE_1,7AKI_1,1ZUK_2,4MY6_1,2IFS_1,3SYX_1,1QC6_1,2JP2_1,3CVF_1,1T84_1,5N9P_1,2FF3_2,6UHC_8,1I7A_1,2P8V_1,5NDU_1,2LNH_1,3M3N_2,5NCG_1,5NCF_1,5NEG_1,2A3Z_3,6XVT_1,1MKE_1,2VCP_2,2HO2_2,3CVE_1,1EJ5_1,5NCP_1,5ND0_1,1DDW_1,5NC7_1,1DDV_1,2K42_1,4CC7_2,4CC3_2,1EGX_1,4CC2_2,5NBF_1,5NAJ_1,6V6F_1,5NC2_1,5NBX_1\"\n",
    "# pdb_DCP1=\"5JP4_1,2QKL_1,4B6H_1,5J3Q_1,5N2V_1,1Q67_1,6Y3Z_2,2QKM_1,5J3Y_1,5LOP_2,5LON_2,5KQ1_1,6AM0_2,5J3T_1,2LYD_1,5KQ4_1\"\n",
    "pdb_PTB = [x[:4] for x in pdb_PTB.split(',')]\n",
    "pdb_RANDB = [x[:4] for x in pdb_RANDB.split(',')]\n",
    "pdb_EVH = [x[:4] for x in pdb_EVH.split(',')]\n",
    "# pdb_DCP1 = [x[:4] for x in pdb_DCP1.split(',')]\n",
    "\n",
    "pdbs_to_remove = pdb_PTB+pdb_RANDB+pdb_EVH\n",
    "\n",
    "\n",
    "removeS60 = DATASET.query(\"domain == 'PH' and pdb in @pdbs_to_remove\")[\"S60\"].unique()\n",
    "cathpdbs_to_remove = DATASET.query(\"domain == 'PH' and S60 in @removeS60\").cathpdb.unique()\n",
    "print(f\"{len(cathpdbs_to_remove)} will be removed IN TOTAL\")\n",
    "DATASET = DATASET.query(\"cathpdb not in @cathpdbs_to_remove\")\n",
    "\n",
    "DATASETAF = DATASETAF.query(\"cathpdb not in @cathpdbs_to_remove\")\n",
    "pd.DataFrame(cathpdbs_to_remove).to_csv(f\"{FIGURESFOLDER}/Fake_PH.csv\", index=False, header=False)"
   ]
  },
  {
   "cell_type": "markdown",
   "metadata": {},
   "source": [
    "### Getting what's in common between AF and CATH"
   ]
  },
  {
   "cell_type": "code",
   "execution_count": 14,
   "metadata": {},
   "outputs": [
    {
     "data": {
      "text/plain": [
       "<module 'pepr2ds' from '/Users/thibault/OneDrive - University of Bergen/projects/peprmint/dev/pepr2ds/pepr2ds/__init__.py'>"
      ]
     },
     "execution_count": 14,
     "metadata": {},
     "output_type": "execute_result"
    },
    {
     "name": "stderr",
     "output_type": "stream",
     "text": [
      "/Users/thibault/miniconda3/envs/peprmint/lib/python3.7/site-packages/tqdm/std.py:699: FutureWarning: The Panel class is removed from pandas. Accessing it from the top-level namespace will also be removed in the next version\n",
      "  from pandas import Panel\n"
     ]
    }
   ],
   "source": [
    "if TEST_SIMILARITIES_AFCATH:\n",
    "    import importlib\n",
    "    import pepr2ds\n",
    "    importlib.reload(pepr2ds)\n",
    "    from pepr2ds.dataset.tagibs import Dataset\n",
    "    PH = Dataset(DATASET,PEPRMINT_FOLDER)\n",
    "    cathcluster_uniprot = PH.selectUniquePerCluster(DATASET.query(\"domain =='PH' and data_type == 'cathpdb'\"),\n",
    "                                   'S100',\n",
    "                                   unirefLevel\n",
    "                                  ).uniprot_acc.unique()\n",
    "    AFcluster_uniprot = PH.selectUniquePerCluster(DATASETAF.query(\"domain =='PH' and data_type == 'alfafold'\"),\n",
    "                                   'S100',\n",
    "                                   unirefLevel\n",
    "                                  ).uniprot_acc.unique()\n",
    "    structures_in_common = list(set(AFcluster_uniprot).intersection(cathcluster_uniprot))\n"
   ]
  },
  {
   "cell_type": "markdown",
   "metadata": {},
   "source": [
    "### Preparing Cath DS"
   ]
  },
  {
   "cell_type": "code",
   "execution_count": 18,
   "metadata": {},
   "outputs": [
    {
     "data": {
      "text/plain": [
       "<module 'pepr2ds' from '/Users/thibault/OneDrive - University of Bergen/projects/peprmint/dev/pepr2ds/pepr2ds/__init__.py'>"
      ]
     },
     "execution_count": 18,
     "metadata": {},
     "output_type": "execute_result"
    },
    {
     "name": "stdout",
     "output_type": "stream",
     "text": [
      "Domain= PH\n",
      "selecting amino acids\n",
      "/Users/thibault/Documents/WORK/peprmint/databases/cath//domains/PH/zaligned\n",
      "UPDATING COORDINATES\n"
     ]
    },
    {
     "data": {
      "application/vnd.jupyter.widget-view+json": {
       "model_id": "62bf246e777a49d4afe71e1a7083b9d0",
       "version_major": 2,
       "version_minor": 0
      },
      "text/plain": [
       "HBox(children=(HTML(value=''), FloatProgress(value=0.0, max=91.0), HTML(value='')))"
      ]
     },
     "metadata": {},
     "output_type": "display_data"
    },
    {
     "name": "stdout",
     "output_type": "stream",
     "text": [
      "\n",
      "taggin IBS\n"
     ]
    },
    {
     "data": {
      "application/vnd.jupyter.widget-view+json": {
       "model_id": "554d3e9418ae4b088a3795f3a4ee3460",
       "version_major": 2,
       "version_minor": 0
      },
      "text/plain": [
       "HBox(children=(HTML(value=''), FloatProgress(value=0.0, max=91.0), HTML(value='')))"
      ]
     },
     "metadata": {},
     "output_type": "display_data"
    },
    {
     "name": "stdout",
     "output_type": "stream",
     "text": [
      "\n",
      "len IBS 91\n",
      "len nonIBS 91\n",
      "Domain= PH\n",
      "selecting amino acids\n",
      "/Users/thibault/Documents/WORK/peprmint/databases/aligned_cath-AF/PH/zaligned\n",
      "UPDATING COORDINATES\n"
     ]
    },
    {
     "data": {
      "application/vnd.jupyter.widget-view+json": {
       "model_id": "6a0f3b7557c549fdade5f824e2059197",
       "version_major": 2,
       "version_minor": 0
      },
      "text/plain": [
       "HBox(children=(HTML(value=''), FloatProgress(value=0.0, max=91.0), HTML(value='')))"
      ]
     },
     "metadata": {},
     "output_type": "display_data"
    },
    {
     "name": "stdout",
     "output_type": "stream",
     "text": [
      "\n",
      "taggin IBS\n"
     ]
    },
    {
     "data": {
      "application/vnd.jupyter.widget-view+json": {
       "model_id": "e578bc17cf3f403b8ce86aeab5f7c43e",
       "version_major": 2,
       "version_minor": 0
      },
      "text/plain": [
       "HBox(children=(HTML(value=''), FloatProgress(value=0.0, max=91.0), HTML(value='')))"
      ]
     },
     "metadata": {},
     "output_type": "display_data"
    },
    {
     "name": "stdout",
     "output_type": "stream",
     "text": [
      "\n",
      "len IBS 90\n",
      "len nonIBS 91\n"
     ]
    },
    {
     "data": {
      "text/markdown": [
       "<span style='color:None'>**STATISTICAL TEST BETWEEN TWO SAMPLES**</span>"
      ],
      "text/plain": [
       "<IPython.core.display.Markdown object>"
      ]
     },
     "metadata": {},
     "output_type": "display_data"
    },
    {
     "data": {
      "text/markdown": [
       "<span style='color:None'> - ALTERNATIVE HYPOTHESIS = two-sided</span>"
      ],
      "text/plain": [
       "<IPython.core.display.Markdown object>"
      ]
     },
     "metadata": {},
     "output_type": "display_data"
    },
    {
     "data": {
      "text/markdown": [
       "<span style='color:None'>**NORMALITY TEST (shapiro)**</span>"
      ],
      "text/plain": [
       "<IPython.core.display.Markdown object>"
      ]
     },
     "metadata": {},
     "output_type": "display_data"
    },
    {
     "data": {
      "text/markdown": [
       "<span style='color:None'>*The two samples should follow a normal law to use a standard t.test*</span>"
      ],
      "text/plain": [
       "<IPython.core.display.Markdown object>"
      ]
     },
     "metadata": {},
     "output_type": "display_data"
    },
    {
     "data": {
      "text/markdown": [
       "<span style='color:red'>---- Sample 1 shapioro test pvalue = 2.44E-04, <= 0.05. This sample DO NOT follow a normal law</span>"
      ],
      "text/plain": [
       "<IPython.core.display.Markdown object>"
      ]
     },
     "metadata": {},
     "output_type": "display_data"
    },
    {
     "data": {
      "text/markdown": [
       "<span style='color:red'>---- Sample 1 shapioro test pvalue = 2.73E-04, <= 0.05. This sample DO NOT follow a normal law</span>"
      ],
      "text/plain": [
       "<IPython.core.display.Markdown object>"
      ]
     },
     "metadata": {},
     "output_type": "display_data"
    },
    {
     "data": {
      "text/markdown": [
       "<span style='color:None'>One or both sample(s) doesn't follow a normal law.</span>"
      ],
      "text/plain": [
       "<IPython.core.display.Markdown object>"
      ]
     },
     "metadata": {},
     "output_type": "display_data"
    },
    {
     "data": {
      "text/markdown": [
       "<span style='color:None'>**WILCOXON SIGNED-RANK TEST**</span>"
      ],
      "text/plain": [
       "<IPython.core.display.Markdown object>"
      ]
     },
     "metadata": {},
     "output_type": "display_data"
    },
    {
     "data": {
      "text/markdown": [
       "<span style='color:None'>  Null hypothesis : the two distribution are equals</span>"
      ],
      "text/plain": [
       "<IPython.core.display.Markdown object>"
      ]
     },
     "metadata": {},
     "output_type": "display_data"
    },
    {
     "data": {
      "text/markdown": [
       "<span style='color:None'>  Alternative hypothesis : pop1 ≠ pop2</span>"
      ],
      "text/plain": [
       "<IPython.core.display.Markdown object>"
      ]
     },
     "metadata": {},
     "output_type": "display_data"
    },
    {
     "data": {
      "text/markdown": [
       "<span style='color:blue'>  pvalue = 2.59E-01 which is > 0.05. The null hypothesis not rejected. Both distributions are not statistically differents.</span>"
      ],
      "text/plain": [
       "<IPython.core.display.Markdown object>"
      ]
     },
     "metadata": {},
     "output_type": "display_data"
    }
   ],
   "source": [
    "if TEST_SIMILARITIES_AFCATH:\n",
    "    import importlib\n",
    "    import pepr2ds\n",
    "    importlib.reload(pepr2ds)\n",
    "    from pepr2ds.dataset.tagibs import Dataset\n",
    "\n",
    "    PH = Dataset(DATASET,PEPRMINT_FOLDER)\n",
    "    PH.tag_ibs(DATASETAF, \n",
    "                domain = 'PH', #Domain\n",
    "                pdbreference = \"2da0A00\", #PDB Template\n",
    "                includeResidueRange = [[20,26],[42,50]], #Include those residues in IBS\n",
    "                excludeResidueRange=[], #Exclude thoses residues from IBS\n",
    "                extendSS=False, #Extend the secondary structures\n",
    "                withAlignment=False, #restrict the results with pdb that have a sequences.\n",
    "                onlyC=False, #get only COIL in the IBS.\n",
    "                cathCluster=clusterLevel, #Structure redundancy filter\n",
    "                Uniref=unirefLevel, #Sequence redundancy filter\n",
    "                addSequence=False, #add the non structural data in the IBS/NONIBS dataset.\n",
    "                extendAlign=False, #Extend the secondary structure instead of a raw \"cut\" based on the alignment position\n",
    "                excludeStrand=False, #Exclude \"strand\" From secondary structure\n",
    "                overide_axis_mode = True, #use the Zaxis instead of the alignment to tag the IBS\n",
    "                zaxis=ZAXISLEVEL, #Z axis plane to define \"IBS\" or not IBS\n",
    "                extendCoilOnly = False, #Extend coil only.\n",
    "                coordinates_folder_name = 'zaligned', #Where are the PDBs\n",
    "                filter_uniprot_acc = structures_in_common,\n",
    "               data_type = 'cath',\n",
    "              )\n",
    "    \n",
    "    PHAF = Dataset(DATASETAF,PEPRMINT_FOLDER)\n",
    "    PHAF.tag_ibs(DATASETAF, \n",
    "            domain = 'PH', #Domain\n",
    "            pdbreference = \"2da0A00\", #PDB Template\n",
    "            includeResidueRange = [[20,26],[42,50]], #Include those residues in IBS\n",
    "            excludeResidueRange=[], #Exclude thoses residues from IBS\n",
    "            extendSS=False, #Extend the secondary structures\n",
    "            withAlignment=False, #restrict the results with pdb that have a sequences.\n",
    "            onlyC=False, #get only COIL in the IBS.\n",
    "            cathCluster=clusterLevel, #Structure redundancy filter\n",
    "            Uniref=unirefLevel, #Sequence redundancy filter\n",
    "            addSequence=False, #add the non structural data in the IBS/NONIBS dataset.\n",
    "            extendAlign=False, #Extend the secondary structure instead of a raw \"cut\" based on the alignment position\n",
    "            excludeStrand=False, #Exclude \"strand\" From secondary structure\n",
    "            overide_axis_mode = True, #use the Zaxis instead of the alignment to tag the IBS\n",
    "            zaxis=ZAXISLEVEL, #Z axis plane to define \"IBS\" or not IBS\n",
    "            extendCoilOnly = False, #Extend coil only.\n",
    "            coordinates_folder_name = 'zaligned', #Where are the PDBs\n",
    "            filter_uniprot_acc = structures_in_common,\n",
    "           data_type = 'alfafold',\n",
    "           base_folder='aligned_cath-AF',\n",
    "          )\n",
    "    \n",
    "    def get_protrusions(dataset):\n",
    "        def return_num_protrusion(group):\n",
    "            return(len(group.query(\"is_hydrophobic_protrusion == True and atom_name == 'CB'\")))\n",
    "        num_protrusion = dataset.groupby('uniprot_acc').apply(lambda x: return_num_protrusion(x))\n",
    "        return num_protrusion\n",
    "\n",
    "    protrusions_per_structure_CATH = get_protrusions(PH.domainDf)\n",
    "    protrusions_per_structure_AF = get_protrusions(PHAF.domainDf)\n",
    "    uniprot_in_common = list(set(protrusions_per_structure_CATH.index).intersection(protrusions_per_structure_AF.index))\n",
    "    equality_test(protrusions_per_structure_CATH[uniprot_in_common],\n",
    "                  protrusions_per_structure_AF[uniprot_in_common],\n",
    "                  pairwised=True)\n",
    "    \n",
    "    \n"
   ]
  },
  {
   "cell_type": "code",
   "execution_count": 17,
   "metadata": {},
   "outputs": [
    {
     "data": {
      "text/markdown": [
       "<span style='color:None'>**STATISTICAL TEST BETWEEN TWO SAMPLES**</span>"
      ],
      "text/plain": [
       "<IPython.core.display.Markdown object>"
      ]
     },
     "metadata": {},
     "output_type": "display_data"
    },
    {
     "data": {
      "text/markdown": [
       "<span style='color:None'> - ALTERNATIVE HYPOTHESIS = two-sided</span>"
      ],
      "text/plain": [
       "<IPython.core.display.Markdown object>"
      ]
     },
     "metadata": {},
     "output_type": "display_data"
    },
    {
     "data": {
      "text/markdown": [
       "<span style='color:None'>**NORMALITY TEST (shapiro)**</span>"
      ],
      "text/plain": [
       "<IPython.core.display.Markdown object>"
      ]
     },
     "metadata": {},
     "output_type": "display_data"
    },
    {
     "data": {
      "text/markdown": [
       "<span style='color:None'>*The two samples should follow a normal law to use a standard t.test*</span>"
      ],
      "text/plain": [
       "<IPython.core.display.Markdown object>"
      ]
     },
     "metadata": {},
     "output_type": "display_data"
    },
    {
     "data": {
      "text/markdown": [
       "<span style='color:red'>---- Sample 1 shapioro test pvalue = 1.33E-07, <= 0.05. This sample DO NOT follow a normal law</span>"
      ],
      "text/plain": [
       "<IPython.core.display.Markdown object>"
      ]
     },
     "metadata": {},
     "output_type": "display_data"
    },
    {
     "data": {
      "text/markdown": [
       "<span style='color:red'>---- Sample 1 shapioro test pvalue = 1.37E-07, <= 0.05. This sample DO NOT follow a normal law</span>"
      ],
      "text/plain": [
       "<IPython.core.display.Markdown object>"
      ]
     },
     "metadata": {},
     "output_type": "display_data"
    },
    {
     "data": {
      "text/markdown": [
       "<span style='color:None'>One or both sample(s) doesn't follow a normal law.</span>"
      ],
      "text/plain": [
       "<IPython.core.display.Markdown object>"
      ]
     },
     "metadata": {},
     "output_type": "display_data"
    },
    {
     "data": {
      "text/markdown": [
       "<span style='color:None'>**WILCOXON SIGNED-RANK TEST**</span>"
      ],
      "text/plain": [
       "<IPython.core.display.Markdown object>"
      ]
     },
     "metadata": {},
     "output_type": "display_data"
    },
    {
     "data": {
      "text/markdown": [
       "<span style='color:None'>  Null hypothesis : the two distribution are equals</span>"
      ],
      "text/plain": [
       "<IPython.core.display.Markdown object>"
      ]
     },
     "metadata": {},
     "output_type": "display_data"
    },
    {
     "data": {
      "text/markdown": [
       "<span style='color:None'>  Alternative hypothesis : pop1 ≠ pop2</span>"
      ],
      "text/plain": [
       "<IPython.core.display.Markdown object>"
      ]
     },
     "metadata": {},
     "output_type": "display_data"
    },
    {
     "data": {
      "text/markdown": [
       "<span style='color:red'>  pvalue = 4.72E-02 which is <= 0.05. The null hypothesis is rejected. The alternative hypothesis (ftwo-sided) is valid and the two distrubition are different</span>"
      ],
      "text/plain": [
       "<IPython.core.display.Markdown object>"
      ]
     },
     "metadata": {},
     "output_type": "display_data"
    }
   ],
   "source": [
    "protrusions_per_structure_CATH = get_protrusions(PH.domainDf.query(\"IBS == True\"))\n",
    "protrusions_per_structure_AF = get_protrusions(PHAF.domainDf.query(\"IBS == True\"))\n",
    "uniprot_in_common.sort()\n",
    "equality_test(protrusions_per_structure_CATH[uniprot_in_common],\n",
    "            protrusions_per_structure_AF[uniprot_in_common],\n",
    "            pairwised=True)"
   ]
  },
  {
   "cell_type": "markdown",
   "metadata": {},
   "source": [
    "# Taggin IBS for datasets"
   ]
  },
  {
   "cell_type": "markdown",
   "metadata": {},
   "source": [
    "## PH domain"
   ]
  },
  {
   "cell_type": "code",
   "execution_count": 14,
   "metadata": {},
   "outputs": [
    {
     "data": {
      "text/plain": [
       "<module 'pepr2ds' from '/Users/thibault/OneDrive - University of Bergen/projects/peprmint/dev/pepermintdataset/pepr2ds/__init__.py'>"
      ]
     },
     "execution_count": 14,
     "metadata": {},
     "output_type": "execute_result"
    },
    {
     "name": "stdout",
     "output_type": "stream",
     "text": [
      "Domain= PH\n",
      "selecting amino acids\n",
      "/Users/thibault/Documents/WORK/peprmint/databases/aligned_cath-AF/PH/zaligned\n",
      "UPDATING COORDINATES\n"
     ]
    },
    {
     "data": {
      "application/vnd.jupyter.widget-view+json": {
       "model_id": "02a833199d1741889a0a926bab2d4af0",
       "version_major": 2,
       "version_minor": 0
      },
      "text/plain": [
       "HBox(children=(HTML(value=''), FloatProgress(value=0.0, max=876.0), HTML(value='')))"
      ]
     },
     "metadata": {},
     "output_type": "display_data"
    },
    {
     "name": "stdout",
     "output_type": "stream",
     "text": [
      "\n",
      "taggin IBS\n"
     ]
    },
    {
     "data": {
      "application/vnd.jupyter.widget-view+json": {
       "model_id": "9e4c9b83c22e4a0ab0538df113735fa6",
       "version_major": 2,
       "version_minor": 0
      },
      "text/plain": [
       "HBox(children=(HTML(value=''), FloatProgress(value=0.0, max=876.0), HTML(value='')))"
      ]
     },
     "metadata": {},
     "output_type": "display_data"
    },
    {
     "name": "stdout",
     "output_type": "stream",
     "text": [
      "\n",
      "len IBS 869\n",
      "len nonIBS 876\n"
     ]
    }
   ],
   "source": [
    "import importlib\n",
    "import pepr2ds\n",
    "importlib.reload(pepr2ds)\n",
    "from pepr2ds.dataset.tagibs import Dataset\n",
    "PH = Dataset(DATASET,PEPRMINT_FOLDER)\n",
    "PH.tag_ibs(\n",
    "    DATASETAF, \n",
    "            domain = 'PH', #Domain\n",
    "            pdbreference = \"2da0A00\", #PDB Template\n",
    "            includeResidueRange = [[20,26],[42,50]], #Include those residues in IBS\n",
    "            excludeResidueRange=[], #Exclude thoses residues from IBS\n",
    "            extendSS=False, #Extend the secondary structures\n",
    "            withAlignment=False, #restrict the results with pdb that have a sequences.\n",
    "            onlyC=False, #get only COIL in the IBS.\n",
    "            cathCluster=clusterLevel, #Structure redundancy filter\n",
    "            Uniref=unirefLevel, #Sequence redundancy filter\n",
    "            addSequence=False, #add the non structural data in the IBS/NONIBS dataset.\n",
    "            extendAlign=False, #Extend the secondary structure instead of a raw \"cut\" based on the alignment position\n",
    "            excludeStrand=False, #Exclude \"strand\" From secondary structure\n",
    "            overide_axis_mode = True, #use the Zaxis instead of the alignment to tag the IBS\n",
    "            zaxis=ZAXISLEVEL, #Z axis plane to define \"IBS\" or not IBS\n",
    "            extendCoilOnly = False, #Extend coil only.\n",
    "            coordinates_folder_name = 'zaligned', #Where are the PDBs\n",
    "           data_type = 'cath+af',\n",
    "           base_folder='aligned_cath-AF',\n",
    "          )"
   ]
  },
  {
   "cell_type": "markdown",
   "metadata": {},
   "source": [
    "## C2 Domain"
   ]
  },
  {
   "cell_type": "code",
   "execution_count": 190,
   "metadata": {},
   "outputs": [
    {
     "name": "stdout",
     "output_type": "stream",
     "text": [
      "rotation matrix: [[ 0.1887791   0.22999595  0.9547064 ]\n",
      " [ 0.22999595  0.93479195 -0.27067671]\n",
      " [-0.9547064   0.27067671  0.12357105]]\n",
      "translation vector: [13.591332, -2.3096669, 1.071]\n",
      "100%|█████████████████████████████████████████| 763/763 [00:29<00:00, 25.63it/s]\n",
      "Done\n"
     ]
    }
   ],
   "source": [
    "## Command line for alignment!!!!\n",
    "if DO_ALIGNMENT:\n",
    "    !/Users/thibault/miniconda3/envs/peprmint/bin/python ~/OneDrive\\ -\\ University\\ of\\ Bergen/projects/peprmint/dev/pepermintdataset/scripts/align_on_z.py -d C2 -ref 1rsyA00 -res1 169 -res2 178 -res3 237 -i 'aligned/output' -o 'zaligned' -dir \"aligned_cath-AF\""
   ]
  },
  {
   "cell_type": "code",
   "execution_count": 9,
   "metadata": {},
   "outputs": [
    {
     "name": "stderr",
     "output_type": "stream",
     "text": [
      "/Users/thibault/miniconda3/envs/peprmint/lib/python3.7/site-packages/tqdm/std.py:699: FutureWarning: The Panel class is removed from pandas. Accessing it from the top-level namespace will also be removed in the next version\n",
      "  from pandas import Panel\n"
     ]
    },
    {
     "data": {
      "text/plain": [
       "<module 'Ui' from '/Users/thibault/OneDrive - University of Bergen/projects/peprmint/dev/pepermintdataset/notebooks/Ui.py'>"
      ]
     },
     "execution_count": 9,
     "metadata": {},
     "output_type": "execute_result"
    },
    {
     "name": "stdout",
     "output_type": "stream",
     "text": [
      "Domain= C2\n",
      "selecting amino acids\n",
      "/Users/thibault/Documents/WORK/peprmint/databases/aligned_cath-AF/C2/zaligned\n",
      "UPDATING COORDINATES\n"
     ]
    },
    {
     "data": {
      "application/vnd.jupyter.widget-view+json": {
       "model_id": "9526d7a1fef84451922984b3f5ae9913",
       "version_major": 2,
       "version_minor": 0
      },
      "text/plain": [
       "HBox(children=(HTML(value=''), FloatProgress(value=0.0, max=480.0), HTML(value='')))"
      ]
     },
     "metadata": {},
     "output_type": "display_data"
    },
    {
     "name": "stdout",
     "output_type": "stream",
     "text": [
      "\n",
      "taggin IBS\n"
     ]
    },
    {
     "data": {
      "application/vnd.jupyter.widget-view+json": {
       "model_id": "b3ae2eb81a274becbbabee0bbb5a7257",
       "version_major": 2,
       "version_minor": 0
      },
      "text/plain": [
       "HBox(children=(HTML(value=''), FloatProgress(value=0.0, max=480.0), HTML(value='')))"
      ]
     },
     "metadata": {},
     "output_type": "display_data"
    },
    {
     "name": "stdout",
     "output_type": "stream",
     "text": [
      "\n",
      "len IBS 480\n",
      "len nonIBS 480\n"
     ]
    }
   ],
   "source": [
    "import importlib\n",
    "import pepr2ds\n",
    "importlib.reload(pepr2ds)\n",
    "from pepr2ds.dataset.tagibs import Dataset\n",
    "C2 = Dataset(DATASET,PEPRMINT_FOLDER)\n",
    "C2.tag_ibs(DATASETAF, \n",
    "            domain = 'C2', #Domain\n",
    "            pdbreference = \"1rsyA00\",\n",
    "            includeResidueRange = [[171,177],[232,238]], #CHANGE 173 to 171 and run again!\n",
    "            excludeResidueRange=[], #Exclude thoses residues from IBS\n",
    "            extendSS=False, #Extend the secondary structures\n",
    "            withAlignment=False, #restrict the results with pdb that have a sequences.\n",
    "            onlyC=False, #get only COIL in the IBS.\n",
    "            cathCluster=clusterLevel, #Structure redundancy filter\n",
    "            Uniref=unirefLevel, #Sequence redundancy filter\n",
    "            addSequence=False, #add the non structural data in the IBS/NONIBS dataset.\n",
    "            extendAlign=False, #Extend the secondary structure instead of a raw \"cut\" based on the alignment position\n",
    "            excludeStrand=False, #Exclude \"strand\" From secondary structure\n",
    "            overide_axis_mode = True, #use the Zaxis instead of the alignment to tag the IBS\n",
    "            zaxis=ZAXISLEVEL, #Z axis plane to define \"IBS\" or not IBS\n",
    "            extendCoilOnly = False, #Extend coil only.\n",
    "            coordinates_folder_name = 'zaligned', #Where are the PDBs \n",
    "                      data_type = 'cath+af',\n",
    "           base_folder='aligned_cath-AF',\n",
    "          )\n"
   ]
  },
  {
   "cell_type": "code",
   "execution_count": 10,
   "metadata": {},
   "outputs": [
    {
     "data": {
      "application/vnd.jupyter.widget-view+json": {
       "model_id": "0058ffdde3954088ab5d65d0c8915725",
       "version_major": 2,
       "version_minor": 0
      },
      "text/plain": [
       "NGLWidget()"
      ]
     },
     "metadata": {},
     "output_type": "display_data"
    }
   ],
   "source": [
    "C2.show_structure_and_plane('1rlwA00')"
   ]
  },
  {
   "cell_type": "markdown",
   "metadata": {},
   "source": [
    "## START Domain"
   ]
  },
  {
   "cell_type": "markdown",
   "metadata": {},
   "source": [
    "### orientation 1"
   ]
  },
  {
   "cell_type": "code",
   "execution_count": 148,
   "metadata": {},
   "outputs": [
    {
     "name": "stdout",
     "output_type": "stream",
     "text": [
      "rotation matrix: [[ 0.86034084  0.01170914 -0.50958466]\n",
      " [ 0.01170914  0.9990183   0.04272399]\n",
      " [ 0.50958466 -0.04272399  0.85935914]]\n",
      "translation vector: [-15.211999, 1.289, 3.727]\n",
      "100%|█████████████████████████████████████████| 520/520 [00:27<00:00, 18.95it/s]\n",
      "Done\n"
     ]
    }
   ],
   "source": [
    "if DO_ALIGNMENT:\n",
    "    !/Users/thibault/miniconda3/envs/peprmint/bin/python ~/OneDrive\\ -\\ University\\ of\\ Bergen/projects/peprmint/dev/pepermintdataset/scripts/align_on_z.py -d START -ref 2e3mA00 -res1 412 -res2 448 -res3 515 -i 'aligned/output' -o 'orientationA' -dir \"aligned_cath-AF\""
   ]
  },
  {
   "cell_type": "code",
   "execution_count": 178,
   "metadata": {},
   "outputs": [
    {
     "name": "stderr",
     "output_type": "stream",
     "text": [
      "/Users/thibault/miniconda3/envs/peprmint/lib/python3.7/site-packages/tqdm/std.py:699: FutureWarning: The Panel class is removed from pandas. Accessing it from the top-level namespace will also be removed in the next version\n",
      "  from pandas import Panel\n"
     ]
    },
    {
     "data": {
      "text/plain": [
       "<module 'Ui' from '/Users/thibault/OneDrive - University of Bergen/projects/peprmint/dev/pepermintdataset/notebooks/Ui.py'>"
      ]
     },
     "execution_count": 178,
     "metadata": {},
     "output_type": "execute_result"
    },
    {
     "name": "stdout",
     "output_type": "stream",
     "text": [
      "Domain= START\n",
      "selecting amino acids\n",
      "/Users/thibault/Documents/WORK/peprmint/databases/aligned_cath-AF/START/orientationA\n",
      "UPDATING COORDINATES\n"
     ]
    },
    {
     "data": {
      "application/vnd.jupyter.widget-view+json": {
       "model_id": "b08762f072d14dfc8b37e3549df82aa5",
       "version_major": 2,
       "version_minor": 0
      },
      "text/plain": [
       "HBox(children=(HTML(value=''), FloatProgress(value=0.0, max=265.0), HTML(value='')))"
      ]
     },
     "metadata": {},
     "output_type": "display_data"
    },
    {
     "name": "stdout",
     "output_type": "stream",
     "text": [
      "\n",
      "taggin IBS\n"
     ]
    },
    {
     "data": {
      "application/vnd.jupyter.widget-view+json": {
       "model_id": "ff17e600759a4c0da1e9501ce8a13713",
       "version_major": 2,
       "version_minor": 0
      },
      "text/plain": [
       "HBox(children=(HTML(value=''), FloatProgress(value=0.0, max=265.0), HTML(value='')))"
      ]
     },
     "metadata": {},
     "output_type": "display_data"
    },
    {
     "name": "stdout",
     "output_type": "stream",
     "text": [
      "\n",
      "len IBS 265\n",
      "len nonIBS 265\n"
     ]
    }
   ],
   "source": [
    "import importlib\n",
    "import pepr2ds\n",
    "importlib.reload(pepr2ds)\n",
    "from pepr2ds.dataset.tagibs import Dataset\n",
    "STARTo1 = Dataset(DATASET,PEPRMINT_FOLDER)\n",
    "STARTo1.tag_ibs(DATASETAF, \n",
    "            domain = 'START', #Domain\n",
    "            pdbreference = \"2e3mA00\",\n",
    "            includeResidueRange = [], #CHANGE 173 to 171 and run again!\n",
    "            excludeResidueRange=[], #Exclude thoses residues from IBS\n",
    "            extendSS=False, #Extend the secondary structures\n",
    "            withAlignment=False, #restrict the results with pdb that have a sequences.\n",
    "            onlyC=False, #get only COIL in the IBS.\n",
    "            cathCluster=clusterLevel, #Structure redundancy filter\n",
    "            Uniref=unirefLevel, #Sequence redundancy filter\n",
    "            addSequence=False, #add the non structural data in the IBS/NONIBS dataset.\n",
    "            extendAlign=False, #Extend the secondary structure instead of a raw \"cut\" based on the alignment position\n",
    "            excludeStrand=False, #Exclude \"strand\" From secondary structure\n",
    "            overide_axis_mode = True, #use the Zaxis instead of the alignment to tag the IBS\n",
    "            zaxis=ZAXISLEVEL, #Z axis plane to define \"IBS\" or not IBS\n",
    "            extendCoilOnly = False, #Extend coil only.\n",
    "            coordinates_folder_name = \"orientationA\",\n",
    "                data_type = 'cath+af',\n",
    "           base_folder='aligned_cath-AF',\n",
    ")"
   ]
  },
  {
   "cell_type": "markdown",
   "metadata": {},
   "source": [
    "## C1"
   ]
  },
  {
   "cell_type": "code",
   "execution_count": 150,
   "metadata": {},
   "outputs": [
    {
     "name": "stdout",
     "output_type": "stream",
     "text": [
      "rotation matrix: [[-0.12685223 -0.15343192  0.97998324]\n",
      " [-0.15343192  0.97910875  0.13343427]\n",
      " [-0.97998324 -0.13343427 -0.14774348]]\n",
      "translation vector: [7.2689996, 2.1923335, 1.1389999]\n",
      "100%|█████████████████████████████████████████| 333/333 [00:05<00:00, 61.15it/s]\n",
      "Done\n"
     ]
    }
   ],
   "source": [
    "if DO_ALIGNMENT:\n",
    "    !/Users/thibault/miniconda3/envs/peprmint/bin/python ~/OneDrive\\ -\\ University\\ of\\ Bergen/projects/peprmint/dev/pepermintdataset/scripts/align_on_z.py -d C1 -ref 1ptrA00 -res1 243 -res2 257 -res3 237 -i 'aligned/output' -o 'zaligned' -dir \"aligned_cath-AF\""
   ]
  },
  {
   "cell_type": "code",
   "execution_count": 179,
   "metadata": {},
   "outputs": [
    {
     "name": "stderr",
     "output_type": "stream",
     "text": [
      "/Users/thibault/miniconda3/envs/peprmint/lib/python3.7/site-packages/tqdm/std.py:699: FutureWarning: The Panel class is removed from pandas. Accessing it from the top-level namespace will also be removed in the next version\n",
      "  from pandas import Panel\n"
     ]
    },
    {
     "data": {
      "text/plain": [
       "<module 'Ui' from '/Users/thibault/OneDrive - University of Bergen/projects/peprmint/dev/pepermintdataset/notebooks/Ui.py'>"
      ]
     },
     "execution_count": 179,
     "metadata": {},
     "output_type": "execute_result"
    },
    {
     "name": "stdout",
     "output_type": "stream",
     "text": [
      "Domain= C1\n",
      "selecting amino acids\n",
      "/Users/thibault/Documents/WORK/peprmint/databases/aligned_cath-AF/C1/zaligned\n",
      "UPDATING COORDINATES\n"
     ]
    },
    {
     "data": {
      "application/vnd.jupyter.widget-view+json": {
       "model_id": "5679f4c23e9e40e4b1fe4e17176ed243",
       "version_major": 2,
       "version_minor": 0
      },
      "text/plain": [
       "HBox(children=(HTML(value=''), FloatProgress(value=0.0, max=199.0), HTML(value='')))"
      ]
     },
     "metadata": {},
     "output_type": "display_data"
    },
    {
     "name": "stdout",
     "output_type": "stream",
     "text": [
      "\n",
      "taggin IBS\n"
     ]
    },
    {
     "data": {
      "application/vnd.jupyter.widget-view+json": {
       "model_id": "b2b9a4b59fc04d8bba0ae3fa0dd1147f",
       "version_major": 2,
       "version_minor": 0
      },
      "text/plain": [
       "HBox(children=(HTML(value=''), FloatProgress(value=0.0, max=199.0), HTML(value='')))"
      ]
     },
     "metadata": {},
     "output_type": "display_data"
    },
    {
     "name": "stdout",
     "output_type": "stream",
     "text": [
      "\n",
      "len IBS 199\n",
      "len nonIBS 199\n"
     ]
    }
   ],
   "source": [
    "import importlib\n",
    "import pepr2ds\n",
    "importlib.reload(pepr2ds)\n",
    "from pepr2ds.dataset.tagibs import Dataset\n",
    "C1 = Dataset(DATASET,PEPRMINT_FOLDER)\n",
    "C1.tag_ibs(DATASETAF, \n",
    "            domain = 'C1', #Domain\n",
    "            pdbreference = \"1ptrA00\",\n",
    "            includeResidueRange = [], #CHANGE 173 to 171 and run again!\n",
    "            excludeResidueRange=[], #Exclude thoses residues from IBS\n",
    "            extendSS=False, #Extend the secondary structures\n",
    "            withAlignment=False, #restrict the results with pdb that have a sequences.\n",
    "            onlyC=False, #get only COIL in the IBS.\n",
    "            cathCluster=clusterLevel, #Structure redundancy filter\n",
    "            Uniref=unirefLevel, #Sequence redundancy filter\n",
    "            addSequence=False, #add the non structural data in the IBS/NONIBS dataset.\n",
    "            extendAlign=False, #Extend the secondary structure instead of a raw \"cut\" based on the alignment position\n",
    "            excludeStrand=False, #Exclude \"strand\" From secondary structure\n",
    "            overide_axis_mode = True, #use the Zaxis instead of the alignment to tag the IBS\n",
    "            zaxis=ZAXISLEVEL, #Z axis plane to define \"IBS\" or not IBS\n",
    "            extendCoilOnly = False, #Extend coil only.\n",
    "            coordinates_folder_name = \"zaligned\" ,\n",
    "           data_type = 'cath+af',\n",
    "           base_folder='aligned_cath-AF',\n",
    "          )"
   ]
  },
  {
   "cell_type": "markdown",
   "metadata": {},
   "source": [
    "## C2DIS"
   ]
  },
  {
   "cell_type": "code",
   "execution_count": 152,
   "metadata": {},
   "outputs": [
    {
     "name": "stdout",
     "output_type": "stream",
     "text": [
      "rotation matrix: [[ 0.62704971  0.27073276 -0.73041936]\n",
      " [ 0.27073276  0.80346918  0.53022735]\n",
      " [ 0.73041936 -0.53022735  0.43051889]]\n",
      "translation vector: [-8.084334, 5.905, 8.721]\n",
      "100%|███████████████████████████████████████| 1354/1354 [01:12<00:00, 18.79it/s]\n",
      "Done\n"
     ]
    }
   ],
   "source": [
    "if DO_ALIGNMENT:\n",
    "    !/Users/thibault/miniconda3/envs/peprmint/bin/python ~/OneDrive\\ -\\ University\\ of\\ Bergen/projects/peprmint/dev/pepermintdataset/scripts/align_on_z.py -d C2DIS -ref 1czsA00 -res1 23 -res2 76 -res3 45 -i 'aligned/output' -o 'zaligned' -dir \"aligned_cath-AF\""
   ]
  },
  {
   "cell_type": "code",
   "execution_count": 180,
   "metadata": {},
   "outputs": [
    {
     "name": "stderr",
     "output_type": "stream",
     "text": [
      "/Users/thibault/miniconda3/envs/peprmint/lib/python3.7/site-packages/tqdm/std.py:699: FutureWarning: The Panel class is removed from pandas. Accessing it from the top-level namespace will also be removed in the next version\n",
      "  from pandas import Panel\n"
     ]
    },
    {
     "data": {
      "text/plain": [
       "<module 'Ui' from '/Users/thibault/OneDrive - University of Bergen/projects/peprmint/dev/pepermintdataset/notebooks/Ui.py'>"
      ]
     },
     "execution_count": 180,
     "metadata": {},
     "output_type": "execute_result"
    },
    {
     "name": "stdout",
     "output_type": "stream",
     "text": [
      "Domain= C2DIS\n",
      "selecting amino acids\n",
      "/Users/thibault/Documents/WORK/peprmint/databases/aligned_cath-AF/C2DIS/zaligned\n",
      "UPDATING COORDINATES\n"
     ]
    },
    {
     "data": {
      "application/vnd.jupyter.widget-view+json": {
       "model_id": "7a45a114e0d44abc8181c4ee06f873bf",
       "version_major": 2,
       "version_minor": 0
      },
      "text/plain": [
       "HBox(children=(HTML(value=''), FloatProgress(value=0.0, max=368.0), HTML(value='')))"
      ]
     },
     "metadata": {},
     "output_type": "display_data"
    },
    {
     "name": "stdout",
     "output_type": "stream",
     "text": [
      "\n",
      "taggin IBS\n"
     ]
    },
    {
     "data": {
      "application/vnd.jupyter.widget-view+json": {
       "model_id": "d5ae06f6dcd8421fae768ca8c748a3be",
       "version_major": 2,
       "version_minor": 0
      },
      "text/plain": [
       "HBox(children=(HTML(value=''), FloatProgress(value=0.0, max=368.0), HTML(value='')))"
      ]
     },
     "metadata": {},
     "output_type": "display_data"
    },
    {
     "name": "stdout",
     "output_type": "stream",
     "text": [
      "\n",
      "len IBS 361\n",
      "len nonIBS 368\n"
     ]
    }
   ],
   "source": [
    "import importlib\n",
    "import pepr2ds\n",
    "importlib.reload(pepr2ds)\n",
    "from pepr2ds.dataset.tagibs import Dataset\n",
    "C2DIS = Dataset(DATASET,PEPRMINT_FOLDER)\n",
    "C2DIS.tag_ibs(DATASETAF, \n",
    "            domain = 'C2DIS', #Domain\n",
    "            pdbreference = \"1czsA00\",\n",
    "            includeResidueRange = [], #CHANGE 173 to 171 and run again!\n",
    "            excludeResidueRange=[], #Exclude thoses residues from IBS\n",
    "            extendSS=False, #Extend the secondary structures\n",
    "            withAlignment=False, #restrict the results with pdb that have a sequences.\n",
    "            onlyC=False, #get only COIL in the IBS.\n",
    "            cathCluster=clusterLevel, #Structure redundancy filter\n",
    "            Uniref=unirefLevel, #Sequence redundancy filter\n",
    "            addSequence=False, #add the non structural data in the IBS/NONIBS dataset.\n",
    "            extendAlign=False, #Extend the secondary structure instead of a raw \"cut\" based on the alignment position\n",
    "            excludeStrand=False, #Exclude \"strand\" From secondary structure\n",
    "            overide_axis_mode = True, #use the Zaxis instead of the alignment to tag the IBS\n",
    "            zaxis=ZAXISLEVEL, #Z axis plane to define \"IBS\" or not IBS\n",
    "            extendCoilOnly = False, #Extend coil only.\n",
    "            coordinates_folder_name = \"zaligned\" ,\n",
    "           data_type = 'cath+af',\n",
    "           base_folder='aligned_cath-AF', \n",
    "          )"
   ]
  },
  {
   "cell_type": "markdown",
   "metadata": {},
   "source": [
    "## PX "
   ]
  },
  {
   "cell_type": "code",
   "execution_count": 153,
   "metadata": {},
   "outputs": [
    {
     "name": "stdout",
     "output_type": "stream",
     "text": [
      "rotation matrix: [[ 0.58488606  0.63813979  0.50068544]\n",
      " [ 0.63813979  0.01901057 -0.76968578]\n",
      " [-0.50068544  0.76968578 -0.39610338]]\n",
      "translation vector: [8.763333, -3.8356667, -1.0789999]\n",
      "100%|█████████████████████████████████████████| 225/225 [00:08<00:00, 27.02it/s]\n",
      "Done\n"
     ]
    }
   ],
   "source": [
    "if DO_ALIGNMENT:\n",
    "    !/Users/thibault/miniconda3/envs/peprmint/bin/python ~/OneDrive\\ -\\ University\\ of\\ Bergen/projects/peprmint/dev/pepermintdataset/scripts/align_on_z.py -d PX -ref 1h6hA00 -res1 33 -res2 74 -res3 100 -i 'aligned/output' -o 'zaligned' -dir \"aligned_cath-AF\""
   ]
  },
  {
   "cell_type": "code",
   "execution_count": 181,
   "metadata": {},
   "outputs": [
    {
     "name": "stderr",
     "output_type": "stream",
     "text": [
      "/Users/thibault/miniconda3/envs/peprmint/lib/python3.7/site-packages/tqdm/std.py:699: FutureWarning: The Panel class is removed from pandas. Accessing it from the top-level namespace will also be removed in the next version\n",
      "  from pandas import Panel\n"
     ]
    },
    {
     "data": {
      "text/plain": [
       "<module 'Ui' from '/Users/thibault/OneDrive - University of Bergen/projects/peprmint/dev/pepermintdataset/notebooks/Ui.py'>"
      ]
     },
     "execution_count": 181,
     "metadata": {},
     "output_type": "execute_result"
    },
    {
     "name": "stdout",
     "output_type": "stream",
     "text": [
      "Domain= PX\n",
      "selecting amino acids\n",
      "/Users/thibault/Documents/WORK/peprmint/databases/aligned_cath-AF/PX/zaligned\n",
      "UPDATING COORDINATES\n"
     ]
    },
    {
     "data": {
      "application/vnd.jupyter.widget-view+json": {
       "model_id": "32b98e35c7ec41e293ed4c91266eb69d",
       "version_major": 2,
       "version_minor": 0
      },
      "text/plain": [
       "HBox(children=(HTML(value=''), FloatProgress(value=0.0, max=155.0), HTML(value='')))"
      ]
     },
     "metadata": {},
     "output_type": "display_data"
    },
    {
     "name": "stdout",
     "output_type": "stream",
     "text": [
      "\n",
      "taggin IBS\n"
     ]
    },
    {
     "data": {
      "application/vnd.jupyter.widget-view+json": {
       "model_id": "1ecbd8830b6f47edb9849b9507b444c9",
       "version_major": 2,
       "version_minor": 0
      },
      "text/plain": [
       "HBox(children=(HTML(value=''), FloatProgress(value=0.0, max=155.0), HTML(value='')))"
      ]
     },
     "metadata": {},
     "output_type": "display_data"
    },
    {
     "name": "stdout",
     "output_type": "stream",
     "text": [
      "\n",
      "len IBS 155\n",
      "len nonIBS 155\n"
     ]
    }
   ],
   "source": [
    "import importlib\n",
    "import pepr2ds\n",
    "importlib.reload(pepr2ds)\n",
    "from pepr2ds.dataset.tagibs import Dataset\n",
    "PX = Dataset(DATASET,PEPRMINT_FOLDER)\n",
    "PX.tag_ibs(DATASETAF, \n",
    "            domain = 'PX', #Domain\n",
    "            pdbreference = \"1h6hA00\",\n",
    "            includeResidueRange = [], #CHANGE 173 to 171 and run again!\n",
    "            excludeResidueRange=[], #Exclude thoses residues from IBS\n",
    "            extendSS=False, #Extend the secondary structures\n",
    "            withAlignment=False, #restrict the results with pdb that have a sequences.\n",
    "            onlyC=False, #get only COIL in the IBS.\n",
    "            cathCluster=clusterLevel, #Structure redundancy filter\n",
    "            Uniref=unirefLevel, #Sequence redundancy filter\n",
    "            addSequence=False, #add the non structural data in the IBS/NONIBS dataset.\n",
    "            extendAlign=False, #Extend the secondary structure instead of a raw \"cut\" based on the alignment position\n",
    "            excludeStrand=False, #Exclude \"strand\" From secondary structure\n",
    "            overide_axis_mode = True, #use the Zaxis instead of the alignment to tag the IBS\n",
    "            zaxis=ZAXISLEVEL, #Z axis plane to define \"IBS\" or not IBS\n",
    "            extendCoilOnly = False, #Extend coil only.\n",
    "            coordinates_folder_name = \"zaligned\" ,\n",
    "           data_type = 'cath+af',\n",
    "           base_folder='aligned_cath-AF', \n",
    "          )"
   ]
  },
  {
   "cell_type": "markdown",
   "metadata": {},
   "source": [
    "## ENTH"
   ]
  },
  {
   "cell_type": "code",
   "execution_count": 154,
   "metadata": {},
   "outputs": [
    {
     "name": "stdout",
     "output_type": "stream",
     "text": [
      "rotation matrix: [[ 0.48232716  0.80931378 -0.33521889]\n",
      " [ 0.80931378 -0.26525627  0.5240709 ]\n",
      " [ 0.33521889 -0.5240709  -0.7829291 ]]\n",
      "translation vector: [-8.942667, 11.059001, -3.0606668]\n",
      "100%|█████████████████████████████████████████| 190/190 [00:08<00:00, 23.25it/s]\n",
      "Done\n"
     ]
    }
   ],
   "source": [
    "if DO_ALIGNMENT:\n",
    "    !/Users/thibault/miniconda3/envs/peprmint/bin/python ~/OneDrive\\ -\\ University\\ of\\ Bergen/projects/peprmint/dev/pepermintdataset/scripts/align_on_z.py -d ENTH -ref 1h0aA00 -res1 17 -res2 70 -res3 116 -i 'aligned/output' -o 'zaligned' -dir \"aligned_cath-AF\""
   ]
  },
  {
   "cell_type": "code",
   "execution_count": 182,
   "metadata": {},
   "outputs": [
    {
     "name": "stderr",
     "output_type": "stream",
     "text": [
      "/Users/thibault/miniconda3/envs/peprmint/lib/python3.7/site-packages/tqdm/std.py:699: FutureWarning: The Panel class is removed from pandas. Accessing it from the top-level namespace will also be removed in the next version\n",
      "  from pandas import Panel\n"
     ]
    },
    {
     "data": {
      "text/plain": [
       "<module 'Ui' from '/Users/thibault/OneDrive - University of Bergen/projects/peprmint/dev/pepermintdataset/notebooks/Ui.py'>"
      ]
     },
     "execution_count": 182,
     "metadata": {},
     "output_type": "execute_result"
    },
    {
     "name": "stdout",
     "output_type": "stream",
     "text": [
      "Domain= ENTH\n",
      "selecting amino acids\n",
      "/Users/thibault/Documents/WORK/peprmint/databases/aligned_cath-AF/ENTH/zaligned\n",
      "UPDATING COORDINATES\n"
     ]
    },
    {
     "data": {
      "application/vnd.jupyter.widget-view+json": {
       "model_id": "9f4eaddc66b64591b607ee3ede4e3e99",
       "version_major": 2,
       "version_minor": 0
      },
      "text/plain": [
       "HBox(children=(HTML(value=''), FloatProgress(value=0.0, max=98.0), HTML(value='')))"
      ]
     },
     "metadata": {},
     "output_type": "display_data"
    },
    {
     "name": "stdout",
     "output_type": "stream",
     "text": [
      "\n",
      "taggin IBS\n"
     ]
    },
    {
     "data": {
      "application/vnd.jupyter.widget-view+json": {
       "model_id": "a86157e59ea14e4882ef067ce7c205c2",
       "version_major": 2,
       "version_minor": 0
      },
      "text/plain": [
       "HBox(children=(HTML(value=''), FloatProgress(value=0.0, max=98.0), HTML(value='')))"
      ]
     },
     "metadata": {},
     "output_type": "display_data"
    },
    {
     "name": "stdout",
     "output_type": "stream",
     "text": [
      "\n",
      "len IBS 98\n",
      "len nonIBS 98\n"
     ]
    }
   ],
   "source": [
    "import importlib\n",
    "import pepr2ds\n",
    "importlib.reload(pepr2ds)\n",
    "from pepr2ds.dataset.tagibs import Dataset\n",
    "ENTH = Dataset(DATASET,PEPRMINT_FOLDER)\n",
    "ENTH.tag_ibs(DATASETAF, \n",
    "            domain = 'ENTH', #Domain\n",
    "            pdbreference = \"1h0aA00\",\n",
    "            includeResidueRange = [], #CHANGE 173 to 171 and run again!\n",
    "            excludeResidueRange=[], #Exclude thoses residues from IBS\n",
    "            extendSS=False, #Extend the secondary structures\n",
    "            withAlignment=False, #restrict the results with pdb that have a sequences.\n",
    "            onlyC=False, #get only COIL in the IBS.\n",
    "            cathCluster=clusterLevel, #Structure redundancy filter\n",
    "            Uniref=unirefLevel, #Sequence redundancy filter\n",
    "            addSequence=False, #add the non structural data in the IBS/NONIBS dataset.\n",
    "            extendAlign=False, #Extend the secondary structure instead of a raw \"cut\" based on the alignment position\n",
    "            excludeStrand=False, #Exclude \"strand\" From secondary structure\n",
    "            overide_axis_mode = True, #use the Zaxis instead of the alignment to tag the IBS\n",
    "            zaxis=ZAXISLEVEL, #Z axis plane to define \"IBS\" or not IBS\n",
    "            extendCoilOnly = False, #Extend coil only.\n",
    "            coordinates_folder_name = \"zaligned\" ,\n",
    "           data_type = 'cath+af',\n",
    "           base_folder='aligned_cath-AF', \n",
    "          )"
   ]
  },
  {
   "cell_type": "markdown",
   "metadata": {},
   "source": [
    "## PLD"
   ]
  },
  {
   "cell_type": "code",
   "execution_count": 53,
   "metadata": {},
   "outputs": [],
   "source": [
    "DATASET.domain = DATASET.domain.astype(str)\n",
    "DATASET.loc[DATASET.domain == \"PIPLC\", \"domain\"] = \"PLD\"\n"
   ]
  },
  {
   "cell_type": "code",
   "execution_count": 155,
   "metadata": {},
   "outputs": [
    {
     "name": "stdout",
     "output_type": "stream",
     "text": [
      "rotation matrix: [[ 0.94999119 -0.14647713  0.27579192]\n",
      " [-0.14647713  0.57096459  0.80780189]\n",
      " [-0.27579192 -0.80780189  0.52095578]]\n",
      "translation vector: [-0.85166645, 8.145667, 8.153333]\n",
      "100%|█████████████████████████████████████████| 198/198 [00:13<00:00, 14.96it/s]\n",
      "Done\n",
      "usage: CalcAngle Through Trajectory [-h] -d DOMAIN -ref REF -res1 RES1 -res2\n",
      "                                    RES2 -res3 RES3 [-dir DIRECTORY]\n",
      "                                    [-i INPUTFOLDER] [-o OUTPUTFOLDER]\n",
      "CalcAngle Through Trajectory: error: argument -i/--inputfolder: expected one argument\n"
     ]
    }
   ],
   "source": [
    "if DO_ALIGNMENT:\n",
    "    !/Users/thibault/miniconda3/envs/peprmint/bin/python ~/OneDrive\\ -\\ University\\ of\\ Bergen/projects/peprmint/dev/pepermintdataset/scripts/align_on_z.py -d PLD -ref 3rlhA00 -res1 59 -res2 205 -res3 198 -i 'aligned/output' -o 'orientationOPM' -dir \"aligned_cath-AF\"\n",
    "    !/Users/thibault/miniconda3/envs/peprmint/bin/python ~/OneDrive\\ -\\ University\\ of\\ Bergen/projects/peprmint/dev/pepermintdataset/scripts/align_on_z.py -d PLD -ref 3rlhA00 -res1 53 -res2 41 -res3 99 -i -i 'aligned/output' -o 'orientationCAGE' -dir \"aligned_cath-AF\"\n",
    "\n"
   ]
  },
  {
   "cell_type": "markdown",
   "metadata": {},
   "source": [
    "### Orientation OPM"
   ]
  },
  {
   "cell_type": "code",
   "execution_count": 183,
   "metadata": {},
   "outputs": [
    {
     "name": "stderr",
     "output_type": "stream",
     "text": [
      "/Users/thibault/miniconda3/envs/peprmint/lib/python3.7/site-packages/tqdm/std.py:699: FutureWarning: The Panel class is removed from pandas. Accessing it from the top-level namespace will also be removed in the next version\n",
      "  from pandas import Panel\n"
     ]
    },
    {
     "data": {
      "text/plain": [
       "<module 'Ui' from '/Users/thibault/OneDrive - University of Bergen/projects/peprmint/dev/pepermintdataset/notebooks/Ui.py'>"
      ]
     },
     "execution_count": 183,
     "metadata": {},
     "output_type": "execute_result"
    },
    {
     "name": "stdout",
     "output_type": "stream",
     "text": [
      "Domain= PLD\n",
      "selecting amino acids\n",
      "/Users/thibault/Documents/WORK/peprmint/databases/aligned_cath-AF/PLD/orientationOPM\n",
      "UPDATING COORDINATES\n"
     ]
    },
    {
     "data": {
      "application/vnd.jupyter.widget-view+json": {
       "model_id": "081b4657c5664bf19bf6855f84eb949b",
       "version_major": 2,
       "version_minor": 0
      },
      "text/plain": [
       "HBox(children=(HTML(value=''), FloatProgress(value=0.0, max=111.0), HTML(value='')))"
      ]
     },
     "metadata": {},
     "output_type": "display_data"
    },
    {
     "name": "stdout",
     "output_type": "stream",
     "text": [
      "\n",
      "taggin IBS\n"
     ]
    },
    {
     "data": {
      "application/vnd.jupyter.widget-view+json": {
       "model_id": "0de8633c0cd94cd5a65db4ff6d3f64ea",
       "version_major": 2,
       "version_minor": 0
      },
      "text/plain": [
       "HBox(children=(HTML(value=''), FloatProgress(value=0.0, max=111.0), HTML(value='')))"
      ]
     },
     "metadata": {},
     "output_type": "display_data"
    },
    {
     "name": "stdout",
     "output_type": "stream",
     "text": [
      "\n",
      "len IBS 111\n",
      "len nonIBS 111\n"
     ]
    }
   ],
   "source": [
    "import importlib\n",
    "import pepr2ds\n",
    "importlib.reload(pepr2ds)\n",
    "from pepr2ds.dataset.tagibs import Dataset\n",
    "PLDopm = Dataset(DATASET,PEPRMINT_FOLDER)\n",
    "PLDopm.tag_ibs(DATASETAF, \n",
    "            domain = 'PLD', #Domain\n",
    "            pdbreference = \"3rlhA00\",\n",
    "            includeResidueRange = [], #CHANGE 173 to 171 and run again!\n",
    "            excludeResidueRange=[], #Exclude thoses residues from IBS\n",
    "            extendSS=False, #Extend the secondary structures\n",
    "            withAlignment=False, #restrict the results with pdb that have a sequences.\n",
    "            onlyC=False, #get only COIL in the IBS.\n",
    "            cathCluster=clusterLevel, #Structure redundancy filter\n",
    "            Uniref=unirefLevel, #Sequence redundancy filter\n",
    "            addSequence=False, #add the non structural data in the IBS/NONIBS dataset.\n",
    "            extendAlign=False, #Extend the secondary structure instead of a raw \"cut\" based on the alignment position\n",
    "            excludeStrand=False, #Exclude \"strand\" From secondary structure\n",
    "            overide_axis_mode = True, #use the Zaxis instead of the alignment to tag the IBS\n",
    "            zaxis=ZAXISLEVEL, #Z axis plane to define \"IBS\" or not IBS\n",
    "            extendCoilOnly = False, #Extend coil only.\n",
    "            coordinates_folder_name = \"orientationOPM\" ,\n",
    "           data_type = 'cath+af',\n",
    "           base_folder='aligned_cath-AF', \n",
    "          )\n"
   ]
  },
  {
   "cell_type": "markdown",
   "metadata": {},
   "source": [
    "## ANNEXIN"
   ]
  },
  {
   "cell_type": "code",
   "execution_count": 156,
   "metadata": {},
   "outputs": [
    {
     "name": "stdout",
     "output_type": "stream",
     "text": [
      "rotation matrix: [[ 0.34064928  0.05187281 -0.93875837]\n",
      " [ 0.05187281  0.99591903  0.07385452]\n",
      " [ 0.93875837 -0.07385452  0.33656832]]\n",
      "translation vector: [-7.088, -0.97699994, -1.3423334]\n",
      "100%|█████████████████████████████████████████| 451/451 [00:10<00:00, 41.12it/s]\n",
      "Done\n"
     ]
    }
   ],
   "source": [
    "if DO_ALIGNMENT:\n",
    "    !/Users/thibault/miniconda3/envs/peprmint/bin/python ~/OneDrive\\ -\\ University\\ of\\ Bergen/projects/peprmint/dev/pepermintdataset/scripts/align_on_z.py -d ANNEXIN -ref 1a8aA01 -res1 25 -res2 68 -res3 77 -i 'aligned/output' -o 'zaligned' -dir \"aligned_cath-AF\"\n"
   ]
  },
  {
   "cell_type": "code",
   "execution_count": 59,
   "metadata": {},
   "outputs": [
    {
     "name": "stderr",
     "output_type": "stream",
     "text": [
      "/Users/thibault/miniconda3/envs/peprmint/lib/python3.7/site-packages/tqdm/std.py:699: FutureWarning: The Panel class is removed from pandas. Accessing it from the top-level namespace will also be removed in the next version\n",
      "  from pandas import Panel\n"
     ]
    },
    {
     "data": {
      "text/plain": [
       "<module 'Ui' from '/Users/thibault/OneDrive - University of Bergen/projects/peprmint/dev/pepermintdataset/notebooks/Ui.py'>"
      ]
     },
     "execution_count": 59,
     "metadata": {},
     "output_type": "execute_result"
    },
    {
     "name": "stdout",
     "output_type": "stream",
     "text": [
      "selecting amino acids\n",
      "UPDATING COORDINATES\n"
     ]
    },
    {
     "data": {
      "application/vnd.jupyter.widget-view+json": {
       "model_id": "fc02e2ce9f354309966323fc8f0211f4",
       "version_major": 2,
       "version_minor": 0
      },
      "text/plain": [
       "HBox(children=(HTML(value=''), FloatProgress(value=0.0, max=122.0), HTML(value='')))"
      ]
     },
     "metadata": {},
     "output_type": "display_data"
    },
    {
     "name": "stdout",
     "output_type": "stream",
     "text": [
      "\n",
      "taggin IBS\n"
     ]
    },
    {
     "data": {
      "application/vnd.jupyter.widget-view+json": {
       "model_id": "f81d877a0b8d48b48074082b973ea457",
       "version_major": 2,
       "version_minor": 0
      },
      "text/plain": [
       "HBox(children=(HTML(value=''), FloatProgress(value=0.0, max=122.0), HTML(value='')))"
      ]
     },
     "metadata": {},
     "output_type": "display_data"
    },
    {
     "name": "stdout",
     "output_type": "stream",
     "text": [
      "\n",
      "len IBS 122\n",
      "len nonIBS 122\n"
     ]
    }
   ],
   "source": [
    "import importlib\n",
    "import pepr2ds\n",
    "importlib.reload(pepr2ds)\n",
    "from pepr2ds.dataset.tagibs import Dataset\n",
    "ANNEXIN = Dataset(DATASET,PEPRMINT_FOLDER)\n",
    "ANNEXIN.tag_ibs(DATASETAF, \n",
    "            domain = 'ANNEXIN', #Domain\n",
    "            pdbreference = \"1a8aA01\",\n",
    "            includeResidueRange = [], #CHANGE 173 to 171 and run again!\n",
    "            excludeResidueRange=[], #Exclude thoses residues from IBS\n",
    "            extendSS=False, #Extend the secondary structures\n",
    "            withAlignment=False, #restrict the results with pdb that have a sequences.\n",
    "            onlyC=False, #get only COIL in the IBS.\n",
    "            cathCluster=clusterLevel, #Structure redundancy filter\n",
    "            Uniref=unirefLevel, #Sequence redundancy filter\n",
    "            addSequence=False, #add the non structural data in the IBS/NONIBS dataset.\n",
    "            extendAlign=False, #Extend the secondary structure instead of a raw \"cut\" based on the alignment position\n",
    "            excludeStrand=False, #Exclude \"strand\" From secondary structure\n",
    "            overide_axis_mode = True, #use the Zaxis instead of the alignment to tag the IBS\n",
    "            zaxis=ZAXISLEVEL, #Z axis plane to define \"IBS\" or not IBS\n",
    "            extendCoilOnly = False, #Extend coil only.\n",
    "            coordinates_folder_name = \"zaligned\"  ,\n",
    "           data_type = 'cath+af',\n",
    "           base_folder='aligned_cath-AF',\n",
    "          )"
   ]
  },
  {
   "cell_type": "markdown",
   "metadata": {},
   "source": [
    "## PLA"
   ]
  },
  {
   "cell_type": "code",
   "execution_count": 200,
   "metadata": {},
   "outputs": [
    {
     "name": "stdout",
     "output_type": "stream",
     "text": [
      "rotation matrix: [[ 0.85333715 -0.09698638  0.51225907]\n",
      " [-0.09698638  0.93586407  0.33875077]\n",
      " [-0.51225907 -0.33875077  0.78920122]]\n",
      "translation vector: [4.733333, 2.7543333, 2.415]\n",
      "100%|█████████████████████████████████████████| 539/539 [00:24<00:00, 21.69it/s]\n",
      "Done\n"
     ]
    }
   ],
   "source": [
    "if DO_ALIGNMENT:\n",
    "    !/Users/thibault/miniconda3/envs/peprmint/bin/python ~/OneDrive\\ -\\ University\\ of\\ Bergen/projects/peprmint/dev/pepermintdataset/scripts/align_on_z.py -d PLA -ref 1pocA00 -res1 7 -res2 92 -res3 76 -i 'aligned/output' -o 'zaligned' -dir \"aligned_cath-AF\""
   ]
  },
  {
   "cell_type": "code",
   "execution_count": 206,
   "metadata": {},
   "outputs": [
    {
     "name": "stderr",
     "output_type": "stream",
     "text": [
      "/Users/thibault/miniconda3/envs/peprmint/lib/python3.7/site-packages/tqdm/std.py:699: FutureWarning: The Panel class is removed from pandas. Accessing it from the top-level namespace will also be removed in the next version\n",
      "  from pandas import Panel\n"
     ]
    },
    {
     "data": {
      "text/plain": [
       "<module 'Ui' from '/Users/thibault/OneDrive - University of Bergen/projects/peprmint/dev/pepermintdataset/notebooks/Ui.py'>"
      ]
     },
     "execution_count": 206,
     "metadata": {},
     "output_type": "execute_result"
    },
    {
     "name": "stdout",
     "output_type": "stream",
     "text": [
      "Domain= PLA\n",
      "selecting amino acids\n",
      "/Users/thibault/Documents/WORK/peprmint/databases/aligned_cath-AF/PLA/zaligned\n",
      "UPDATING COORDINATES\n"
     ]
    },
    {
     "data": {
      "application/vnd.jupyter.widget-view+json": {
       "model_id": "80f3844bd580474ea7aa30b71d5ab031",
       "version_major": 2,
       "version_minor": 0
      },
      "text/plain": [
       "HBox(children=(HTML(value=''), FloatProgress(value=0.0, max=191.0), HTML(value='')))"
      ]
     },
     "metadata": {},
     "output_type": "display_data"
    },
    {
     "name": "stdout",
     "output_type": "stream",
     "text": [
      "\n",
      "taggin IBS\n"
     ]
    },
    {
     "data": {
      "application/vnd.jupyter.widget-view+json": {
       "model_id": "40db52ce7373414db93d865873b1d56f",
       "version_major": 2,
       "version_minor": 0
      },
      "text/plain": [
       "HBox(children=(HTML(value=''), FloatProgress(value=0.0, max=171.0), HTML(value='')))"
      ]
     },
     "metadata": {},
     "output_type": "display_data"
    },
    {
     "name": "stdout",
     "output_type": "stream",
     "text": [
      "\n",
      "len IBS 141\n",
      "len nonIBS 170\n"
     ]
    }
   ],
   "source": [
    "import importlib\n",
    "import pepr2ds\n",
    "importlib.reload(pepr2ds)\n",
    "from pepr2ds.dataset.tagibs import Dataset\n",
    "PLA = Dataset(DATASET,PEPRMINT_FOLDER)\n",
    "PLA.tag_ibs(DATASETAF, \n",
    "            domain = 'PLA', #Domain\n",
    "            pdbreference = \"1pocA00\",\n",
    "            includeResidueRange = [], #CHANGE 173 to 171 and run again!\n",
    "            excludeResidueRange=[], #Exclude thoses residues from IBS\n",
    "            extendSS=False, #Extend the secondary structures\n",
    "            withAlignment=False, #restrict the results with pdb that have a sequences.\n",
    "            onlyC=False, #get only COIL in the IBS.\n",
    "            cathCluster=clusterLevel, #Structure redundancy filter\n",
    "            Uniref=unirefLevel, #Sequence redundancy filter\n",
    "            addSequence=False, #add the non structural data in the IBS/NONIBS dataset.\n",
    "            extendAlign=False, #Extend the secondary structure instead of a raw \"cut\" based on the alignment position\n",
    "            excludeStrand=False, #Exclude \"strand\" From secondary structure\n",
    "            overide_axis_mode = True, #use the Zaxis instead of the alignment to tag the IBS\n",
    "            zaxis=ZAXISLEVEL, #Z axis plane to define \"IBS\" or not IBS\n",
    "            extendCoilOnly = False, #Extend coil only.\n",
    "            coordinates_folder_name = \"zaligned\",\n",
    "           data_type = 'cath+af',\n",
    "           base_folder='aligned_cath-AF',  \n",
    "          )"
   ]
  },
  {
   "cell_type": "markdown",
   "metadata": {},
   "source": [
    "## MERGED DATASET"
   ]
  },
  {
   "cell_type": "code",
   "execution_count": 64,
   "metadata": {},
   "outputs": [
    {
     "name": "stderr",
     "output_type": "stream",
     "text": [
      "/Users/thibault/miniconda3/envs/peprmint/lib/python3.7/site-packages/tqdm/std.py:699: FutureWarning: The Panel class is removed from pandas. Accessing it from the top-level namespace will also be removed in the next version\n",
      "  from pandas import Panel\n"
     ]
    },
    {
     "name": "stdout",
     "output_type": "stream",
     "text": [
      "making report for PH+C2+START+C1+C2DIS+PX+ENTH+PLD+ANNEXIN+PLA\n"
     ]
    },
    {
     "name": "stderr",
     "output_type": "stream",
     "text": [
      "/Users/thibault/OneDrive - University of Bergen/projects/peprmint/dev/pepermintdataset/notebooks/Ui.py:1916: UserWarning: This figure includes Axes that are not compatible with tight_layout, so results might be incorrect.\n",
      "  plt.tight_layout()\n",
      "/Users/thibault/OneDrive - University of Bergen/projects/peprmint/dev/pepermintdataset/notebooks/Ui.py:1006: UserWarning: This figure includes Axes that are not compatible with tight_layout, so results might be incorrect.\n",
      "  plt.tight_layout()\n"
     ]
    }
   ],
   "source": [
    "def merge_dataset(**kwargs):\n",
    "    importlib.reload(pepr2ds)\n",
    "    merged = Dataset(DATASET,PEPRMINT_FOLDER)\n",
    "\n",
    "    merged.ibs = pd.concat([x.ibs for x in kwargs.values()])\n",
    "    merged.nonibs = pd.concat([x.nonibs for x in kwargs.values()])\n",
    "    merged.domainDf = pd.concat([x.domainDf for x in kwargs.values()])\n",
    "    domainLabel = \"+\".join([x for x in kwargs.keys()])\n",
    "    merged.domainLabel = domainLabel\n",
    "    return(merged)\n",
    "    \n",
    "\n",
    "if DO_REPORT:\n",
    "    MERGED = merge_dataset(PH=PH, \n",
    "                           C2=C2, \n",
    "                           START=STARTo1,\n",
    "                           C1=C1,\n",
    "                           C2DIS=C2DIS,\n",
    "                           PX=PX,\n",
    "                           #ENTH=ENTH,\n",
    "                           PLD=PLDopm,\n",
    "                           ANNEXIN=ANNEXIN,\n",
    "                           PLA=PLA,\n",
    "                      )\n",
    "    MERGED.analysis.report(displayHTML=False)"
   ]
  }
 ],
 "metadata": {
  "interpreter": {
   "hash": "6f562939bf91b46b655e3a917bf756908169d96bc255520a8d7ed621cd1fd7da"
  },
  "kernelspec": {
   "display_name": "Python [conda env:peprmint]",
   "language": "python",
   "name": "python3"
  },
  "language_info": {
   "codemirror_mode": {
    "name": "ipython",
    "version": 3
   },
   "file_extension": ".py",
   "mimetype": "text/x-python",
   "name": "python",
   "nbconvert_exporter": "python",
   "pygments_lexer": "ipython3",
   "version": "3.7.9"
  },
  "toc-showmarkdowntxt": false
 },
 "nbformat": 4,
 "nbformat_minor": 4
}
