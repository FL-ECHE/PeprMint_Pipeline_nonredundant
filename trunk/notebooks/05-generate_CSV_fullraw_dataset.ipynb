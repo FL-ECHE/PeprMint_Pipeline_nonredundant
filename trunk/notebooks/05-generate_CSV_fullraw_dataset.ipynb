{
 "cells": [
  {
   "cell_type": "markdown",
   "metadata": {},
   "source": [
    "# Minimum code used to generate PePr2DS dataset"
   ]
  },
  {
   "cell_type": "markdown",
   "metadata": {},
   "source": [
    "The following code respect the methodologie we used in the notebook used to generate the All the figures for the analysis paper [REF TO COME].  \n",
    "The PePr2DS dataset is a simplified and cleaner version of this dataset, containing structures from CATH and models from ALPHAFOLD databased.  \n",
    "\n",
    " \n",
    "## REQUIREMENT:\n",
    " - 00-SETUP.ipynb\n",
    " - IBS_TAGGIN_DOMAINS-AF.ipynb\n",
    " - IBS_TAGGIN_DOMAINS.ipynb\n",
    "\n",
    "## USAGE:\n",
    "- Change the variable `includeAlfafold` (Include anclude alphafold models in the whole dataset) and `recalculate` (Recalculate all dataset) depending what you want to do. "
   ]
  },
  {
   "cell_type": "code",
   "execution_count": 1,
   "metadata": {},
   "outputs": [
    {
     "data": {
      "application/vnd.jupyter.widget-view+json": {
       "model_id": "35f2654bf65c4bda99d93a34a694c3c6",
       "version_major": 2,
       "version_minor": 0
      },
      "text/plain": []
     },
     "metadata": {},
     "output_type": "display_data"
    },
    {
     "name": "stderr",
     "output_type": "stream",
     "text": [
      "/Users/thibault/miniconda3/envs/peprmint/lib/python3.7/site-packages/tqdm/std.py:699: FutureWarning: The Panel class is removed from pandas. Accessing it from the top-level namespace will also be removed in the next version\n",
      "  from pandas import Panel\n",
      "/Users/thibault/miniconda3/envs/peprmint/lib/python3.7/site-packages/tqdm/std.py:699: FutureWarning: The Panel class is removed from pandas. Accessing it from the top-level namespace will also be removed in the next version\n",
      "  from pandas import Panel\n"
     ]
    }
   ],
   "source": [
    "recalculate = False\n",
    "\n",
    "import pandas as pd\n",
    "import numpy as np\n",
    "import seaborn as sns\n",
    "from tqdm.notebook import tnrange, tqdm\n",
    "from pepr2ds.dataset.tagibs import Dataset\n",
    "\n",
    "\n",
    "tqdm.pandas()  # activate tqdm progressbar for pandas apply\n",
    "\n",
    "pd.options.mode.chained_assignment = (\n",
    "    None  # default='warn', remove pandas warning when adding a new column\n",
    ")\n",
    "pd.set_option(\"display.max_columns\", None)\n",
    "\n",
    "from IPython.core.interactiveshell import InteractiveShell\n",
    "\n",
    "\n",
    "InteractiveShell.ast_node_interactivity = \"all\"\n",
    "#%config InlineBackend.figure_format ='svg' #better quality figure figure\n",
    "np.seterr(divide='ignore', invalid='ignore')\n",
    "\n",
    "\n",
    "################################\n",
    "# DATASET Based on CATH values #\n",
    "################################\n",
    "\n",
    "# 1. Set up clustering level. For output we save EVERYTHING.\n",
    "clusterLevel = None\n",
    "unirefLevel = None\n",
    "\n",
    "if recalculate:\n",
    "    #2. Run the notebook that actually tag all the IBS for selected domains\n",
    "    %run IBS_TAGGIN_DOMAINS-AF.ipynb\n",
    "        \n",
    "    #3. Merged the domains (merge_dataset is defined in \"IBS_TAGGIN_DOMAINS-AF.ipynb\")\n",
    "    MERGED = merge_dataset(PH=PH, \n",
    "                        C2=C2, \n",
    "                        START=STARTo1,\n",
    "                        C1=C1,\n",
    "                        C2DIS=C2DIS,\n",
    "                        PX=PX,\n",
    "                        ENTH=ENTH,\n",
    "                        PLD=PLDopm,\n",
    "                        ANNEXIN=ANNEXIN,\n",
    "                        PLA=PLA,\n",
    "                        )\n",
    "\n",
    "\n",
    "    MERGED.domainDf.reset_index(drop=True, inplace=True) # Just in case....\n",
    "    MERGED.save_dataset(f\"MERGED_cath_cluster{clusterLevel}-{unirefLevel}_AF\")\n",
    "\n",
    "else:\n",
    "    %run \"./00-SETUP.ipynb\"\n",
    "    from pepr2ds.dataset.tagibs import Dataset\n",
    "    picklepath = f\"{WORKDIR}/DATASET_peprmint_d25.pkl\"\n",
    "        \n",
    "    DATASET = pd.read_pickle(picklepath)\n",
    "    MERGED = Dataset(DATASET,PEPRMINT_FOLDER)\n",
    "    MERGED.load_dataset(f\"MERGED_cath_cluster{clusterLevel}-{unirefLevel}_AF\")\n",
    "\n",
    "################################\n",
    "# DATASET Based on CATH values #\n",
    "################################\n",
    "\n",
    "MERGED.domainDf.residue_name = MERGED.domainDf.residue_name.astype(str)\n",
    "MERGED.domainDf.domain = MERGED.domainDf.domain.astype(str)  \n",
    "MERGED.domainDf[\"domain\"] = MERGED.domainDf[\"domain\"].astype(str)\n",
    "\n",
    "#Remove ENTH since it is remove for tubaina et. al 2022.\n",
    "MERGED.domainDf = MERGED.domainDf.query(\"domain != 'ENTH'\")\n"
   ]
  },
  {
   "cell_type": "code",
   "execution_count": 2,
   "metadata": {},
   "outputs": [
    {
     "name": "stdout",
     "output_type": "stream",
     "text": [
      "Done\n",
      " - Full Dataset exported in /Users/thibault/Documents/WORK/peprmint/dataset\n",
      "Peprmint-web csv format exported in /Users/thibault/softwares/peprmint-web/web-client/src/datasets\n",
      "Dont' forget to update peprmint repository with git.\n"
     ]
    }
   ],
   "source": [
    "MERGED.export_dataset_PePrMInt(peprmint_web_dataset_folder = '/Users/thibault/softwares/peprmint-web/web-client/src/datasets',\n",
    "                               PePr2Ds_folder='/Users/thibault/OneDrive - University of Bergen/projects/peprmint/dev/pepr2ds/Ressources/datasets')"
   ]
  },
  {
   "cell_type": "code",
   "execution_count": null,
   "metadata": {},
   "outputs": [],
   "source": []
  }
 ],
 "metadata": {
  "interpreter": {
   "hash": "aee8b7b246df8f9039afb4144a1f6fd8d2ca17a180786b69acc140d282b71a49"
  },
  "kernelspec": {
   "display_name": "Python 3.9.7 64-bit",
   "language": "python",
   "name": "python3"
  },
  "language_info": {
   "codemirror_mode": {
    "name": "ipython",
    "version": 3
   },
   "file_extension": ".py",
   "mimetype": "text/x-python",
   "name": "python",
   "nbconvert_exporter": "python",
   "pygments_lexer": "ipython3",
   "version": "3.7.9"
  },
  "orig_nbformat": 4
 },
 "nbformat": 4,
 "nbformat_minor": 2
}
