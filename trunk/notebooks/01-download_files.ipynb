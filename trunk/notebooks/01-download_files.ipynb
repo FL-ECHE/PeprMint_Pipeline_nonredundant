{
 "cells": [
  {
   "cell_type": "markdown",
   "metadata": {},
   "source": [
    "<p style=\"text-align: center;\" ><font size=\"7\" >Data download</font></p>\n",
    "<hr />"
   ]
  },
  {
   "cell_type": "markdown",
   "metadata": {},
   "source": [
    "# Preparation"
   ]
  },
  {
   "cell_type": "markdown",
   "metadata": {
    "toc-hr-collapsed": true,
    "toc-nb-collapsed": true
   },
   "source": [
    "## Dependancies"
   ]
  },
  {
   "cell_type": "code",
   "execution_count": 10,
   "metadata": {
    "pycharm": {
     "is_executing": false
    }
   },
   "outputs": [
    {
     "name": "stdout",
     "output_type": "stream",
     "text": [
      "INFO: Pandarallel will run on 8 workers.\n",
      "INFO: Pandarallel will use standard multiprocessing data transfer (pipe) to transfer data between the main process and workers.\n"
     ]
    }
   ],
   "source": [
    "import pandas as pd\n",
    "from collections import defaultdict\n",
    "import os\n",
    "import shutil as sh\n",
    "import urllib\n",
    "import tarfile\n",
    "\n",
    "from ipywidgets import interact, interactive, fixed, interact_manual, IntProgress\n",
    "import ipywidgets as widgets\n",
    "from IPython.display import display\n",
    "import gzip\n",
    "\n",
    "#Pandarallel works only on linux and mac\n",
    "try:\n",
    "    from pandarallel import pandarallel\n",
    "    pandarallel.initialize(nb_workers=8,progress_bar=True)\n",
    "    PARRALEL = True\n",
    "except:\n",
    "    PARRALEL = False\n",
    "\n",
    "from tqdm.notebook import tnrange, tqdm\n",
    "tqdm.pandas() #activate tqdm progressbar for pandas apply"
   ]
  },
  {
   "cell_type": "markdown",
   "metadata": {},
   "source": [
    "## import folder configuration"
   ]
  },
  {
   "cell_type": "markdown",
   "metadata": {},
   "source": [
    "You can change folders setting in the \"00-SETUP.ipynb\" notebook"
   ]
  },
  {
   "cell_type": "code",
   "execution_count": 11,
   "metadata": {
    "pycharm": {
     "is_executing": false
    }
   },
   "outputs": [],
   "source": [
    "%run \"./00-SETUP.ipynb\"\n",
    "UPDATE = False"
   ]
  },
  {
   "cell_type": "markdown",
   "metadata": {},
   "source": [
    "# Donwload files "
   ]
  },
  {
   "cell_type": "markdown",
   "metadata": {},
   "source": [
    "## Downloading the CATH domain list"
   ]
  },
  {
   "cell_type": "code",
   "execution_count": 12,
   "metadata": {
    "pycharm": {
     "is_executing": false
    }
   },
   "outputs": [],
   "source": [
    "domfile = 'cath-domain-list.txt'\n",
    "\n",
    "url = \"ftp://orengoftp.biochem.ucl.ac.uk/cath/releases/all-releases/v4_2_0/cath-classification-data/cath-domain-list.txt\"\n",
    "destination = CATHFOLDER+domfile\n",
    "if not os.path.isfile(destination) or UPDATE: \n",
    "    urllib.request.urlretrieve(url, destination)\n",
    "    \n",
    "\n",
    "colomnDomFile = [\n",
    "    'Domain','Class','Architecture','Topology','Homologous','S35','S60','S95','S100','S100Count','DomSize','resolution',\n",
    "]"
   ]
  },
  {
   "cell_type": "markdown",
   "metadata": {},
   "source": [
    "## Download Correspondance between Uniprot and PDB code"
   ]
  },
  {
   "cell_type": "code",
   "execution_count": 13,
   "metadata": {
    "pycharm": {
     "is_executing": false
    }
   },
   "outputs": [],
   "source": [
    "url=\"ftp://ftp.ebi.ac.uk/pub/databases/msd/sifts/flatfiles/csv/pdb_chain_uniprot.csv.gz\"\n",
    "destination = CATHFOLDER+\"pdb_chain_uniprot.csv.gz\" \n",
    "if not os.path.isfile(destination) or UPDATE: \n",
    "    urllib.request.urlretrieve(url, destination)\n",
    "    \n",
    "with gzip.open(destination, 'rb') as f:\n",
    "    file = f.read()\n",
    "    \n",
    "    with open(destination.split('.gz')[0], 'wb') as output:\n",
    "        output.write(file)\n",
    "    #.write(destination.split('.gz')[0])\n",
    "\n",
    "os.remove(destination)"
   ]
  },
  {
   "cell_type": "markdown",
   "metadata": {},
   "source": [
    "## Download PROSITE files\n"
   ]
  },
  {
   "cell_type": "code",
   "execution_count": 14,
   "metadata": {
    "pycharm": {
     "is_executing": false
    }
   },
   "outputs": [],
   "source": [
    "url=\"ftp://ftp.expasy.org/databases/prosite/prosite_alignments.tar.gz\"\n",
    "destination = PROSITEFOLDER+\"prosite_alignments.tar.gz\" \n",
    "\n",
    "if UPDATE:\n",
    "    if os.path.exists(PROSITEFOLDER+\"msa\"):\n",
    "        import shutil\n",
    "        shutil.rmtree(PROSITEFOLDER+\"msa/\")\n",
    "    else:\n",
    "        os.makedirs(PROSITEFOLDER+\"msa/\")\n",
    "\n",
    "if not os.path.exists(PROSITEFOLDER+\"msa\") or UPDATE: \n",
    "    urllib.request.urlretrieve(url, destination)\n",
    "    tf = tarfile.open(destination)\n",
    "    tf.extractall(PROSITEFOLDER)\n",
    "    tf.close()\n",
    "    os.rename(PROSITEFOLDER+\"prosite_alignments\",PROSITEFOLDER+\"msa\")\n",
    "    os.remove(destination)\n",
    "\n",
    "\n",
    "    \n",
    "\n"
   ]
  },
  {
   "cell_type": "markdown",
   "metadata": {},
   "source": [
    "## Download CATH PDB files"
   ]
  },
  {
   "cell_type": "markdown",
   "metadata": {},
   "source": [
    "Reading cath domain list"
   ]
  },
  {
   "cell_type": "code",
   "execution_count": 15,
   "metadata": {
    "pycharm": {
     "is_executing": false
    }
   },
   "outputs": [
    {
     "data": {
      "application/vnd.jupyter.widget-view+json": {
       "model_id": "93b720a92c134ccab7688b933a7eee47",
       "version_major": 2,
       "version_minor": 0
      },
      "text/plain": [
       "VBox(children=(HBox(children=(IntProgress(value=0, description='0.00%', max=54358), Label(value='0 / 54358')))…"
      ]
     },
     "metadata": {},
     "output_type": "display_data"
    }
   ],
   "source": [
    "cathDomains = pd.read_csv(CATHFOLDER+domfile,comment='#', sep=r\"\\s+\", header=None)\n",
    "cathDomains.columns = colomnDomFile\n",
    "if PARRALEL:\n",
    "    cathDomains['Superfamily'] = cathDomains.parallel_apply(lambda x: f\"{x.Class}.{x.Architecture}.{x.Topology}.{x.Homologous}\", axis=1)\n",
    "else:\n",
    "    cathDomains['Superfamily'] = cathDomains.progress_apply(lambda x: f\"{x.Class}.{x.Architecture}.{x.Topology}.{x.Homologous}\", axis=1)"
   ]
  },
  {
   "cell_type": "markdown",
   "metadata": {},
   "source": [
    "Creating the superfamily"
   ]
  },
  {
   "cell_type": "code",
   "execution_count": 16,
   "metadata": {
    "pycharm": {
     "is_executing": false
    }
   },
   "outputs": [],
   "source": [
    "cathSuperFamily = pd.DataFrame()\n",
    "cathSuperFamily['Superfamily'] = cathDomains.Superfamily\n",
    "cathSuperFamily['Domain'] = cathDomains.Domain"
   ]
  },
  {
   "cell_type": "markdown",
   "metadata": {},
   "source": [
    "Creating a dictionary with the superfamily as key and list of cathdomain (pdb format) as value"
   ]
  },
  {
   "cell_type": "code",
   "execution_count": 17,
   "metadata": {
    "pycharm": {
     "is_executing": false
    }
   },
   "outputs": [
    {
     "data": {
      "application/vnd.jupyter.widget-view+json": {
       "model_id": "8abfe6ceed1e4b25ba75f6a437fa80bd",
       "version_major": 2,
       "version_minor": 0
      },
      "text/plain": [
       "HBox(children=(HTML(value=''), FloatProgress(value=0.0, max=434857.0), HTML(value='')))"
      ]
     },
     "metadata": {},
     "output_type": "display_data"
    },
    {
     "name": "stdout",
     "output_type": "stream",
     "text": [
      "\n"
     ]
    }
   ],
   "source": [
    "cathDomainsPerSuperFamily = defaultdict(list)\n",
    "#do not parralel this one\n",
    "_ = cathSuperFamily.progress_apply(lambda x: cathDomainsPerSuperFamily[x.Superfamily].append(x.Domain), axis=1)"
   ]
  },
  {
   "cell_type": "markdown",
   "metadata": {},
   "source": [
    "## Gather data for ALL domains"
   ]
  },
  {
   "cell_type": "code",
   "execution_count": 18,
   "metadata": {
    "pycharm": {
     "is_executing": false
    }
   },
   "outputs": [
    {
     "name": "stdout",
     "output_type": "stream",
     "text": [
      ">Working with PH domain\n"
     ]
    },
    {
     "data": {
      "application/vnd.jupyter.widget-view+json": {
       "model_id": "48b015354eee4f67ae08130935ad8330",
       "version_major": 2,
       "version_minor": 0
      },
      "text/plain": [
       "VBox(children=(HBox(children=(IntProgress(value=0, description='0.00%', max=103), Label(value='0 / 103'))), HB…"
      ]
     },
     "metadata": {},
     "output_type": "display_data"
    },
    {
     "name": "stdout",
     "output_type": "stream",
     "text": [
      ">Working with C2 domain\n"
     ]
    },
    {
     "data": {
      "application/vnd.jupyter.widget-view+json": {
       "model_id": "651b3808a8234326a38172aa2ce604d3",
       "version_major": 2,
       "version_minor": 0
      },
      "text/plain": [
       "VBox(children=(HBox(children=(IntProgress(value=0, description='0.00%', max=44), Label(value='0 / 44'))), HBox…"
      ]
     },
     "metadata": {},
     "output_type": "display_data"
    },
    {
     "name": "stdout",
     "output_type": "stream",
     "text": [
      ">Working with C1 domain\n"
     ]
    },
    {
     "data": {
      "application/vnd.jupyter.widget-view+json": {
       "model_id": "70e8017375d44813a7fcbee30ca029c4",
       "version_major": 2,
       "version_minor": 0
      },
      "text/plain": [
       "VBox(children=(HBox(children=(IntProgress(value=0, description='0.00%', max=16), Label(value='0 / 16'))), HBox…"
      ]
     },
     "metadata": {},
     "output_type": "display_data"
    },
    {
     "name": "stdout",
     "output_type": "stream",
     "text": [
      ">Working with PX domain\n"
     ]
    },
    {
     "data": {
      "application/vnd.jupyter.widget-view+json": {
       "model_id": "a08aa52e4ba84509afed1e5e49a5c6fc",
       "version_major": 2,
       "version_minor": 0
      },
      "text/plain": [
       "VBox(children=(HBox(children=(IntProgress(value=0, description='0.00%', max=9), Label(value='0 / 9'))), HBox(c…"
      ]
     },
     "metadata": {},
     "output_type": "display_data"
    },
    {
     "name": "stdout",
     "output_type": "stream",
     "text": [
      ">Working with FYVE domain\n"
     ]
    },
    {
     "data": {
      "application/vnd.jupyter.widget-view+json": {
       "model_id": "b615ad949c324ea8b8cf1f472126ca18",
       "version_major": 2,
       "version_minor": 0
      },
      "text/plain": [
       "VBox(children=(HBox(children=(IntProgress(value=0, description='0.00%', max=76), Label(value='0 / 76'))), HBox…"
      ]
     },
     "metadata": {},
     "output_type": "display_data"
    },
    {
     "name": "stdout",
     "output_type": "stream",
     "text": [
      ">Working with BAR domain\n"
     ]
    },
    {
     "data": {
      "application/vnd.jupyter.widget-view+json": {
       "model_id": "6527b360775c4d55a68b15dd15c3ef4f",
       "version_major": 2,
       "version_minor": 0
      },
      "text/plain": [
       "VBox(children=(HBox(children=(IntProgress(value=0, description='0.00%', max=17), Label(value='0 / 17'))), HBox…"
      ]
     },
     "metadata": {},
     "output_type": "display_data"
    },
    {
     "name": "stdout",
     "output_type": "stream",
     "text": [
      ">Working with ENTH domain\n"
     ]
    },
    {
     "data": {
      "application/vnd.jupyter.widget-view+json": {
       "model_id": "7f1076f2463c4e8eaeb15f072d9ee8ac",
       "version_major": 2,
       "version_minor": 0
      },
      "text/plain": [
       "VBox(children=(HBox(children=(IntProgress(value=0, description='0.00%', max=17), Label(value='0 / 17'))), HBox…"
      ]
     },
     "metadata": {},
     "output_type": "display_data"
    },
    {
     "name": "stdout",
     "output_type": "stream",
     "text": [
      ">Working with SH2 domain\n"
     ]
    },
    {
     "data": {
      "application/vnd.jupyter.widget-view+json": {
       "model_id": "7e6fc6e1f82c44ae9e568da3736ac657",
       "version_major": 2,
       "version_minor": 0
      },
      "text/plain": [
       "VBox(children=(HBox(children=(IntProgress(value=0, description='0.00%', max=83), Label(value='0 / 83'))), HBox…"
      ]
     },
     "metadata": {},
     "output_type": "display_data"
    },
    {
     "name": "stdout",
     "output_type": "stream",
     "text": [
      ">Working with SEC14 domain\n"
     ]
    },
    {
     "data": {
      "application/vnd.jupyter.widget-view+json": {
       "model_id": "6e41fd7ffe7c46f1aaeb7d2f6c685212",
       "version_major": 2,
       "version_minor": 0
      },
      "text/plain": [
       "VBox(children=(HBox(children=(IntProgress(value=0, description='0.00%', max=7), Label(value='0 / 7'))), HBox(c…"
      ]
     },
     "metadata": {},
     "output_type": "display_data"
    },
    {
     "name": "stdout",
     "output_type": "stream",
     "text": [
      ">Working with START domain\n"
     ]
    },
    {
     "data": {
      "application/vnd.jupyter.widget-view+json": {
       "model_id": "909f9cb1ab0c46ec810e37631ae8f001",
       "version_major": 2,
       "version_minor": 0
      },
      "text/plain": [
       "VBox(children=(HBox(children=(IntProgress(value=0, description='0.00%', max=56), Label(value='0 / 56'))), HBox…"
      ]
     },
     "metadata": {},
     "output_type": "display_data"
    },
    {
     "name": "stdout",
     "output_type": "stream",
     "text": [
      ">Working with C2DIS domain\n"
     ]
    },
    {
     "data": {
      "application/vnd.jupyter.widget-view+json": {
       "model_id": "ab218ab854fc42d9b060d79c04381f88",
       "version_major": 2,
       "version_minor": 0
      },
      "text/plain": [
       "VBox(children=(HBox(children=(IntProgress(value=0, description='0.00%', max=162), Label(value='0 / 162'))), HB…"
      ]
     },
     "metadata": {},
     "output_type": "display_data"
    },
    {
     "name": "stdout",
     "output_type": "stream",
     "text": [
      ">Working with GLA domain\n"
     ]
    },
    {
     "data": {
      "application/vnd.jupyter.widget-view+json": {
       "model_id": "07781ad252a3462b961cfd617a1a43a8",
       "version_major": 2,
       "version_minor": 0
      },
      "text/plain": [
       "VBox(children=(HBox(children=(IntProgress(value=0, description='0.00%', max=22), Label(value='0 / 22'))), HBox…"
      ]
     },
     "metadata": {},
     "output_type": "display_data"
    },
    {
     "name": "stdout",
     "output_type": "stream",
     "text": [
      ">Working with PLD domain\n"
     ]
    },
    {
     "data": {
      "application/vnd.jupyter.widget-view+json": {
       "model_id": "f1f2f3e27236467f97c0b68a626cc674",
       "version_major": 2,
       "version_minor": 0
      },
      "text/plain": [
       "VBox(children=(HBox(children=(IntProgress(value=0, description='0.00%', max=19), Label(value='0 / 19'))), HBox…"
      ]
     },
     "metadata": {},
     "output_type": "display_data"
    },
    {
     "name": "stdout",
     "output_type": "stream",
     "text": [
      ">Working with PLA domain\n"
     ]
    },
    {
     "data": {
      "application/vnd.jupyter.widget-view+json": {
       "model_id": "5f1aee04bc9b461f8433f7ca0597b081",
       "version_major": 2,
       "version_minor": 0
      },
      "text/plain": [
       "VBox(children=(HBox(children=(IntProgress(value=0, description='0.00%', max=64), Label(value='0 / 64'))), HBox…"
      ]
     },
     "metadata": {},
     "output_type": "display_data"
    },
    {
     "name": "stdout",
     "output_type": "stream",
     "text": [
      ">Working with ANEXIN domain\n"
     ]
    },
    {
     "data": {
      "application/vnd.jupyter.widget-view+json": {
       "model_id": "3abdcc6368444d4ba64a5c5c8674f672",
       "version_major": 2,
       "version_minor": 0
      },
      "text/plain": [
       "VBox(children=(HBox(children=(IntProgress(value=0, description='0.00%', max=51), Label(value='0 / 51'))), HBox…"
      ]
     },
     "metadata": {},
     "output_type": "display_data"
    }
   ],
   "source": [
    "def download_dom(dom, folder):\n",
    "    url = \"http://www.cathdb.info/version/\"+CATHVERSION+\"/api/rest/id/\"+dom+\".pdb\"\n",
    "    destination = folder+dom+'.pdb'\n",
    "    if not os.path.isfile(destination): \n",
    "        urllib.request.urlretrieve(url, destination)\n",
    "    #progressbar.value += 1\n",
    "\n",
    "def fetch_dom_for_superfamily(superfamily, cathDomainsPerSuperFamily, domName):\n",
    "    print(f\">Working with {domName} domain\")\n",
    "    global CATHFOLDER\n",
    "    folder = CATHFOLDER+'domains/'+domName+'/raw/'\n",
    "    if not os.path.exists(folder):\n",
    "        os.makedirs(folder)\n",
    "    if not os.path.exists(CATHFOLDER+'domains/'+domName+'/cleaned/'):\n",
    "        os.makedirs(CATHFOLDER+'domains/'+domName+'/cleaned/')\n",
    "\n",
    "    domlist = cathDomainsPerSuperFamily[superfamily]\n",
    "    \n",
    "    if PARRALEL:\n",
    "        pd.Series(domlist).parallel_apply(lambda x: download_dom(x, folder))\n",
    "    else:\n",
    "        print(domlist)\n",
    "        pd.Series(domlist).progress_apply(lambda x: download_dom(x, folder))\n",
    "\n",
    "\n",
    "        \n",
    "        \n",
    "for superfamily,domain in SUPERFAMILY.items():\n",
    "    fetch_dom_for_superfamily(superfamily, cathDomainsPerSuperFamily, domain)\n",
    "    "
   ]
  },
  {
   "cell_type": "markdown",
   "metadata": {},
   "source": [
    "**Now the next notebook can be runed** 😀"
   ]
  }
 ],
 "metadata": {
  "kernelspec": {
   "display_name": "Python [conda env:peprmint]",
   "language": "python",
   "name": "conda-env-peprmint-py"
  },
  "language_info": {
   "codemirror_mode": {
    "name": "ipython",
    "version": 3
   },
   "file_extension": ".py",
   "mimetype": "text/x-python",
   "name": "python",
   "nbconvert_exporter": "python",
   "pygments_lexer": "ipython3",
   "version": "3.7.9"
  },
  "toc-autonumbering": true
 },
 "nbformat": 4,
 "nbformat_minor": 4
}
