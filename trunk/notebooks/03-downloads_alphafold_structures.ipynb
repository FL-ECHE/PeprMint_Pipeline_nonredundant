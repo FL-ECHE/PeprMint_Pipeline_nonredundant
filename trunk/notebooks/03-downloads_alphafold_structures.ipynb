{
 "cells": [
  {
   "cell_type": "code",
   "execution_count": 1,
   "metadata": {},
   "outputs": [
    {
     "name": "stderr",
     "output_type": "stream",
     "text": [
      "/Users/thibault/miniconda3/envs/peprmint/lib/python3.7/site-packages/tqdm/std.py:699: FutureWarning: The Panel class is removed from pandas. Accessing it from the top-level namespace will also be removed in the next version\n",
      "  from pandas import Panel\n"
     ]
    },
    {
     "data": {
      "application/vnd.jupyter.widget-view+json": {
       "model_id": "1d6c3117109a44bebd985f323ba96b04",
       "version_major": 2,
       "version_minor": 0
      },
      "text/plain": []
     },
     "metadata": {},
     "output_type": "display_data"
    }
   ],
   "source": [
    "## Imports and settings\n",
    "import pandas as pd\n",
    "import numpy as np\n",
    "import math\n",
    "import seaborn as sns\n",
    "import urllib\n",
    "import glob\n",
    "import os\n",
    "from urllib.error import HTTPError\n",
    "\n",
    "import matplotlib.pyplot as plt\n",
    "from scipy.spatial import ConvexHull\n",
    "#%matplotlib inline\n",
    "sns.set_style(\"darkgrid\")\n",
    "\n",
    "import ipywidgets as widgets\n",
    "from IPython.display import display, Markdown, clear_output\n",
    "\n",
    "\n",
    "# from tqdm.auto import tqdm\n",
    "from tqdm.notebook import tnrange, tqdm\n",
    "\n",
    "tqdm.pandas()  # activate tqdm progressbar for pandas apply\n",
    "\n",
    "pd.options.mode.chained_assignment = (\n",
    "    None  # default='warn', remove pandas warning when adding a new column\n",
    ")\n",
    "pd.set_option(\"display.max_columns\", None)\n",
    "\n",
    "from IPython.core.interactiveshell import InteractiveShell\n",
    "\n",
    "\n",
    "InteractiveShell.ast_node_interactivity = \"all\"\n",
    "#%config InlineBackend.figure_format ='svg' #better quality figure figure\n",
    "np.seterr(divide='ignore', invalid='ignore')\n",
    "\n",
    "import matplotlib.gridspec as gridspec\n",
    "\n",
    "\n",
    "import MDAnalysis as mda\n",
    "import nglview as nv"
   ]
  },
  {
   "cell_type": "code",
   "execution_count": 29,
   "metadata": {},
   "outputs": [],
   "source": [
    "%run \"./00-SETUP.ipynb\""
   ]
  },
  {
   "cell_type": "code",
   "execution_count": 3,
   "metadata": {},
   "outputs": [],
   "source": [
    "DATASET = pd.read_pickle(f\"{WORKDIR}/DATASET_peprmint_d25.pkl\")\n"
   ]
  },
  {
   "cell_type": "code",
   "execution_count": 7,
   "metadata": {},
   "outputs": [
    {
     "data": {
      "text/plain": [
       "1          O60493\n",
       "4          O60493\n",
       "6          Q9Y2I1\n",
       "9          Q9Y2I1\n",
       "14         O60493\n",
       "            ...  \n",
       "7391138    Q96J02\n",
       "7391157    Q9JIR4\n",
       "7391160    Q9JIR4\n",
       "7391163    Q9JIR4\n",
       "7391166    Q9JIR4\n",
       "Name: uniprot_acc, Length: 1478493, dtype: category\n",
       "Categories (6282, object): ['A0A024QYT3', 'A0A075B5H6', 'A0A075F932', 'A0A098DRQ4', ..., 'Q9ZVT9', 'S4R1M9', 'V5M2P5', 'W6RTA4']"
      ]
     },
     "execution_count": 7,
     "metadata": {},
     "output_type": "execute_result"
    }
   ],
   "source": []
  },
  {
   "cell_type": "code",
   "execution_count": 41,
   "metadata": {},
   "outputs": [
    {
     "name": "stdout",
     "output_type": "stream",
     "text": [
      "----- PROCESSING DOMAIN PLA -----\n"
     ]
    },
    {
     "data": {
      "application/vnd.jupyter.widget-view+json": {
       "model_id": "011938c04f9a4b70b0a024b6eef035df",
       "version_major": 2,
       "version_minor": 0
      },
      "text/plain": [
       "HBox(children=(HTML(value='Downloading '), FloatProgress(value=0.0, max=570.0), HTML(value='')))"
      ]
     },
     "metadata": {},
     "output_type": "display_data"
    },
    {
     "name": "stdout",
     "output_type": "stream",
     "text": [
      "\n",
      "512 out of 570 without alfafold2 models (89.82%)\n"
     ]
    },
    {
     "data": {
      "application/vnd.jupyter.widget-view+json": {
       "model_id": "d81e782d673947b9a69464636dcea698",
       "version_major": 2,
       "version_minor": 0
      },
      "text/plain": [
       "HBox(children=(HTML(value='processing'), FloatProgress(value=0.0, max=58.0), HTML(value='')))"
      ]
     },
     "metadata": {},
     "output_type": "display_data"
    },
    {
     "name": "stdout",
     "output_type": "stream",
     "text": [
      "no data for Q9H295.\n",
      "no data for Q8WXA2.\n",
      "no data for Q9U256.\n",
      "no data for Q8BT42.\n",
      "no data for Q8N271.\n",
      "no data for Q5TA77.\n",
      "no data for Q5TA76.\n",
      "no data for Q8TEX9.\n",
      "no data for Q71RC9.\n",
      "no data for Q6ZRS4.\n",
      "\n"
     ]
    }
   ],
   "source": [
    "REBUILD = True\n",
    "use_uniprot_boundaries = True\n",
    "use_all_AFmodels = True\n",
    "\n",
    "import requests\n",
    "import json\n",
    "from biopandas.pdb import PandasPdb\n",
    "from Bio import AlignIO\n",
    "from urllib.error import URLError\n",
    "import re\n",
    "REGEX = re.compile(\"^(\\w+)\\|(\\w+)\\/(\\d+)-(\\d+)\")\n",
    "\n",
    "\n",
    "EXCLUDE_LIST=[\"Q54C71\",\"O94827\",'Q54C71','Q22070','P39960','Q62077', #PH\n",
    "             'Q06839', #PX\n",
    "             ]\n",
    "EXCLUDE_DOMAIN = [\"FYVE\"]\n",
    "    \n",
    "def fetch_pdb_alfafold(uniprotids, domain):\n",
    "    nomodels=[]\n",
    "    withmodels=[]\n",
    "    outfolder = f\"{ALFAFOLDFOLDER}/{domain}/raw\"\n",
    "    if not os.path.exists(outfolder):\n",
    "        os.makedirs(outfolder)\n",
    "        \n",
    "    extractedfolder = f\"{ALFAFOLDFOLDER}/{domain}/extracted\"\n",
    "    if not os.path.exists(extractedfolder):\n",
    "        os.makedirs(extractedfolder)\n",
    "    else:\n",
    "        if REBUILD == True: #delete extracted files\n",
    "            files = glob.glob(f\"{extractedfolder}/*.pdb\")\n",
    "            for f in files:\n",
    "                os.remove(f)\n",
    "    \n",
    "    jsonfolder = f\"{ALFAFOLDFOLDER}/{domain}/json\"\n",
    "    if not os.path.exists(jsonfolder):\n",
    "        os.makedirs(jsonfolder)\n",
    "\n",
    "    for uniprot_id in tqdm(uniprotids, desc=\"Downloading \"):\n",
    "        url = f\"https://alphafold.ebi.ac.uk/files/AF-{uniprot_id}-F1-model_v1.pdb\"\n",
    "        destination = f\"{outfolder}/{uniprot_id}.pdb\"\n",
    "        if not os.path.isfile(destination): \n",
    "            try:\n",
    "                urllib.request.urlretrieve(url, destination)\n",
    "            except urllib.error.HTTPError as err:\n",
    "                nomodels.append(uniprot_id)\n",
    "                continue\n",
    "        withmodels.append(uniprot_id)\n",
    "\n",
    "    \n",
    "    print(f\"{len(nomodels)} out of {len(uniprotids)} without alfafold2 models ({len(nomodels)/len(uniprotids)*100:.2f}%)\")\n",
    "    return withmodels,nomodels\n",
    "\n",
    "\n",
    "\n",
    "def get_prosite_boundaries_dict(domain):\n",
    "    boundaries = {}\n",
    "    prosite_ids = DOMAIN_PROSITE[domain]\n",
    "    if type(prosite_ids) != type([]):\n",
    "        prosite_ids = [prosite_ids]\n",
    "    for msafile in prosite_ids:\n",
    "        msafilepath = f\"{PROSITEFOLDER}/msa/{msafile}.msa\"\n",
    "        msa = AlignIO.read(msafilepath,'fasta')\n",
    "        for record in msa:\n",
    "            seqid = record.id\n",
    "            match = REGEX.match(seqid)\n",
    "            if match:\n",
    "                uniprot_id = match.group(2)\n",
    "                start = match.group(3)\n",
    "                end = match.group(4)\n",
    "                boundaries[uniprot_id] = (int(start),int(end))\n",
    "    return boundaries\n",
    "\n",
    "def get_json(uniprot_acc, domain, source='ssf'):\n",
    "    def request_URL(link, trial=1):\n",
    "        try:\n",
    "            response = requests.get(link).text\n",
    "            return response\n",
    "        except URLError as e:\n",
    "            print(e, link)\n",
    "            if trial >3 :\n",
    "                print('3rd fail, skipping this one.')\n",
    "                return None\n",
    "            else:\n",
    "                print(f\"Trial {trial}, waiting 10s and trying again\")\n",
    "                sleep(10)\n",
    "                return request_URL(link, trial=trial+1)\n",
    "            \n",
    "            \n",
    "    jsonfolder = f\"{ALFAFOLDFOLDER}/{domain}/json\"\n",
    "    if not os.path.exists(jsonfolder):\n",
    "        os.makedirs(jsonfolder)\n",
    "        \n",
    "    jsonfile = f\"{jsonfolder}/{uniprot_acc}.json\"\n",
    "    if os.path.isfile(jsonfile):\n",
    "        f = open(jsonfile)\n",
    "        interpro = json.load(f)\n",
    "    else:\n",
    "        #make the query on ebi/interpro\n",
    "        response = request_URL(f\"https://www.ebi.ac.uk/interpro/api/entry/{source}/protein/reviewed/{uniprot_acc}/?page_size=200\")\n",
    "        if response == None:\n",
    "            return None\n",
    "        try:\n",
    "            interpro = json.loads(response)\n",
    "        except:\n",
    "            print(f\"no data for {uniprot_acc}.\")\n",
    "            return None\n",
    "        with open(jsonfile,'w') as out:\n",
    "            json.dump(interpro, out, indent=2)\n",
    "            \n",
    "    return(interpro)\n",
    "        \n",
    "    \n",
    "        \n",
    "\n",
    "def get_domain_fragment_query(uniprot_acc, domain, boundaries_prosite):\n",
    "    start_PS,end_PS = boundaries_prosite[uniprot_acc]\n",
    "    starts_ends = [boundaries_prosite[uniprot_acc]]\n",
    "\n",
    "    if DOMAIN_INTERPRO_REFINE[domain] == True:\n",
    "        if domain == \"PLA\":\n",
    "            source = 'cathgene3d'\n",
    "        else:\n",
    "            source = 'ssf'\n",
    "        interpro = get_json(uniprot_acc, domain, source)\n",
    "        if interpro == None:\n",
    "            return None\n",
    "        QueryString = None\n",
    "        \n",
    "        for result in interpro[\"results\"]:\n",
    "            if result[\"metadata\"][\"accession\"] == DOMAIN_INTERPRO[domain]:\n",
    "                entry_protein_locations = result[\"proteins\"][0][\"entry_protein_locations\"]\n",
    "                for entry in entry_protein_locations: #Get the number of truncation in the domain.\n",
    "                    nfrag = len(entry['fragments'])\n",
    "                    \n",
    "                    if domain == 'PLA': #Special case for PLA, we will ignore PROSITE annotation that are actually wrong.\n",
    "                        frag = entry['fragments'][0] #Get first monomer only\n",
    "                        s = entry['fragments'][0].get('start')\n",
    "                        e = entry['fragments'][0].get('end')\n",
    "                        starts_ends = [[s,e]]\n",
    "                    else:\n",
    "                        if nfrag >= 2 and ( entry['fragments'][0].get('start') - 50 <= start_PS <= entry['fragments'][0].get('start')+50) : #if truncated domain AND correspond to the prosite domain\n",
    "                            print(f\"splitting {domain}-{uniprot_acc}\")\n",
    "                            queries = []\n",
    "                            starts_ends = []\n",
    "                            for frag in entry['fragments']:\n",
    "                                s=int(frag.get(\"start\"))\n",
    "                                e=int(frag.get(\"end\"))\n",
    "                                starts_ends.append([s,e])\n",
    "                            if use_uniprot_boundaries == True:\n",
    "                                starts_ends[0][0] = start_PS\n",
    "                                starts_ends[-1][-1] = end_PS\n",
    "\n",
    "                        else: #use prosite fragment\n",
    "                            starts_ends = [[start_PS, end_PS]]\n",
    "                    \n",
    "\n",
    "                QueryString = \" or \".join([f\"({x} <= residue_number <= {y})\" for x,y in starts_ends])\n",
    "        \n",
    "    else:\n",
    "        QueryString = \" or \".join([f\"({x} <= residue_number <= {y})\" for x,y in starts_ends])\n",
    "    \n",
    "    return QueryString\n",
    "\n",
    "\n",
    "\n",
    "\n",
    "\n",
    "## ------- MAIN\n",
    "domains = DATASET.domain.unique()\n",
    "domains = ['PLA']\n",
    "\n",
    "for domain in domains:\n",
    "    #if domain in EXCLUDE_DOMAIN:\n",
    "    #    continue\n",
    "    group = DATASET.query(\"domain == @domain\")\n",
    "    uniprot_acc_cathpdb = group.query(\"data_type == 'cathpdb'\").uniprot_acc.unique()\n",
    "    print(f\"----- PROCESSING DOMAIN {domain} -----\")\n",
    "\n",
    "    seqs_no_pdb = group[group[\"pdb\"].isnull()].uniprot_acc.unique()\n",
    "    boundaries_prosite = get_prosite_boundaries_dict(domain)\n",
    "\n",
    "\n",
    "    if use_all_AFmodels:\n",
    "        prosite_uniprot_acc = list(boundaries_prosite.keys()) \n",
    "        uniprot_acc_cathpdb = [acc for acc in uniprot_acc_cathpdb if acc in prosite_uniprot_acc]\n",
    "\n",
    "        uniprot_acc_list = prosite_uniprot_acc + uniprot_acc_cathpdb\n",
    "\n",
    "        seqs_with_model, seqs_without_model=fetch_pdb_alfafold(uniprot_acc_list, \n",
    "                                                               domain,\n",
    "                                                              )\n",
    "    else:\n",
    "        seqs_with_model, seqs_without_model=fetch_pdb_alfafold(seqs_no_pdb, \n",
    "                                                               domain,\n",
    "                                                              )\n",
    "\n",
    "\n",
    "    for uniprot_id in tqdm(seqs_with_model, desc = \"processing\"):\n",
    "        if uniprot_id in EXCLUDE_LIST:\n",
    "            continue\n",
    "\n",
    "        pdbfile =  f\"{ALFAFOLDFOLDER}/{domain}/raw/{uniprot_id}.pdb\"\n",
    "\n",
    "\n",
    "        # structure = PDBParser().get_structure('uniprot_id',)    \n",
    "\n",
    "        if os.path.isfile(pdbfile) and REBUILD == False:\n",
    "            #skip the file if already exist\n",
    "            continue\n",
    "\n",
    "\n",
    "        query = get_domain_fragment_query(uniprot_id, domain, boundaries_prosite)\n",
    "        if query == None:\n",
    "            continue\n",
    "        ppdb = PandasPdb().read_pdb(pdbfile)\n",
    "        ppdb.df[\"ATOM\"] = ppdb.df[\"ATOM\"].query(f\"{query}\")\n",
    "        ppdb.to_pdb(f\"{ALFAFOLDFOLDER}/{domain}/extracted/{uniprot_id}.pdb\")"
   ]
  },
  {
   "cell_type": "code",
   "execution_count": 37,
   "metadata": {},
   "outputs": [
    {
     "data": {
      "text/plain": [
       "'(314 <= residue_number <= 435)'"
      ]
     },
     "execution_count": 37,
     "metadata": {},
     "output_type": "execute_result"
    }
   ],
   "source": [
    "get_domain_fragment_query(\"Q9Z0L3\", 'PLA', boundaries_prosite)"
   ]
  },
  {
   "cell_type": "code",
   "execution_count": 35,
   "metadata": {},
   "outputs": [
    {
     "data": {
      "text/plain": [
       "urllib.error.URLError"
      ]
     },
     "execution_count": 35,
     "metadata": {},
     "output_type": "execute_result"
    }
   ],
   "source": []
  },
  {
   "cell_type": "code",
   "execution_count": 19,
   "metadata": {},
   "outputs": [
    {
     "name": "stdout",
     "output_type": "stream",
     "text": [
      "['__add__', '__class__', '__delattr__', '__dict__', '__dir__', '__doc__', '__eq__', '__format__', '__ge__', '__getattribute__', '__getitem__', '__gt__', '__hash__', '__init__', '__init_subclass__', '__iter__', '__le__', '__len__', '__lt__', '__module__', '__ne__', '__new__', '__reduce__', '__reduce_ex__', '__repr__', '__setattr__', '__sizeof__', '__str__', '__subclasshook__', '__weakref__', '_append', '_get_per_column_annotations', '_per_col_annotations', '_records', '_set_per_column_annotations', '_str_line', 'add_sequence', 'annotations', 'append', 'column_annotations', 'extend', 'format', 'get_alignment_length', 'sort', 'substitutions']\n"
     ]
    },
    {
     "ename": "ZeroDivisionError",
     "evalue": "division by zero",
     "output_type": "error",
     "traceback": [
      "\u001b[0;31m---------------------------------------------------------------------------\u001b[0m",
      "\u001b[0;31mZeroDivisionError\u001b[0m                         Traceback (most recent call last)",
      "\u001b[0;32m<ipython-input-19-bf5ec9609858>\u001b[0m in \u001b[0;36m<module>\u001b[0;34m\u001b[0m\n\u001b[1;32m     13\u001b[0m         \u001b[0mmsa\u001b[0m \u001b[0;34m=\u001b[0m \u001b[0mAlignIO\u001b[0m\u001b[0;34m.\u001b[0m\u001b[0mread\u001b[0m\u001b[0;34m(\u001b[0m\u001b[0mmsafilepath\u001b[0m\u001b[0;34m,\u001b[0m\u001b[0;34m'fasta'\u001b[0m\u001b[0;34m)\u001b[0m\u001b[0;34m\u001b[0m\u001b[0;34m\u001b[0m\u001b[0m\n\u001b[1;32m     14\u001b[0m         \u001b[0mprint\u001b[0m\u001b[0;34m(\u001b[0m\u001b[0mdir\u001b[0m\u001b[0;34m(\u001b[0m\u001b[0mmsa\u001b[0m\u001b[0;34m)\u001b[0m\u001b[0;34m)\u001b[0m\u001b[0;34m\u001b[0m\u001b[0;34m\u001b[0m\u001b[0m\n\u001b[0;32m---> 15\u001b[0;31m         \u001b[0;36m1\u001b[0m\u001b[0;34m/\u001b[0m\u001b[0;36m0\u001b[0m\u001b[0;34m\u001b[0m\u001b[0;34m\u001b[0m\u001b[0m\n\u001b[0m",
      "\u001b[0;31mZeroDivisionError\u001b[0m: division by zero"
     ]
    }
   ],
   "source": [
    "from Bio import AlignIO\n",
    "import re\n",
    "REGEX = re.compile(\"^(\\w+)\\|(\\w+)\\/(\\d+)-(\\d+)\")         \n",
    "\n",
    "\n",
    "all_uniprot_acc = []\n",
    "for domain in DATASET.domain.unique():\n",
    "    prosite_ids = DOMAIN_PROSITE[domain]\n",
    "    if type(prosite_ids) != type([]):\n",
    "        prosite_ids = [prosite_ids]\n",
    "    for msafile in prosite_ids:\n",
    "        msafilepath = f\"{PROSITEFOLDER}/msa/{msafile}.msa\"\n",
    "        msa = AlignIO.read(msafilepath,'fasta')\n",
    "        print(dir(msa))\n"
   ]
  },
  {
   "cell_type": "code",
   "execution_count": 60,
   "metadata": {},
   "outputs": [
    {
     "name": "stdout",
     "output_type": "stream",
     "text": [
      "{'start': 853, 'end': 942, 'dc-status': 'C_TERMINAL_DISC'}\n",
      "{'start': 994, 'end': 1026, 'dc-status': 'N_TERMINAL_DISC'}\n"
     ]
    },
    {
     "data": {
      "text/plain": [
       "'(876 <= residue_number <= 942) or (994 <= residue_number <= 1026)'"
      ]
     },
     "execution_count": 60,
     "metadata": {},
     "output_type": "execute_result"
    }
   ],
   "source": [
    "def get_domain_fragment_query(uniprot_acc, domain, boundaries_prosite):\n",
    "    start_PS,end_PS = boundaries_prosite[uniprot_acc]\n",
    "    starts_ends = [boundaries_prosite[uniprot_acc]]\n",
    "\n",
    "    if DOMAIN_INTERPRO_REFINE[domain] == True:\n",
    "        interpro = get_json(uniprot_acc, domain)\n",
    "        \n",
    "        for result in interpro[\"results\"]:\n",
    "            if result[\"metadata\"][\"accession\"] == DOMAIN_INTERPRO[domain]:\n",
    "                entry_protein_locations = result[\"proteins\"][0][\"entry_protein_locations\"]\n",
    "                \n",
    "\n",
    "                for entry in entry_protein_locations: #Get the number of truncation in the domain.\n",
    "                    nfrag = len(entry['fragments'])\n",
    "                        \n",
    "                    if nfrag >= 2 and ( entry['fragments'][0].get('start') - 50 <= start_PS <= entry['fragments'][0].get('start')+50) : #if truncated domain AND correspond to the prosite domain\n",
    "                        queries = []\n",
    "                        starts_ends = []\n",
    "                        for frag in entry['fragments']:\n",
    "                            print(frag)\n",
    "                            s=int(frag.get(\"start\"))\n",
    "                            e=int(frag.get(\"end\"))\n",
    "                            starts_ends.append([s,e])\n",
    "                        if use_uniprot_boundaries == True:\n",
    "                            starts_ends[0][0] = start_PS\n",
    "                            starts_ends[-1][-1] = end_PS\n",
    "                            \n",
    "                    else: #use prosite fragment\n",
    "                        starts_ends = [[start_PS, end_PS]]\n",
    "                    \n",
    "\n",
    "                QueryString = \" or \".join([f\"({x} <= residue_number <= {y})\" for x,y in starts_ends])\n",
    "        \n",
    "    else:\n",
    "        QueryString = \" or \".join([f\"({x} <= residue_number <= {y})\" for x,y in starts_ends])\n",
    "    return QueryString\n",
    "\n",
    "\n",
    "\n",
    "boundaries = get_prosite_boundaries_dict(\"PH\")\n",
    "query = get_domain_fragment_query('Q55E26', \"PH\", boundaries)\n",
    "#query = get_domain_fragment_query('F1LXF1', \"PH\", boundaries)\n",
    "query"
   ]
  },
  {
   "cell_type": "code",
   "execution_count": 42,
   "metadata": {},
   "outputs": [
    {
     "data": {
      "text/plain": [
       "188"
      ]
     },
     "execution_count": 42,
     "metadata": {},
     "output_type": "execute_result"
    }
   ],
   "source": [
    "query[0][\"fragments\"][0]['start']"
   ]
  },
  {
   "cell_type": "markdown",
   "metadata": {},
   "source": [
    "read the MSA and get the position."
   ]
  },
  {
   "cell_type": "code",
   "execution_count": 137,
   "metadata": {},
   "outputs": [],
   "source": [
    "from Bio import AlignIO\n",
    "import re\n",
    "regex = re.compile(\"^(\\w+)\\|(\\w+)\\/(\\d+)-(\\d+)\")\n",
    "boundaries = {}\n",
    "\n",
    "prosite_ids = DOMAIN_PROSITE[domain]\n",
    "if type(prosite_ids) != type([]):\n",
    "    prosite_ids = [prosite_ids]\n",
    "for msafile in prosite_ids:\n",
    "    msafilepath = f\"{PROSITEFOLDER}/msa/{msafile}.msa\"\n",
    "    msa = AlignIO.read(msafilepath,'fasta')\n",
    "    for record in msa:\n",
    "        seqid = record.id\n",
    "        match = regex.match(seqid)\n",
    "        if match:\n",
    "            uniprot_id = match.group(2)\n",
    "            start = match.group(3)\n",
    "            end = match.group(4)\n",
    "            boundaries[uniprot_id] = (int(start),int(end))"
   ]
  },
  {
   "cell_type": "code",
   "execution_count": 17,
   "metadata": {},
   "outputs": [
    {
     "data": {
      "text/plain": [
       "['Q08748', 'Q9ESD7', 'O00750', 'Q7ZWU7', 'Q9Y6V0', ..., 'A5D6R3', 'Q4R6L3', 'Q8BTI9', 'O77793', 'A0FGR9']\n",
       "Length: 132\n",
       "Categories (132, object): ['Q08748', 'Q9ESD7', 'O00750', 'Q7ZWU7', ..., 'Q4R6L3', 'Q8BTI9', 'O77793', 'A0FGR9']"
      ]
     },
     "execution_count": 17,
     "metadata": {},
     "output_type": "execute_result"
    }
   ],
   "source": [
    "seqs_no_pdb"
   ]
  },
  {
   "cell_type": "code",
   "execution_count": 83,
   "metadata": {},
   "outputs": [
    {
     "data": {
      "text/plain": [
       "('821', '921')"
      ]
     },
     "execution_count": 83,
     "metadata": {},
     "output_type": "execute_result"
    }
   ],
   "source": []
  },
  {
   "cell_type": "markdown",
   "metadata": {},
   "source": [
    "Reading alfafold pdbs and saving only PH domains."
   ]
  },
  {
   "cell_type": "code",
   "execution_count": 20,
   "metadata": {},
   "outputs": [
    {
     "data": {
      "application/vnd.jupyter.widget-view+json": {
       "model_id": "dec0423e73c14e258f7def9dc3876337",
       "version_major": 2,
       "version_minor": 0
      },
      "text/plain": [
       "HBox(children=(HTML(value=''), FloatProgress(value=0.0, max=113.0), HTML(value='')))"
      ]
     },
     "metadata": {},
     "output_type": "display_data"
    },
    {
     "name": "stdout",
     "output_type": "stream",
     "text": [
      "\n"
     ]
    }
   ],
   "source": [
    "from Bio.PDB import PDBParser\n",
    "\n",
    "\n",
    "for uniprot_id in tqdm(seqs_with_model):\n",
    "    start,end = boundaries[uniprot_id]\n",
    "    pdbfile =  f\"{ALFAFOLDFOLDER}/{domain}/raw/{uniprot_id}.pdb\"\n",
    "    # structure = PDBParser().get_structure('uniprot_id',)    \n",
    "\n",
    "    from biopandas.pdb import PandasPdb\n",
    "    ppdb = PandasPdb().read_pdb(pdbfile)\n",
    "\n",
    "    ppdb.df[\"ATOM\"] = ppdb.df[\"ATOM\"].query(\"@start <= residue_number <= @end\")\n",
    "    ppdb.to_pdb(f\"{ALFAFOLDFOLDER}/{domain}/{uniprot_id}.pdb\")"
   ]
  },
  {
   "cell_type": "code",
   "execution_count": 23,
   "metadata": {},
   "outputs": [],
   "source": [
    "def fetch_json_information(uniprot_acc):\n",
    "    response = requests.get(f\"https://www.ebi.ac.uk/interpro/api/entry/ssf/protein/reviewed/{uniprot_acc}/?page_size=200\").text\n",
    "    interpro = json.loads(response)"
   ]
  },
  {
   "cell_type": "code",
   "execution_count": 133,
   "metadata": {},
   "outputs": [
    {
     "name": "stdout",
     "output_type": "stream",
     "text": [
      "CPU times: user 15.8 ms, sys: 10.7 ms, total: 26.5 ms\n",
      "Wall time: 180 ms\n"
     ]
    }
   ],
   "source": [
    "%%time\n",
    "import requests\n",
    "import json\n",
    "domain='PH'\n",
    "uniprot_acc = \"F1LXF1\"\n",
    "response = requests.get(f\"https://www.ebi.ac.uk/interpro/api/entry/ssf/protein/reviewed/{uniprot_acc}/?page_size=200\").text\n",
    "interpro = json.loads(response)"
   ]
  },
  {
   "cell_type": "code",
   "execution_count": 139,
   "metadata": {},
   "outputs": [
    {
     "name": "stdout",
     "output_type": "stream",
     "text": [
      "(499 <= residue_number <= 566) or (624 <= residue_number <= 657)\n",
      "CPU times: user 273 µs, sys: 103 µs, total: 376 µs\n",
      "Wall time: 335 µs\n"
     ]
    }
   ],
   "source": [
    "%%time\n",
    "\n",
    "use_uniprot_boundaries = True\n",
    "\n",
    "start_PS,end_PS = boundaries[uniprot_acc]\n",
    "\n",
    "for result in interpro[\"results\"]:\n",
    "    if result[\"metadata\"][\"accession\"] == DOMAIN_INTERPRO[domain]:\n",
    "        fragments = result[\"proteins\"][0][\"entry_protein_locations\"][0][\"fragments\"]\n",
    "        if len(fragments) >= 2:\n",
    "            starts_ends = []\n",
    "            queries = []\n",
    "            for frag in fragments:\n",
    "                s=int(frag.get(\"start\"))\n",
    "                e=int(frag.get(\"end\"))\n",
    "                starts_ends.append([s,e])\n",
    "#                queries.append(f\"({s} <= residue_number <= {e})\")\n",
    "            if use_uniprot_boundaries == True:\n",
    "                starts_ends[0][0] = start_PS\n",
    "                starts_ends[-1][-1] = end_PS\n",
    "        else: #use prosite fragment\n",
    "            starts_ends = [start_PS, end_PS]\n",
    "            \n",
    "        QueryString = \" or \".join([f\"({x} <= residue_number <= {y})\" for x,y in starts_ends])\n",
    "        \n",
    "            \n",
    "            \n",
    "print(QueryString)"
   ]
  },
  {
   "cell_type": "code",
   "execution_count": 162,
   "metadata": {},
   "outputs": [],
   "source": []
  },
  {
   "cell_type": "code",
   "execution_count": 65,
   "metadata": {},
   "outputs": [
    {
     "data": {
      "text/plain": [
       "'(601 <= residue_number <= 822)'"
      ]
     },
     "execution_count": 65,
     "metadata": {},
     "output_type": "execute_result"
    }
   ],
   "source": [
    "get_domain_fragment_query(\"Q54C71\", domain, boundaries)"
   ]
  },
  {
   "cell_type": "code",
   "execution_count": 173,
   "metadata": {},
   "outputs": [
    {
     "data": {
      "text/plain": [
       "{'count': 4,\n",
       " 'next': None,\n",
       " 'previous': None,\n",
       " 'results': [{'metadata': {'accession': 'SSF48403',\n",
       "    'name': 'Ankyrin repeat',\n",
       "    'source_database': 'ssf',\n",
       "    'type': 'homologous_superfamily',\n",
       "    'integrated': 'IPR036770',\n",
       "    'member_databases': None,\n",
       "    'go_terms': None},\n",
       "   'proteins': [{'accession': 'q8cgu4',\n",
       "     'protein_length': 1186,\n",
       "     'source_database': 'reviewed',\n",
       "     'organism': '10116',\n",
       "     'entry_protein_locations': [{'fragments': [{'start': 1051,\n",
       "         'end': 1143,\n",
       "         'dc-status': 'CONTINUOUS'}],\n",
       "       'model': '0047382',\n",
       "       'score': 4.98e-16}]}]},\n",
       "  {'metadata': {'accession': 'SSF50729',\n",
       "    'name': 'PH domain-like',\n",
       "    'source_database': 'ssf',\n",
       "    'type': 'homologous_superfamily',\n",
       "    'integrated': None,\n",
       "    'member_databases': None,\n",
       "    'go_terms': None},\n",
       "   'proteins': [{'accession': 'q8cgu4',\n",
       "     'protein_length': 1186,\n",
       "     'source_database': 'reviewed',\n",
       "     'organism': '10116',\n",
       "     'entry_protein_locations': [{'fragments': [{'start': 668,\n",
       "         'end': 733,\n",
       "         'dc-status': 'C_TERMINAL_DISC'},\n",
       "        {'start': 868, 'end': 911, 'dc-status': 'N_TERMINAL_DISC'}],\n",
       "       'model': '0040330',\n",
       "       'score': 5.32e-15}]}]},\n",
       "  {'metadata': {'accession': 'SSF52540',\n",
       "    'name': 'P-loop containing nucleoside triphosphate hydrolases',\n",
       "    'source_database': 'ssf',\n",
       "    'type': 'homologous_superfamily',\n",
       "    'integrated': 'IPR027417',\n",
       "    'member_databases': None,\n",
       "    'go_terms': None},\n",
       "   'proteins': [{'accession': 'q8cgu4',\n",
       "     'protein_length': 1186,\n",
       "     'source_database': 'reviewed',\n",
       "     'organism': '10116',\n",
       "     'entry_protein_locations': [{'fragments': [{'start': 397,\n",
       "         'end': 568,\n",
       "         'dc-status': 'CONTINUOUS'}],\n",
       "       'model': '0052005',\n",
       "       'score': 1.05e-28}]}]},\n",
       "  {'metadata': {'accession': 'SSF57863',\n",
       "    'name': 'ArfGap/RecO-like zinc finger',\n",
       "    'source_database': 'ssf',\n",
       "    'type': 'homologous_superfamily',\n",
       "    'integrated': 'IPR037278',\n",
       "    'member_databases': None,\n",
       "    'go_terms': None},\n",
       "   'proteins': [{'accession': 'q8cgu4',\n",
       "     'protein_length': 1186,\n",
       "     'source_database': 'reviewed',\n",
       "     'organism': '10116',\n",
       "     'entry_protein_locations': [{'fragments': [{'start': 928,\n",
       "         'end': 1039,\n",
       "         'dc-status': 'CONTINUOUS'}],\n",
       "       'model': '0036355',\n",
       "       'score': 5.62e-40}]}]}]}"
      ]
     },
     "execution_count": 173,
     "metadata": {},
     "output_type": "execute_result"
    }
   ],
   "source": [
    "def get_json(uniprot_acc, domain):\n",
    "    jsonfolder = f\"{ALFAFOLDFOLDER}/{domain}/json\"\n",
    "    if not os.path.exists(jsonfolder):\n",
    "        os.makedirs(jsonfolder)\n",
    "        \n",
    "    jsonfile = f\"{jsonfolder}/{uniprot_acc}.json\"\n",
    "    if os.path.isfile(jsonfile):\n",
    "        f = open(jsonfile)\n",
    "        interpro = json.load(f)\n",
    "    else:\n",
    "        #make the query on ebi/interpro\n",
    "        response = requests.get(f\"https://www.ebi.ac.uk/interpro/api/entry/ssf/protein/reviewed/{uniprot_acc}/?page_size=200\").text\n",
    "        interpro = json.loads(response)\n",
    "        with open(jsonfile,'w') as out:\n",
    "            json.dump(interpro, out, indent=2)\n",
    "            \n",
    "    return(interpro)\n",
    "                    "
   ]
  },
  {
   "cell_type": "code",
   "execution_count": 43,
   "metadata": {},
   "outputs": [
    {
     "data": {
      "text/plain": [
       "1           [Early endosome, Cytoplasmic vesicle, Phagosome]\n",
       "4           [Early endosome, Cytoplasmic vesicle, Phagosome]\n",
       "6          [Cell membrane, Cytoplasm, Early endosome, Rec...\n",
       "9          [Cell membrane, Cytoplasm, Early endosome, Rec...\n",
       "14          [Early endosome, Cytoplasmic vesicle, Phagosome]\n",
       "                                 ...                        \n",
       "7395878                                           [Secreted]\n",
       "7395879                                           [Secreted]\n",
       "7395880                                           [Secreted]\n",
       "7395881                                           [Secreted]\n",
       "7395882                                           [Secreted]\n",
       "Name: location, Length: 1519907, dtype: object"
      ]
     },
     "execution_count": 43,
     "metadata": {},
     "output_type": "execute_result"
    }
   ],
   "source": [
    "DATASET.groupby(\"cathpdb\")"
   ]
  },
  {
   "cell_type": "code",
   "execution_count": null,
   "metadata": {},
   "outputs": [],
   "source": []
  }
 ],
 "metadata": {
  "kernelspec": {
   "display_name": "Python [conda env:peprmint]",
   "language": "python",
   "name": "conda-env-peprmint-py"
  },
  "language_info": {
   "codemirror_mode": {
    "name": "ipython",
    "version": 3
   },
   "file_extension": ".py",
   "mimetype": "text/x-python",
   "name": "python",
   "nbconvert_exporter": "python",
   "pygments_lexer": "ipython3",
   "version": "3.7.9"
  }
 },
 "nbformat": 4,
 "nbformat_minor": 4
}
