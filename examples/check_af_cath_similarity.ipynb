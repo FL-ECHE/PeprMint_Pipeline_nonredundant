{
 "cells": [
  {
   "cell_type": "code",
   "execution_count": null,
   "id": "3d7049c9-b054-4382-9dd8-e8e03408b527",
   "metadata": {
    "tags": []
   },
   "outputs": [],
   "source": [
    "from check_af_cath_similarity import ExampleComparingAFCATH"
   ]
  },
  {
   "cell_type": "code",
   "execution_count": null,
   "id": "6d129b1c-3bdd-4cbf-a4f6-fb79be3d7bfc",
   "metadata": {
    "tags": []
   },
   "outputs": [],
   "source": [
    "ex = ExampleComparingAFCATH()\n",
    "ex.test_equality_test1()"
   ]
  },
  {
   "cell_type": "code",
   "execution_count": null,
   "id": "7847132c-c46f-41ea-aaea-2879439cb0e3",
   "metadata": {
    "tags": []
   },
   "outputs": [],
   "source": [
    "#ex.test_equality_test1()\n",
    "ex.test_equality_test2()"
   ]
  },
  {
   "cell_type": "code",
   "execution_count": null,
   "id": "be71199f-b9de-40ca-80ed-1ace3e2b5871",
   "metadata": {
    "tags": []
   },
   "outputs": [],
   "source": [
    "ex.main()"
   ]
  }
 ],
 "metadata": {
  "kernelspec": {
   "display_name": "Python [conda env:peprmint]",
   "language": "python",
   "name": "conda-env-peprmint-py"
  },
  "language_info": {
   "codemirror_mode": {
    "name": "ipython",
    "version": 3
   },
   "file_extension": ".py",
   "mimetype": "text/x-python",
   "name": "python",
   "nbconvert_exporter": "python",
   "pygments_lexer": "ipython3",
   "version": "3.7.12"
  }
 },
 "nbformat": 4,
 "nbformat_minor": 5
}
