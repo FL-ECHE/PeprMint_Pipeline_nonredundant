{
 "cells": [
  {
   "cell_type": "markdown",
   "metadata": {},
   "source": [
    "# Tag the binding site on all proteins of the dataset. WITHOUT ALPHAFOLD STRUCTURES"
   ]
  },
  {
   "cell_type": "code",
   "execution_count": 1,
   "metadata": {},
   "outputs": [
    {
     "name": "stderr",
     "output_type": "stream",
     "text": [
      "/Users/thibault/miniconda3/envs/peprmint/lib/python3.7/site-packages/tqdm/std.py:699: FutureWarning: The Panel class is removed from pandas. Accessing it from the top-level namespace will also be removed in the next version\n",
      "  from pandas import Panel\n"
     ]
    },
    {
     "data": {
      "application/vnd.jupyter.widget-view+json": {
       "model_id": "4480f38825d54b3a9f9034acf15b8656",
       "version_major": 2,
       "version_minor": 0
      },
      "text/plain": []
     },
     "metadata": {},
     "output_type": "display_data"
    }
   ],
   "source": [
    "## Imports and settings\n",
    "import pandas as pd\n",
    "import numpy as np\n",
    "import math\n",
    "import seaborn as sns\n",
    "import matplotlib.pyplot as plt\n",
    "from scipy.spatial import ConvexHull\n",
    "#%matplotlib inline\n",
    "sns.set_style(\"darkgrid\")\n",
    "\n",
    "import ipywidgets as widgets\n",
    "from IPython.display import display, Markdown, clear_output\n",
    "\n",
    "\n",
    "# from tqdm.auto import tqdm\n",
    "from tqdm.notebook import tnrange, tqdm\n",
    "\n",
    "tqdm.pandas()  # activate tqdm progressbar for pandas apply\n",
    "\n",
    "pd.options.mode.chained_assignment = (\n",
    "    None  # default='warn', remove pandas warning when adding a new column\n",
    ")\n",
    "pd.set_option(\"display.max_columns\", None)\n",
    "\n",
    "from IPython.core.interactiveshell import InteractiveShell\n",
    "\n",
    "\n",
    "InteractiveShell.ast_node_interactivity = \"all\"\n",
    "#%config InlineBackend.figure_format ='svg' #better quality figure figure\n",
    "np.seterr(divide='ignore', invalid='ignore')\n",
    "\n",
    "import matplotlib.gridspec as gridspec\n",
    "\n",
    "\n",
    "import MDAnalysis as mda\n",
    "import nglview as nv"
   ]
  },
  {
   "cell_type": "code",
   "execution_count": 2,
   "metadata": {},
   "outputs": [],
   "source": [
    "%run \"./00-SETUP.ipynb\""
   ]
  },
  {
   "cell_type": "code",
   "execution_count": 3,
   "metadata": {},
   "outputs": [
    {
     "data": {
      "text/plain": [
       "['cathpdb', 'alfafold', 'prosite']\n",
       "Categories (3, object): ['cathpdb', 'alfafold', 'prosite']"
      ]
     },
     "execution_count": 3,
     "metadata": {},
     "output_type": "execute_result"
    }
   ],
   "source": [
    "### Load Dataset \n",
    "DATASET = pd.read_pickle(f\"{WORKDIR}/DATASET_peprmint_d25.pkl\")\n",
    "#DATASET = pd.read_pickle(f\"{WORKDIR}/DATASET_peprmint.backup\")"
   ]
  },
  {
   "cell_type": "code",
   "execution_count": 5,
   "metadata": {},
   "outputs": [
    {
     "data": {
      "text/plain": [
       "3714"
      ]
     },
     "execution_count": 5,
     "metadata": {},
     "output_type": "execute_result"
    }
   ],
   "source": []
  },
  {
   "cell_type": "code",
   "execution_count": 9,
   "metadata": {},
   "outputs": [
    {
     "data": {
      "text/plain": [
       "array(['3rlhA00', '4rw3A00'], dtype=object)"
      ]
     },
     "execution_count": 9,
     "metadata": {},
     "output_type": "execute_result"
    }
   ],
   "source": [
    "s100 = DATASET.query(\"cathpdb == '3rlhA00'\").S100.unique()[0]\n",
    "DATASET.query(\"S100 == @s100 and domain == 'PLD'\").cathpdb.unique()"
   ]
  },
  {
   "cell_type": "code",
   "execution_count": 10,
   "metadata": {},
   "outputs": [],
   "source": [
    "DO_REPORT = False\n",
    "DO_PICTURES = False\n",
    "SHOW_EXAMPLE = False\n",
    "DO_ALIGNMENT = False\n",
    "\n",
    "if 'DATATYPE' not in globals() or 'DATATYPE' not in locals():\n",
    "    print(\"DATATYPE NOT FOUND\")\n",
    "    DATATYPE='cath'\n",
    "\n",
    "if DATATYPE == 'alfafold' or DATATYPE == 'cath+af':\n",
    "    ALIGNMENTFOLDER = 'aligned_cath-AF'\n",
    "else:\n",
    "    ALIGNMENTFOLDER = 'cath'\n",
    "\n",
    "\n"
   ]
  },
  {
   "cell_type": "markdown",
   "metadata": {},
   "source": [
    "## Define cluster level here"
   ]
  },
  {
   "cell_type": "code",
   "execution_count": 11,
   "metadata": {},
   "outputs": [],
   "source": [
    "clusterLevel = \"S100\"\n",
    "ZAXISLEVEL=0"
   ]
  },
  {
   "cell_type": "markdown",
   "metadata": {},
   "source": [
    "# Run statistical analysis"
   ]
  },
  {
   "cell_type": "markdown",
   "metadata": {},
   "source": [
    "## PH Domain"
   ]
  },
  {
   "cell_type": "code",
   "execution_count": 12,
   "metadata": {},
   "outputs": [],
   "source": [
    "if DO_ALIGNMENT:\n",
    "    !cd /Users/thibault/Documents/WORK/peprmint/databases/cath/domains/PH\n",
    "    !/Users/thibault/miniconda3/envs/peprmint/bin/python ~/OneDrive\\ -\\ University\\ of\\ Bergen/projects/peprmint/dev/pepermintdataset/scripts/align_on_z.py -d PH -ref 2da0A00 -res1 19 -res2 42 -res3 50 -i 'raw' -o 'zaligned'\n",
    "    #!/Users/thibault/miniconda3/envs/peprmint/bin/python ~/OneDrive\\ -\\ University\\ of\\ Bergen/projects/peprmint/dev/pepermintdataset/scripts/align_on_z.py -d PH -ref 1fgyA00 -res1 367 -res2 276 -res3 349 -i 'raw' -o 'zaligned_sansom'"
   ]
  },
  {
   "cell_type": "markdown",
   "metadata": {},
   "source": [
    "### Canonic orientation"
   ]
  },
  {
   "cell_type": "code",
   "execution_count": null,
   "metadata": {},
   "outputs": [],
   "source": []
  },
  {
   "cell_type": "markdown",
   "metadata": {},
   "source": [
    "#### Figure S2. Odds ratio for Secondary Structures "
   ]
  },
  {
   "cell_type": "code",
   "execution_count": null,
   "metadata": {},
   "outputs": [],
   "source": [
    "\n",
    "#1. SSE HPIBS ENVIR\n",
    "MERGED.domainDf = backup_prot_HPIBS.copy()\n",
    "\n",
    "tableCount_HPIBS, oddratios_AA_HPIBS = MERGED.analysis.oddsratio_graph(among=\"is_hydrophobic_protrusion\", feature=\"residue_name\", envir=True, title=\"Log(OR) per amino acid\",return_dataset=True, return_tablecount=True, condition=\"exposed\", exclude_protrusion=True)\n",
    "tableCount_HPIBS.reset_index(inplace=True)\n",
    "tableCount_HPIBS[\"Percentage\"] = tableCount_HPIBS.groupby([\"IBS\",\"residue_name\"], as_index=False).apply(lambda x: x.Count/x.total*100).droplevel(0)\n",
    "tableCount_HPIBS[\"Surface\"] = tableCount_HPIBS[\"IBS\"].apply(lambda x: \"IBS\" if x == True else \"nonIBS\")\n",
    "#tableCount, oddratios_AA = MERGED.analysis.oddsratio_graph(among=\"protrusions\", feature=\"residue_name\", envir=True, title=\"Log(OR) per amino acid\",return_dataset=True, return_tablecount=True, condition=\"exposed\", exclude_protrusion=True)\n",
    "tableCountSSE_HPIBS, oddratios_SSE_HPIBS = MERGED.analysis.oddsratio_graph(among=\"is_hydrophobic_protrusion\", feature=\"sec_struc\", envir=True, title=\"Log(OR) per amino acid\",return_dataset=True, return_tablecount=True, condition=\"exposed\", exclude_protrusion=True)\n",
    "tableCountSSE_HPIBS.reset_index(inplace=True)\n",
    "tableCountSSE_HPIBS[\"Percentage\"] = tableCountSSE_HPIBS.groupby([\"IBS\",\"sec_struc\"], as_index=False).apply(lambda x: x.Count/x.total*100).droplevel(0)\n",
    "tableCountSSE_HPIBS[\"Surface\"] = tableCountSSE_HPIBS[\"IBS\"].apply(lambda x: \"IBS\" if x == True else \"nonIBS\")\n",
    "labelsdict = {\"C\":\"Loop\", \"E\":\"β-sheet\",\"H\":\"α-helix\"}\n",
    "tableCountSSE_HPIBS[\"Secondary Structure\"] = tableCountSSE_HPIBS[\"sec_struc\"].apply(lambda x: labelsdict[x])\n",
    "oddratios_SSE_HPIBS.insert(0, \"Secondary Structure\", oddratios_SSE_HPIBS[\"sec_struc\"].apply(lambda x: labelsdict[x]))\n",
    "MERGED.domainDf = backup_all.copy()\n",
    "\n",
    "\n",
    "tc_sec_struc_HPIBS = MERGED.domainDf.query(\"protrusion == True\").groupby(\"IBS\").sec_struc.value_counts(normalize=True).to_frame('Percentage').reset_index()\n",
    "tc_sec_struc_HPIBS[\"Surface\"] = tc_sec_struc_HPIBS[\"IBS\"].apply(lambda x: \"IBS\" if x == True else \"nonIBS\")\n",
    "labelsdict = {\"C\":\"Loop\", \"E\":\"β-sheet\",\"H\":\"α-helix\"}\n",
    "tc_sec_struc_HPIBS[\"Secondary Structure\"] = tc_sec_struc_HPIBS[\"sec_struc\"].apply(lambda x: labelsdict[x])\n",
    "MERGED.domainDf[\"Secondary Structure\"] = MERGED.domainDf[\"sec_struc\"].apply(lambda x: labelsdict[x])\n",
    "tc_sec_struc_HPIBS[\"Percentage\"] = tc_sec_struc_HPIBS[\"Percentage\"]*100\n",
    "\n",
    "#2. SSE noHPIBS envir precalculation\n",
    "MERGED.domainDf = backup_prot_noHPIBS.copy()\n",
    "tableCount_noHPIBS, oddratios_AA_noHPIBS = MERGED.analysis.oddsratio_graph(among=\"is_hydrophobic_protrusion\", feature=\"residue_name\", envir=True, title=\"Log(OR) per amino acid\",return_dataset=True, return_tablecount=True, condition=\"exposed\", exclude_protrusion=True)\n",
    "tableCount_noHPIBS.reset_index(inplace=True)\n",
    "tableCount_noHPIBS[\"Percentage\"] = tableCount_noHPIBS.groupby([\"IBS\",\"residue_name\"], as_index=False).apply(lambda x: x.Count/x.total*100).droplevel(0)\n",
    "tableCount_noHPIBS[\"Surface\"] = tableCount_noHPIBS[\"IBS\"].apply(lambda x: \"IBS\" if x == True else \"nonIBS\")\n",
    "#tableCount, oddratios_AA = MERGED.analysis.oddsratio_graph(among=\"protrusions\", feature=\"residue_name\", envir=True, title=\"Log(OR) per amino acid\",return_dataset=True, return_tablecount=True, condition=\"exposed\", exclude_protrusion=True)\n",
    "tableCountSSE_noHPIBS, oddratios_SSE_noHPIBS = MERGED.analysis.oddsratio_graph(among=\"is_hydrophobic_protrusion\", feature=\"sec_struc\", envir=True, title=\"Log(OR) per amino acid\",return_dataset=True, return_tablecount=True, condition=\"exposed\", exclude_protrusion=True)\n",
    "tableCountSSE_noHPIBS.reset_index(inplace=True)\n",
    "tableCountSSE_noHPIBS[\"Percentage\"] = tableCountSSE_noHPIBS.groupby([\"IBS\",\"sec_struc\"], as_index=False).apply(lambda x: x.Count/x.total*100).droplevel(0)\n",
    "tableCountSSE_noHPIBS[\"Surface\"] = tableCountSSE_noHPIBS[\"IBS\"].apply(lambda x: \"IBS\" if x == True else \"nonIBS\")\n",
    "labelsdict = {\"C\":\"Loop\", \"E\":\"β-sheet\",\"H\":\"α-helix\"}\n",
    "tableCountSSE_noHPIBS[\"Secondary Structure\"] = tableCountSSE_noHPIBS[\"sec_struc\"].apply(lambda x: labelsdict[x])\n",
    "oddratios_SSE_noHPIBS.insert(0, \"Secondary Structure\", oddratios_SSE_noHPIBS[\"sec_struc\"].apply(lambda x: labelsdict[x]))\n",
    "MERGED.domainDf = backup_all.copy()\n",
    "\n",
    "tc_sec_struc_noHPIBS_envir = MERGED.domainDf.query(\"protrusion == True\").groupby(\"IBS\").sec_struc.value_counts(normalize=True).to_frame('Percentage').reset_index()\n",
    "tc_sec_struc_noHPIBS_envir[\"Surface\"] = tc_sec_struc_noHPIBS_envir[\"IBS\"].apply(lambda x: \"IBS\" if x == True else \"nonIBS\")\n",
    "labelsdict = {\"C\":\"Loop\", \"E\":\"β-sheet\",\"H\":\"α-helix\"}\n",
    "tc_sec_struc_noHPIBS_envir[\"Secondary Structure\"] = tc_sec_struc_noHPIBS_envir[\"sec_struc\"].apply(lambda x: labelsdict[x])\n",
    "MERGED.domainDf[\"Secondary Structure\"] = MERGED.domainDf[\"sec_struc\"].apply(lambda x: labelsdict[x])\n",
    "tc_sec_struc_noHPIBS_envir[\"Percentage\"] = tc_sec_struc_noHPIBS_envir[\"Percentage\"]*100\n"
   ]
  },
  {
   "cell_type": "code",
   "execution_count": null,
   "metadata": {},
   "outputs": [
    {
     "data": {
      "image/png": "[encoded data removed]",
      "text/plain": [
       "<Figure size 3000x1000 with 3 Axes>"
      ]
     },
     "metadata": {},
     "output_type": "display_data"
    }
   ],
   "source": [
    "MERGED.domainDf = backup_prot_HPIBS.copy()\n",
    "sns.set_style(\"whitegrid\") #Seaborn style\n",
    "\n",
    "fig = plt.figure(figsize=(15,5))\n",
    "gs = gridspec.GridSpec(ncols=3, nrows=1, width_ratios=[1,1,1], height_ratios=[1])\n",
    "gs.update(hspace=0.05)\n",
    "ax0 = plt.subplot(gs[0,0])\n",
    "ax1 = plt.subplot(gs[0,1])\n",
    "ax2 = plt.subplot(gs[0,2])\n",
    "\n",
    "\n",
    "\n",
    "#1.1 Composition\n",
    "graph_HPIBS_envir = sns.barplot(data=tc_sec_struc_HPIBS,\n",
    "                    x=\"Secondary Structure\",\n",
    "                    y=\"Percentage\",\n",
    "                    hue=\"Surface\",\n",
    "                    palette=palette_IBS,\n",
    "                    ax=ax0)\n",
    "_= graph_HPIBS_envir.set(title=\"\",#HPIBS HP environment\",\n",
    "         xlabel=\"\",\n",
    "         )\n",
    "\n",
    "#2. SSE noHPIBS composition\n",
    "MERGED.domainDf = backup_prot_noHPIBS.copy()\n",
    "tc_sec_struc_noHPIBS_envir_prot = MERGED.domainDf.query(\"protrusion == True\").groupby(\"IBS\").sec_struc.value_counts(normalize=True).to_frame('Percentage').reset_index()\n",
    "tc_sec_struc_noHPIBS_envir_prot[\"Surface\"] = tc_sec_struc[\"IBS\"].apply(lambda x: \"IBS\" if x == True else \"nonIBS\")\n",
    "labelsdict = {\"C\":\"Loop\", \"E\":\"β-sheet\",\"H\":\"α-helix\"}\n",
    "tc_sec_struc_noHPIBS_envir_prot[\"Secondary Structure\"] = tc_sec_struc_noHPIBS_envir_prot[\"sec_struc\"].apply(lambda x: labelsdict[x])\n",
    "tc_sec_struc_noHPIBS_envir_prot[\"Percentage\"] = tc_sec_struc_noHPIBS_envir_prot[\"Percentage\"]*100\n",
    "\n",
    "graph_noHPIBS_prot = sns.barplot(data=tc_sec_struc_noHPIBS_envir_prot,\n",
    "                    x=\"Secondary Structure\",\n",
    "                    y=\"Percentage\",\n",
    "                    hue=\"Surface\",\n",
    "                    palette=palette_IBS,\n",
    "                    ax=ax1)\n",
    "_= graph_noHPIBS_prot.set(title=\"\",#SSE noHPIBS protrusions\",\n",
    "         xlabel=\"\")\n",
    "\n",
    "#2. SSE noHPIBS environment\n",
    "\n",
    "#1.1 Composition\n",
    "graph_noHPIBS_envir = sns.barplot(data=tc_sec_struc_noHPIBS_envir,\n",
    "                    x=\"Secondary Structure\",\n",
    "                    y=\"Percentage\",\n",
    "                    hue=\"Surface\",\n",
    "                    palette=palette_IBS,\n",
    "                    ax=ax2)\n",
    "_= graph_noHPIBS_envir.set(title=\"\",#SSE noHPIBS protrusions' environment\",\n",
    "         xlabel=\"\")\n",
    "\n",
    "_= ax0.text(-0.1,1.02, \"A\",transform=ax0.transAxes, fontsize=20)\n",
    "_= ax1.text(-0.1,1.02, \"B\",transform=ax1.transAxes, fontsize=20)\n",
    "_= ax2.text(-0.1,1.02, \"C\",transform=ax2.transAxes, fontsize=20)\n",
    "\n",
    "save_fig(f\"FigS2{filesufix}\", transparent=False, format=FORMAT)\n",
    "\n",
    "MERGED.domainDf = backup_all.copy()"
   ]
  },
  {
   "cell_type": "code",
   "execution_count": null,
   "metadata": {},
   "outputs": [],
   "source": []
  },
  {
   "cell_type": "code",
   "execution_count": 13,
   "metadata": {},
   "outputs": [
    {
     "name": "stdout",
     "output_type": "stream",
     "text": [
      "142 will be removed IN TOTAL\n"
     ]
    }
   ],
   "source": [
    "#Prepare Exclusion of PTB and other domains\n",
    "#Procedure\n",
    "#1. Get protein template from Mark Lemmon review (https://www.ncbi.nlm.nih.gov/pmc/articles/PMC1221219/pdf/10926821.pdf) or from the PDB\n",
    "#2. search from this protein in rcsb PDB -> Annotation -> Click on the PFAM familly \n",
    "#3. In the results, display only PDB IDs \n",
    "#4. For each PDB, get S60 Cluster IDS. \n",
    "#5. Remove those S60 Cluster IDs from the PH superfamilly.\n",
    "\n",
    "# LIST OF PFAM\n",
    "# PTB = PF00640\n",
    "# RANDB = PF00638\n",
    "# EVH/WH1 = PF00568  \n",
    "\n",
    "pdb_PTB = \"2YT8_1,2YT7_1,6DM4_2,3O17_2,3D8F_1,2E45_1,2YT1_1,6O5O_1,1NU2_1,3O2M_2,3H8D_2,1NTV_1,5LW1_3,6FUZ_1,2G01_2,6LNM_2,5YI7_1,5YI8_1,4DBB_1,6F5E_3,2NMB_1,2MYQ_1,1N3H_1,3F0W_1,3SUZ_1,3SV1_1,1SHC_1,2L1C_1,1AQC_1,2YSC_1,3D8D_1,2YSZ_1,3D8E_1,1OY2_1,3VUG_2,4JMH_2,5NQH_1,3VUH_2,3VUK_2,3VUI_2,4E73_2,2FPD_1,3VUL_2,2EJ8_1,6ITU_1,1WJ1_1,3OXI_2,5C5B_2,5C5B_1,6F7O_1,2FPF_1,2LSW_1,1WGU_1,4Z88_2,2ELA_1,2ELB_1,2DYQ_1,2FPE_1,3VUM_2,5UWS_4,2GMX_2,6OVF_1,2IDH_1,2OEI_1,4H8S_1,2EAM_1,1OQN_1,1TCE_1,4G1W_2,4XWX_1,5YQG_2,1X11_1,1M7E_1,1MIL_1,4HYS_2,1P3R_1,2Z0N_1,2LMR_1,3QYB_1,5NJK_1,2Q12_1,5NJJ_1,3PTG_2,3DXC_1,3QYE_1,1X45_1,1UKI_2,3DXE_1,1Y7N_1,3SO6_1,2Z0O_1,2KIV_1,2Q13_1,4NC6_1,3DXD_1,1UKH_2,2HO2_1,2YT0_1,2M38_1,2H96_2,5ZRY_1,4HYU_2,1DDM_1,1QG1_2,1U39_1,4IZY_2,3V3V_2,3VUD_2,6KMH_2,2KE7_1,1U3B_1,2ROZ_2,5CZI_2,1U37_1,4H39_2,1U38_1\"\n",
    "pdb_RANDB = \"5UWW_2,6KFT_2,1K5G_2,5UWT_2,3UIO_4,5UWI_2,6CIT_2,4HAU_2,4HB2_2,4HAT_2,4HB3_2,4HB4_2,4HAX_3,4HAV_2,4HAW_2,3TJ3_2,4HB0_2,5DIF_2,1XKE_1,5DH9_2,4GMX_2,2CRF_1,6XJT_2,6XJU_2,6XJR_2,6XJS_2,5DHF_2,5DHA_2,4LQW_1,5UWJ_2,3UIP_4,5UWH_2,3UIN_4,5JLJ_2,5ZPU_2,2C1M_2,4GA0_1,6A38_2,2C1T_2,5DI9_2,6A3E_2,6A3C_2,6A3B_2,6A3A_2,4HAZ_2,4HAY_2,4GPT_2,2LAS_2,7L5E_2,4GA1_1,1UN0_2,5UWU_2,1RRP_2,5UWS_2,3OAN_1,5CLL_2,5YRO_2,6XJP_2,4L6E_1,6M6X_2,5CLQ_2,6X2M_2,6X2O_2,5YSU_2,6X2S_2,6X2U_2,5YST_2,6X2V_2,6X2W_2,6X2X_2,6X2Y_2,6X2R_2,6X2P_2,4WVF_2,5YTB_2,2EC1_1,5UWQ_2,1K5D_2,5UWR_2,5UWO_2,5UWP_2,2Y8G_1,3N7C_1,4I9Y_1,3M1I_2,5XZX_2,1Z5S_4,2Y8F_1,3WYF_2,4GA2_1\"\n",
    "pdb_EVH = \"1TJ6_1,5N91_1,5ZZ9_1,5N9C_1,1CEE_2,2XQN_2,3RSE_8,6RCJ_1,6RCF_1,3CHW_3,2V8C_2,2PBD_3,6RD2_1,2PAV_3,2IYB_1,6XXR_1,7A5M_1,2OT0_2,1XOD_1,1I2H_1,1EVH_1,6V65_1,1USD_1,1USE_1,7AKI_1,1ZUK_2,4MY6_1,2IFS_1,3SYX_1,1QC6_1,2JP2_1,3CVF_1,1T84_1,5N9P_1,2FF3_2,6UHC_8,1I7A_1,2P8V_1,5NDU_1,2LNH_1,3M3N_2,5NCG_1,5NCF_1,5NEG_1,2A3Z_3,6XVT_1,1MKE_1,2VCP_2,2HO2_2,3CVE_1,1EJ5_1,5NCP_1,5ND0_1,1DDW_1,5NC7_1,1DDV_1,2K42_1,4CC7_2,4CC3_2,1EGX_1,4CC2_2,5NBF_1,5NAJ_1,6V6F_1,5NC2_1,5NBX_1\"\n",
    "# pdb_DCP1=\"5JP4_1,2QKL_1,4B6H_1,5J3Q_1,5N2V_1,1Q67_1,6Y3Z_2,2QKM_1,5J3Y_1,5LOP_2,5LON_2,5KQ1_1,6AM0_2,5J3T_1,2LYD_1,5KQ4_1\"\n",
    "pdb_PTB = [x[:4] for x in pdb_PTB.split(',')]\n",
    "pdb_RANDB = [x[:4] for x in pdb_RANDB.split(',')]\n",
    "pdb_EVH = [x[:4] for x in pdb_EVH.split(',')]\n",
    "# pdb_DCP1 = [x[:4] for x in pdb_DCP1.split(',')]\n",
    "\n",
    "pdbs_to_remove = pdb_PTB+pdb_RANDB+pdb_EVH\n",
    "\n",
    "\n",
    "removeS60 = DATASET.query(\"domain == 'PH' and pdb in @pdbs_to_remove\")[\"S60\"].unique()\n",
    "cathpdbs_to_remove = DATASET.query(\"domain == 'PH' and S60 in @removeS60\").cathpdb.unique()\n",
    "print(f\"{len(cathpdbs_to_remove)} will be removed IN TOTAL\")\n",
    "DATASET = DATASET.query(\"cathpdb not in @cathpdbs_to_remove\")\n",
    "pd.DataFrame(cathpdbs_to_remove).to_csv(f\"{FIGURESFOLDER}/Fake_PH.csv\", index=False, header=False)"
   ]
  },
  {
   "cell_type": "code",
   "execution_count": 14,
   "metadata": {},
   "outputs": [],
   "source": [
    "# import pepr2ds.dataset.tagibs\n",
    "# importlib.reload(pepr2ds.dataset.tagibs)\n",
    "\n"
   ]
  },
  {
   "cell_type": "code",
   "execution_count": 15,
   "metadata": {},
   "outputs": [
    {
     "data": {
      "text/plain": [
       "<module 'pepr2ds' from '/Users/thibault/OneDrive - University of Bergen/projects/peprmint/dev/pepermintdataset/pepr2ds/__init__.py'>"
      ]
     },
     "execution_count": 15,
     "metadata": {},
     "output_type": "execute_result"
    },
    {
     "ename": "IndentationError",
     "evalue": "expected an indented block (tagibs.py, line 570)",
     "output_type": "error",
     "traceback": [
      "Traceback \u001b[0;36m(most recent call last)\u001b[0m:\n",
      "  File \u001b[1;32m\"/Users/thibault/miniconda3/envs/peprmint/lib/python3.7/site-packages/IPython/core/interactiveshell.py\"\u001b[0m, line \u001b[1;32m3418\u001b[0m, in \u001b[1;35mrun_code\u001b[0m\n    exec(code_obj, self.user_global_ns, self.user_ns)\n",
      "  File \u001b[1;32m\"<ipython-input-15-88d60edd8ef9>\"\u001b[0m, line \u001b[1;32m4\u001b[0m, in \u001b[1;35m<module>\u001b[0m\n    from pepr2ds.dataset.tagibs import Dataset\n",
      "\u001b[0;36m  File \u001b[0;32m\"/Users/thibault/OneDrive - University of Bergen/projects/peprmint/dev/pepermintdataset/pepr2ds/dataset/__init__.py\"\u001b[0;36m, line \u001b[0;32m1\u001b[0;36m, in \u001b[0;35m<module>\u001b[0;36m\u001b[0m\n\u001b[0;31m    from . import tagibs\u001b[0m\n",
      "\u001b[0;36m  File \u001b[0;32m\"/Users/thibault/OneDrive - University of Bergen/projects/peprmint/dev/pepermintdataset/pepr2ds/dataset/tagibs.py\"\u001b[0;36m, line \u001b[0;32m570\u001b[0m\n\u001b[0;31m    df = df[\u001b[0m\n\u001b[0m     ^\u001b[0m\n\u001b[0;31mIndentationError\u001b[0m\u001b[0;31m:\u001b[0m expected an indented block\n"
     ]
    }
   ],
   "source": [
    "import importlib\n",
    "import pepr2ds\n",
    "importlib.reload(pepr2ds)\n",
    "from pepr2ds.dataset.tagibs import Dataset\n",
    "PH = Dataset(DATASET,PEPRMINT_FOLDER)\n",
    "PH.tag_ibs(DATASET, \n",
    "            domain = 'PH', #Domain\n",
    "            pdbreference = \"2da0A00\", #PDB Template\n",
    "            includeResidueRange = [[20,26],[42,50]], #Include those residues in IBS\n",
    "            excludeResidueRange=[], #Exclude thoses residues from IBS\n",
    "            extendSS=False, #Extend the secondary structures\n",
    "            withAlignment=False, #restrict the results with pdb that have a sequences.\n",
    "            onlyC=False, #get only COIL in the IBS.\n",
    "            cathCluster=clusterLevel, #Structure redundancy filter\n",
    "            Uniref=\"uniref90\", #Sequence redundancy filter\n",
    "            addSequence=False, #add the non structural data in the IBS/NONIBS dataset.\n",
    "            extendAlign=False, #Extend the secondary structure instead of a raw \"cut\" based on the alignment position\n",
    "            excludeStrand=False, #Exclude \"strand\" From secondary structure\n",
    "            overide_axis_mode = True, #use the Zaxis instead of the alignment to tag the IBS\n",
    "            zaxis=ZAXISLEVEL, #Z axis plane to define \"IBS\" or not IBS\n",
    "            extendCoilOnly = False, #Extend coil only.\n",
    "            coordinates_folder_name = 'zaligned', #Where are the PDBs\n",
    "            data_type = DATATYPE, #Type of data asked ('cath' or 'alfafold' or 'cath+af')\n",
    "            base_folder= = ALIGNMENTFOLDER,  #'Type of alignment folder'\n",
    "          )\n",
    "print(len(PH.ibs.cathpdb.unique()))\n",
    "if SHOW_EXAMPLE: \n",
    "    PH.show_structure_and_plane('2da0A00', 'zaligned')\n",
    "if DO_REPORT:\n",
    "    PH.analysis.report(displayHTML=False)\n",
    "if DO_PICTURES:\n",
    "    PH.generate_picutre_of_IBS()"
   ]
  },
  {
   "cell_type": "markdown",
   "metadata": {},
   "source": [
    "### Alternative Orientation"
   ]
  },
  {
   "cell_type": "raw",
   "metadata": {},
   "source": [
    "import importlib\n",
    "import pepr2ds\n",
    "importlib.reload(pepr2ds)\n",
    "from pepr2ds.dataset.tagibs import Dataset\n",
    "PHsansom = Dataset(DATASET,PEPRMINT_FOLDER)\n",
    "\n",
    "\n",
    "PHsansom.tag_ibs(DATASET, \n",
    "            domain = 'PH', #Domain\n",
    "            pdbreference = \"1fgyA00\", #PDB Template\n",
    "            includeResidueRange = [], #Include those residues in IBS\n",
    "            excludeResidueRange=[], #Exclude thoses residues from IBS\n",
    "            extendSS=False, #Extend the secondary structures\n",
    "            withAlignment=False, #restrict the results with pdb that have a sequences.\n",
    "            onlyC=False, #get only COIL in the IBS.\n",
    "            cathCluster=clusterLevel, #Structure redundancy filter\n",
    "            Uniref=\"uniref90\", #Sequence redundancy filter\n",
    "            addSequence=False, #add the non structural data in the IBS/NONIBS dataset.\n",
    "            extendAlign=False, #Extend the secondary structure instead of a raw \"cut\" based on the alignment position\n",
    "            excludeStrand=False, #Exclude \"strand\" From secondary structure\n",
    "            overide_axis_mode = True, #use the Zaxis instead of the alignment to tag the IBS\n",
    "            zaxis=ZAXISLEVEL, #Z axis plane to define \"IBS\" or not IBS\n",
    "            extendCoilOnly = False, #Extend coil only.\n",
    "            coordinates_folder_name = 'zaligned_sansom', #Where are the PDBs\n",
    "          )\n",
    "\n",
    "if SHOW_EXAMPLE: \n",
    "    PHsansom.show_structure_and_plane('1fgyA00', 'zaligned_sansom')\n",
    "if DO_REPORT:\n",
    "    PHsansom.analysis.report(displayHTML=False, customFolder = 'PHsansom')\n",
    "if DO_PICTURES:\n",
    "    PHsansom.generate_picutre_of_IBS()"
   ]
  },
  {
   "cell_type": "raw",
   "metadata": {},
   "source": [
    "if DO_REPORT:\n",
    "    PHsansom.analysis.report(displayHTML=False)"
   ]
  },
  {
   "cell_type": "raw",
   "metadata": {},
   "source": [
    "PHsansom.analysis.oddsratio_graph(among=\"protrusions\", feature=\"type\", envir=True, title=\"Protrusions' neighborhood, merged Domain\")"
   ]
  },
  {
   "cell_type": "markdown",
   "metadata": {},
   "source": [
    "## C2 Domain"
   ]
  },
  {
   "cell_type": "code",
   "execution_count": 9,
   "metadata": {},
   "outputs": [],
   "source": [
    "## Command line for alignment!!!!\n",
    "if DO_ALIGNMENT:\n",
    "    !cd /Users/thibault/Documents/WORK/peprmint/databases/cath/domains/C2\n",
    "    !/Users/thibault/miniconda3/envs/peprmint/bin/python ~/OneDrive\\ -\\ University\\ of\\ Bergen/projects/peprmint/dev/pepermintdataset/scripts/align_on_z.py -d C2 -ref 1rsyA00 -res1 169 -res2 178 -res3 237 -i raw -o zaligned"
   ]
  },
  {
   "cell_type": "code",
   "execution_count": 12,
   "metadata": {},
   "outputs": [
    {
     "data": {
      "text/plain": [
       "<module 'pepr2ds' from '/Users/thibault/OneDrive - University of Bergen/projects/peprmint/dev/pepermintdataset/pepr2ds/__init__.py'>"
      ]
     },
     "execution_count": 12,
     "metadata": {},
     "output_type": "execute_result"
    },
    {
     "name": "stdout",
     "output_type": "stream",
     "text": [
      "TOTO\n",
      "Domain= C2\n",
      "selecting amino acids\n",
      "/Users/thibault/Documents/WORK/peprmint/databases/cath//domains/C2/zaligned\n",
      "UPDATING COORDINATES\n"
     ]
    },
    {
     "data": {
      "application/vnd.jupyter.widget-view+json": {
       "model_id": "ce7eb0d99feb4a4087e3ae0d1b163b1d",
       "version_major": 2,
       "version_minor": 0
      },
      "text/plain": [
       "HBox(children=(HTML(value=''), FloatProgress(value=0.0, max=428.0), HTML(value='')))"
      ]
     },
     "metadata": {},
     "output_type": "display_data"
    },
    {
     "name": "stdout",
     "output_type": "stream",
     "text": [
      "\n",
      "taggin IBS\n"
     ]
    },
    {
     "data": {
      "application/vnd.jupyter.widget-view+json": {
       "model_id": "2cdfc268e12a4c62886133ef830fdc05",
       "version_major": 2,
       "version_minor": 0
      },
      "text/plain": [
       "HBox(children=(HTML(value=''), FloatProgress(value=0.0, max=112.0), HTML(value='')))"
      ]
     },
     "metadata": {},
     "output_type": "display_data"
    },
    {
     "name": "stdout",
     "output_type": "stream",
     "text": [
      "\n",
      "len IBS 112\n",
      "len nonIBS 112\n"
     ]
    }
   ],
   "source": [
    "import importlib\n",
    "import pepr2ds\n",
    "importlib.reload(pepr2ds)\n",
    "from pepr2ds.dataset.tagibs import Dataset\n",
    "C2 = Dataset(DATASET,PEPRMINT_FOLDER)\n",
    "C2.tag_ibs(DATASET, \n",
    "            domain = 'C2', #Domain\n",
    "            pdbreference = \"1rsyA00\",\n",
    "            includeResidueRange = [[171,177],[232,238]], #CHANGE 173 to 171 and run again!\n",
    "            excludeResidueRange=[], #Exclude thoses residues from IBS\n",
    "            extendSS=False, #Extend the secondary structures\n",
    "            withAlignment=False, #restrict the results with pdb that have a sequences.\n",
    "            onlyC=False, #get only COIL in the IBS.\n",
    "            cathCluster=clusterLevel, #Structure redundancy filter\n",
    "            Uniref=\"uniref90\", #Sequence redundancy filter\n",
    "            addSequence=False, #add the non structural data in the IBS/NONIBS dataset.\n",
    "            extendAlign=False, #Extend the secondary structure instead of a raw \"cut\" based on the alignment position\n",
    "            excludeStrand=False, #Exclude \"strand\" From secondary structure\n",
    "            overide_axis_mode = True, #use the Zaxis instead of the alignment to tag the IBS\n",
    "            zaxis=ZAXISLEVEL, #Z axis plane to define \"IBS\" or not IBS\n",
    "            extendCoilOnly = False, #Extend coil only.\n",
    "            coordinates_folder_name = 'zaligned', #Where are the PDBs \n",
    "          )\n"
   ]
  },
  {
   "cell_type": "code",
   "execution_count": 11,
   "metadata": {},
   "outputs": [],
   "source": [
    "if SHOW_EXAMPLE:\n",
    "    C2.show_structure_and_plane('1rsyA00', 'zaligned')"
   ]
  },
  {
   "cell_type": "code",
   "execution_count": 12,
   "metadata": {},
   "outputs": [
    {
     "name": "stdout",
     "output_type": "stream",
     "text": [
      "making report for C2\n"
     ]
    },
    {
     "name": "stderr",
     "output_type": "stream",
     "text": [
      "/Users/thibault/OneDrive - University of Bergen/projects/peprmint/dev/pepermintdataset/notebooks/Ui.py:1916: UserWarning: This figure includes Axes that are not compatible with tight_layout, so results might be incorrect.\n",
      "  plt.tight_layout()\n",
      "/Users/thibault/OneDrive - University of Bergen/projects/peprmint/dev/pepermintdataset/notebooks/Ui.py:1006: UserWarning: This figure includes Axes that are not compatible with tight_layout, so results might be incorrect.\n",
      "  plt.tight_layout()\n"
     ]
    }
   ],
   "source": [
    "if DO_REPORT:\n",
    "    C2.analysis.report(displayHTML=False)\n"
   ]
  },
  {
   "cell_type": "code",
   "execution_count": 13,
   "metadata": {},
   "outputs": [],
   "source": [
    "if DO_PICTURES:\n",
    "    C2.generate_picutre_of_IBS()"
   ]
  },
  {
   "cell_type": "markdown",
   "metadata": {},
   "source": [
    "## START Domain"
   ]
  },
  {
   "cell_type": "markdown",
   "metadata": {},
   "source": [
    "### orientation 1"
   ]
  },
  {
   "cell_type": "code",
   "execution_count": 14,
   "metadata": {},
   "outputs": [],
   "source": [
    "if DO_ALIGNMENT:\n",
    "    !/Users/thibault/miniconda3/envs/peprmint/bin/python ~/OneDrive\\ -\\ University\\ of\\ Bergen/projects/peprmint/dev/pepermintdataset/scripts/align_on_z.py -d START -ref 2e3mA00 -res1 412 -res2 448 -res3 515 -i raw -o orientationA"
   ]
  },
  {
   "cell_type": "code",
   "execution_count": 15,
   "metadata": {},
   "outputs": [
    {
     "name": "stderr",
     "output_type": "stream",
     "text": [
      "/Users/thibault/miniconda3/envs/peprmint/lib/python3.7/site-packages/tqdm/std.py:699: FutureWarning: The Panel class is removed from pandas. Accessing it from the top-level namespace will also be removed in the next version\n",
      "  from pandas import Panel\n"
     ]
    },
    {
     "data": {
      "text/plain": [
       "<module 'Ui' from '/Users/thibault/OneDrive - University of Bergen/projects/peprmint/dev/pepermintdataset/notebooks/Ui.py'>"
      ]
     },
     "execution_count": 15,
     "metadata": {},
     "output_type": "execute_result"
    },
    {
     "name": "stdout",
     "output_type": "stream",
     "text": [
      "selecting amino acids\n",
      "UPDATING COORDINATES\n"
     ]
    },
    {
     "data": {
      "application/vnd.jupyter.widget-view+json": {
       "model_id": "b0cbd03ed35b4035b2b2f2ff60a98769",
       "version_major": 2,
       "version_minor": 0
      },
      "text/plain": [
       "HBox(children=(HTML(value=''), FloatProgress(value=0.0, max=201.0), HTML(value='')))"
      ]
     },
     "metadata": {},
     "output_type": "display_data"
    },
    {
     "name": "stdout",
     "output_type": "stream",
     "text": [
      "\n",
      "taggin IBS\n"
     ]
    },
    {
     "data": {
      "application/vnd.jupyter.widget-view+json": {
       "model_id": "5c080dc3f9ec47edb243b04a9c0115ea",
       "version_major": 2,
       "version_minor": 0
      },
      "text/plain": [
       "HBox(children=(HTML(value=''), FloatProgress(value=0.0, max=201.0), HTML(value='')))"
      ]
     },
     "metadata": {},
     "output_type": "display_data"
    },
    {
     "name": "stdout",
     "output_type": "stream",
     "text": [
      "\n",
      "len IBS 201\n",
      "len nonIBS 201\n"
     ]
    }
   ],
   "source": [
    "import importlib\n",
    "import pepr2ds\n",
    "importlib.reload(pepr2ds)\n",
    "from pepr2ds.dataset.tagibs import Dataset\n",
    "STARTo1 = Dataset(DATASET,PEPRMINT_FOLDER)\n",
    "STARTo1.tag_ibs(DATASET, \n",
    "            domain = 'START', #Domain\n",
    "            pdbreference = \"2e3mA00\",\n",
    "            includeResidueRange = [], #CHANGE 173 to 171 and run again!\n",
    "            excludeResidueRange=[], #Exclude thoses residues from IBS\n",
    "            extendSS=False, #Extend the secondary structures\n",
    "            withAlignment=False, #restrict the results with pdb that have a sequences.\n",
    "            onlyC=False, #get only COIL in the IBS.\n",
    "            cathCluster=clusterLevel, #Structure redundancy filter\n",
    "            Uniref=\"uniref90\", #Sequence redundancy filter\n",
    "            addSequence=False, #add the non structural data in the IBS/NONIBS dataset.\n",
    "            extendAlign=False, #Extend the secondary structure instead of a raw \"cut\" based on the alignment position\n",
    "            excludeStrand=False, #Exclude \"strand\" From secondary structure\n",
    "            overide_axis_mode = True, #use the Zaxis instead of the alignment to tag the IBS\n",
    "            zaxis=ZAXISLEVEL, #Z axis plane to define \"IBS\" or not IBS\n",
    "            extendCoilOnly = False, #Extend coil only.\n",
    "            coordinates_folder_name = \"orientationA\"  \n",
    ")"
   ]
  },
  {
   "cell_type": "code",
   "execution_count": 16,
   "metadata": {},
   "outputs": [],
   "source": [
    "if SHOW_EXAMPLE:\n",
    "    STARTo1.show_structure_and_plane('2e3mA00', 'orientationA')"
   ]
  },
  {
   "cell_type": "code",
   "execution_count": 17,
   "metadata": {},
   "outputs": [
    {
     "name": "stdout",
     "output_type": "stream",
     "text": [
      "making report for START\n"
     ]
    },
    {
     "name": "stderr",
     "output_type": "stream",
     "text": [
      "/Users/thibault/OneDrive - University of Bergen/projects/peprmint/dev/pepermintdataset/notebooks/Ui.py:1916: UserWarning: This figure includes Axes that are not compatible with tight_layout, so results might be incorrect.\n",
      "  plt.tight_layout()\n",
      "/Users/thibault/OneDrive - University of Bergen/projects/peprmint/dev/pepermintdataset/notebooks/Ui.py:1006: UserWarning: This figure includes Axes that are not compatible with tight_layout, so results might be incorrect.\n",
      "  plt.tight_layout()\n"
     ]
    }
   ],
   "source": [
    "if DO_REPORT:\n",
    "    STARTo1.analysis.report(displayHTML=False, customFolder='STARTorientationA')\n"
   ]
  },
  {
   "cell_type": "code",
   "execution_count": 18,
   "metadata": {},
   "outputs": [],
   "source": [
    "if DO_PICTURES:\n",
    "    STARTo1.generate_picutre_of_IBS(\"orientationA\")"
   ]
  },
  {
   "cell_type": "raw",
   "metadata": {},
   "source": [
    "cluster='S100'\n",
    "analysis = Dataset(DATASET,PEPRMINT_FOLDER)\n",
    "df = analysis.selectUniquePerCluster(df = DATASET.query(\"domain == 'PIPLC'\"), cathCluster=cluster,Uniref='uniref90', withAlignment=False)\n",
    "taxon = df[[\"cathpdb\",'pdb',\"taxon\"]]\n",
    "taxon = taxon.drop_duplicates()\n",
    "taxon.replace('', np.nan, inplace=True)\n",
    "taxon = taxon.dropna()\n",
    "taxon[\"taxon0\"] = [x.split('/')[0] for x in taxon.taxon]\n",
    "\n",
    "tc = taxon.taxon0.value_counts()\n",
    "size=len(taxon)\n",
    "def absolute_value(val):\n",
    "    a  = np.round(val/100.*size, 0)\n",
    "    return a\n",
    "\n",
    "taxon.taxon0.value_counts().plot.pie(autopct=absolute_value, title=f\"Origin of PIPLC Bacteria (Cluster:{cluster})\")\n",
    "\n"
   ]
  },
  {
   "cell_type": "markdown",
   "metadata": {},
   "source": [
    "### Orientation 2"
   ]
  },
  {
   "cell_type": "code",
   "execution_count": 19,
   "metadata": {},
   "outputs": [],
   "source": [
    "if DO_ALIGNMENT:\n",
    "    !/Users/thibault/miniconda3/envs/peprmint/bin/python ~/OneDrive\\ -\\ University\\ of\\ Bergen/projects/peprmint/dev/pepermintdataset/scripts/align_on_z.py -d START -ref 2e3mA00 -res1 567 -res2 470 -res3 509 -i raw -o orientationB"
   ]
  },
  {
   "cell_type": "raw",
   "metadata": {},
   "source": [
    "import importlib\n",
    "import pepr2ds\n",
    "importlib.reload(pepr2ds)\n",
    "from pepr2ds.dataset.tagibs import Dataset\n",
    "STARTo2 = Dataset(DATASET,PEPRMINT_FOLDER)\n",
    "STARTo2.tag_ibs(DATASET, \n",
    "            domain = 'START', #Domain\n",
    "            pdbreference = \"2e3mA00\",\n",
    "            includeResidueRange = [], #CHANGE 173 to 171 and run again!\n",
    "            excludeResidueRange=[], #Exclude thoses residues from IBS\n",
    "            extendSS=False, #Extend the secondary structures\n",
    "            withAlignment=False, #restrict the results with pdb that have a sequences.\n",
    "            onlyC=False, #get only COIL in the IBS.\n",
    "            cathCluster=clusterLevel, #Structure redundancy filter\n",
    "            Uniref=\"uniref90\", #Sequence redundancy filter\n",
    "            addSequence=False, #add the non structural data in the IBS/NONIBS dataset.\n",
    "            extendAlign=False, #Extend the secondary structure instead of a raw \"cut\" based on the alignment position\n",
    "            excludeStrand=False, #Exclude \"strand\" From secondary structure\n",
    "            overide_axis_mode = True, #use the Zaxis instead of the alignment to tag the IBS\n",
    "            zaxis=ZAXISLEVEL, #Z axis plane to define \"IBS\" or not IBS\n",
    "            extendCoilOnly = False, #Extend coil only.\n",
    "            coordinates_folder_name = \"orientationB\"  \n",
    "          )"
   ]
  },
  {
   "cell_type": "code",
   "execution_count": 21,
   "metadata": {},
   "outputs": [],
   "source": [
    "if SHOW_EXAMPLE:\n",
    "    STARTo2.show_structure_and_plane('2e3mA00', 'orientationB')"
   ]
  },
  {
   "cell_type": "code",
   "execution_count": 22,
   "metadata": {},
   "outputs": [
    {
     "name": "stdout",
     "output_type": "stream",
     "text": [
      "making report for START\n"
     ]
    },
    {
     "name": "stderr",
     "output_type": "stream",
     "text": [
      "/Users/thibault/OneDrive - University of Bergen/projects/peprmint/dev/pepermintdataset/notebooks/Ui.py:1916: UserWarning: This figure includes Axes that are not compatible with tight_layout, so results might be incorrect.\n",
      "  plt.tight_layout()\n",
      "/Users/thibault/OneDrive - University of Bergen/projects/peprmint/dev/pepermintdataset/notebooks/Ui.py:1006: UserWarning: This figure includes Axes that are not compatible with tight_layout, so results might be incorrect.\n",
      "  plt.tight_layout()\n"
     ]
    }
   ],
   "source": [
    "if DO_REPORT:\n",
    "    STARTo2.analysis.report(displayHTML=False, customFolder='STARTorientationB')\n",
    "if DO_PICTURES:\n",
    "    STARTo2.generate_picutre_of_IBS(\"orientationB\")"
   ]
  },
  {
   "cell_type": "markdown",
   "metadata": {},
   "source": [
    "## C1"
   ]
  },
  {
   "cell_type": "code",
   "execution_count": 23,
   "metadata": {},
   "outputs": [],
   "source": [
    "if DO_ALIGNMENT:\n",
    "    !/Users/thibault/miniconda3/envs/peprmint/bin/python ~/OneDrive\\ -\\ University\\ of\\ Bergen/projects/peprmint/dev/pepermintdataset/scripts/align_on_z.py -d C1 -ref 1ptrA00 -res1 243 -res2 257 -res3 237 -i raw -o zaligned"
   ]
  },
  {
   "cell_type": "code",
   "execution_count": 24,
   "metadata": {},
   "outputs": [
    {
     "name": "stderr",
     "output_type": "stream",
     "text": [
      "/Users/thibault/miniconda3/envs/peprmint/lib/python3.7/site-packages/tqdm/std.py:699: FutureWarning: The Panel class is removed from pandas. Accessing it from the top-level namespace will also be removed in the next version\n",
      "  from pandas import Panel\n"
     ]
    },
    {
     "data": {
      "text/plain": [
       "<module 'Ui' from '/Users/thibault/OneDrive - University of Bergen/projects/peprmint/dev/pepermintdataset/notebooks/Ui.py'>"
      ]
     },
     "execution_count": 24,
     "metadata": {},
     "output_type": "execute_result"
    },
    {
     "name": "stdout",
     "output_type": "stream",
     "text": [
      "selecting amino acids\n",
      "UPDATING COORDINATES\n"
     ]
    },
    {
     "data": {
      "application/vnd.jupyter.widget-view+json": {
       "model_id": "2c180651f73a49dfbeb8f1e0e49cae46",
       "version_major": 2,
       "version_minor": 0
      },
      "text/plain": [
       "HBox(children=(HTML(value=''), FloatProgress(value=0.0, max=38.0), HTML(value='')))"
      ]
     },
     "metadata": {},
     "output_type": "display_data"
    },
    {
     "name": "stdout",
     "output_type": "stream",
     "text": [
      "\n",
      "taggin IBS\n"
     ]
    },
    {
     "data": {
      "application/vnd.jupyter.widget-view+json": {
       "model_id": "dd1ee6ee1cbc48ffa50afd83a738e015",
       "version_major": 2,
       "version_minor": 0
      },
      "text/plain": [
       "HBox(children=(HTML(value=''), FloatProgress(value=0.0, max=38.0), HTML(value='')))"
      ]
     },
     "metadata": {},
     "output_type": "display_data"
    },
    {
     "name": "stdout",
     "output_type": "stream",
     "text": [
      "\n",
      "len IBS 38\n",
      "len nonIBS 38\n"
     ]
    }
   ],
   "source": [
    "import importlib\n",
    "import pepr2ds\n",
    "importlib.reload(pepr2ds)\n",
    "from pepr2ds.dataset.tagibs import Dataset\n",
    "\n",
    "C1 = Dataset(DATASET,PEPRMINT_FOLDER)\n",
    "C1.tag_ibs(DATASET, \n",
    "            domain = 'C1', #Domain\n",
    "            pdbreference = \"1ptrA00\",\n",
    "            includeResidueRange = [], #CHANGE 173 to 171 and run again!\n",
    "            excludeResidueRange=[], #Exclude thoses residues from IBS\n",
    "            extendSS=False, #Extend the secondary structures\n",
    "            withAlignment=False, #restrict the results with pdb that have a sequences.\n",
    "            onlyC=False, #get only COIL in the IBS.\n",
    "            cathCluster=clusterLevel, #Structure redundancy filter\n",
    "            Uniref=\"uniref90\", #Sequence redundancy filter\n",
    "            addSequence=False, #add the non structural data in the IBS/NONIBS dataset.\n",
    "            extendAlign=False, #Extend the secondary structure instead of a raw \"cut\" based on the alignment position\n",
    "            excludeStrand=False, #Exclude \"strand\" From secondary structure\n",
    "            overide_axis_mode = True, #use the Zaxis instead of the alignment to tag the IBS\n",
    "            zaxis=ZAXISLEVEL, #Z axis plane to define \"IBS\" or not IBS\n",
    "            extendCoilOnly = False, #Extend coil only.\n",
    "            coordinates_folder_name = \"zaligned\"  \n",
    "          )"
   ]
  },
  {
   "cell_type": "code",
   "execution_count": 26,
   "metadata": {},
   "outputs": [],
   "source": [
    "if SHOW_EXAMPLE:\n",
    "    C1.show_structure_and_plane('1ptrA00', 'zaligned2')"
   ]
  },
  {
   "cell_type": "code",
   "execution_count": 27,
   "metadata": {},
   "outputs": [],
   "source": [
    "if DO_PICTURES:\n",
    "    C1.generate_picutre_of_IBS()"
   ]
  },
  {
   "cell_type": "code",
   "execution_count": 28,
   "metadata": {},
   "outputs": [
    {
     "name": "stdout",
     "output_type": "stream",
     "text": [
      "making report for C1\n"
     ]
    },
    {
     "name": "stderr",
     "output_type": "stream",
     "text": [
      "/Users/thibault/OneDrive - University of Bergen/projects/peprmint/dev/pepermintdataset/notebooks/Ui.py:1916: UserWarning: This figure includes Axes that are not compatible with tight_layout, so results might be incorrect.\n",
      "  plt.tight_layout()\n",
      "/Users/thibault/OneDrive - University of Bergen/projects/peprmint/dev/pepermintdataset/notebooks/Ui.py:1006: UserWarning: This figure includes Axes that are not compatible with tight_layout, so results might be incorrect.\n",
      "  plt.tight_layout()\n"
     ]
    }
   ],
   "source": [
    "if DO_REPORT:\n",
    "    C1.analysis.report(displayHTML=False)\n"
   ]
  },
  {
   "cell_type": "markdown",
   "metadata": {},
   "source": [
    "## SH2"
   ]
  },
  {
   "cell_type": "code",
   "execution_count": 29,
   "metadata": {},
   "outputs": [],
   "source": [
    "if DO_ALIGNMENT:\n",
    "    !/Users/thibault/miniconda3/envs/peprmint/bin/python ~/OneDrive\\ -\\ University\\ of\\ Bergen/projects/peprmint/dev/pepermintdataset/scripts/align_on_z.py -d SH2 -ref 2oq1A03 -res1 180 -res2 209 -res3 243 -i superposed -o zaligned"
   ]
  },
  {
   "cell_type": "raw",
   "metadata": {},
   "source": [
    "import importlib\n",
    "import pepr2ds\n",
    "importlib.reload(pepr2ds)\n",
    "from pepr2ds.dataset.tagibs import Dataset\n",
    "\n",
    "SH2 = Dataset(DATASET,PEPRMINT_FOLDER)\n",
    "SH2.tag_ibs(DATASET, \n",
    "            domain = 'SH2', #Domain\n",
    "            pdbreference = \"2oq1A03\",\n",
    "            includeResidueRange = [], #CHANGE 173 to 171 and run again!\n",
    "            excludeResidueRange=[], #Exclude thoses residues from IBS\n",
    "            extendSS=False, #Extend the secondary structures\n",
    "            withAlignment=False, #restrict the results with pdb that have a sequences.\n",
    "            onlyC=False, #get only COIL in the IBS.\n",
    "            cathCluster=clusterLevel, #Structure redundancy filter\n",
    "            Uniref=\"uniref90\", #Sequence redundancy filter\n",
    "            addSequence=False, #add the non structural data in the IBS/NONIBS dataset.\n",
    "            extendAlign=False, #Extend the secondary structure instead of a raw \"cut\" based on the alignment position\n",
    "            excludeStrand=False, #Exclude \"strand\" From secondary structure\n",
    "            overide_axis_mode = True, #use the Zaxis instead of the alignment to tag the IBS\n",
    "            zaxis=ZAXISLEVEL, #Z axis plane to define \"IBS\" or not IBS\n",
    "            extendCoilOnly = False, #Extend coil only.\n",
    "            coordinates_folder_name = \"zaligned\"  \n",
    "          )"
   ]
  },
  {
   "cell_type": "code",
   "execution_count": 31,
   "metadata": {},
   "outputs": [],
   "source": [
    "if SHOW_EXAMPLE:\n",
    "    SH2.show_structure_and_plane('2oq1A03', 'zaligned')"
   ]
  },
  {
   "cell_type": "code",
   "execution_count": 32,
   "metadata": {},
   "outputs": [],
   "source": [
    "if DO_PICTURES:\n",
    "    SH2.generate_picutre_of_IBS(\"zaligned\")"
   ]
  },
  {
   "cell_type": "code",
   "execution_count": 33,
   "metadata": {},
   "outputs": [
    {
     "name": "stdout",
     "output_type": "stream",
     "text": [
      "making report for SH2\n"
     ]
    },
    {
     "name": "stderr",
     "output_type": "stream",
     "text": [
      "/Users/thibault/OneDrive - University of Bergen/projects/peprmint/dev/pepermintdataset/notebooks/Ui.py:1916: UserWarning: This figure includes Axes that are not compatible with tight_layout, so results might be incorrect.\n",
      "  plt.tight_layout()\n",
      "/Users/thibault/OneDrive - University of Bergen/projects/peprmint/dev/pepermintdataset/notebooks/Ui.py:1006: UserWarning: This figure includes Axes that are not compatible with tight_layout, so results might be incorrect.\n",
      "  plt.tight_layout()\n"
     ]
    }
   ],
   "source": [
    "if DO_REPORT:\n",
    "    SH2.analysis.report(displayHTML=False)\n"
   ]
  },
  {
   "cell_type": "markdown",
   "metadata": {},
   "source": [
    "## C2DIS"
   ]
  },
  {
   "cell_type": "code",
   "execution_count": 34,
   "metadata": {},
   "outputs": [],
   "source": [
    "if DO_ALIGNMENT:\n",
    "    !/Users/thibault/miniconda3/envs/peprmint/bin/python ~/OneDrive\\ -\\ University\\ of\\ Bergen/projects/peprmint/dev/pepermintdataset/scripts/align_on_z.py -d C2DIS -ref 1czsA00 -res1 23 -res2 76 -res3 45 -i superposed -o zaligned"
   ]
  },
  {
   "cell_type": "code",
   "execution_count": 35,
   "metadata": {},
   "outputs": [
    {
     "name": "stderr",
     "output_type": "stream",
     "text": [
      "/Users/thibault/miniconda3/envs/peprmint/lib/python3.7/site-packages/tqdm/std.py:699: FutureWarning: The Panel class is removed from pandas. Accessing it from the top-level namespace will also be removed in the next version\n",
      "  from pandas import Panel\n"
     ]
    },
    {
     "data": {
      "text/plain": [
       "<module 'Ui' from '/Users/thibault/OneDrive - University of Bergen/projects/peprmint/dev/pepermintdataset/notebooks/Ui.py'>"
      ]
     },
     "execution_count": 35,
     "metadata": {},
     "output_type": "execute_result"
    },
    {
     "name": "stdout",
     "output_type": "stream",
     "text": [
      "selecting amino acids\n",
      "UPDATING COORDINATES\n"
     ]
    },
    {
     "data": {
      "application/vnd.jupyter.widget-view+json": {
       "model_id": "caac7c50e1b742e68acf4e00e051ff1d",
       "version_major": 2,
       "version_minor": 0
      },
      "text/plain": [
       "HBox(children=(HTML(value=''), FloatProgress(value=0.0, max=325.0), HTML(value='')))"
      ]
     },
     "metadata": {},
     "output_type": "display_data"
    },
    {
     "name": "stdout",
     "output_type": "stream",
     "text": [
      "\n",
      "taggin IBS\n"
     ]
    },
    {
     "data": {
      "application/vnd.jupyter.widget-view+json": {
       "model_id": "915f2fbf99854992ae919efa068d8e33",
       "version_major": 2,
       "version_minor": 0
      },
      "text/plain": [
       "HBox(children=(HTML(value=''), FloatProgress(value=0.0, max=325.0), HTML(value='')))"
      ]
     },
     "metadata": {},
     "output_type": "display_data"
    },
    {
     "name": "stdout",
     "output_type": "stream",
     "text": [
      "\n",
      "len IBS 320\n",
      "len nonIBS 325\n"
     ]
    }
   ],
   "source": [
    "import importlib\n",
    "import pepr2ds\n",
    "importlib.reload(pepr2ds)\n",
    "from pepr2ds.dataset.tagibs import Dataset\n",
    "\n",
    "C2DIS = Dataset(DATASET,PEPRMINT_FOLDER)\n",
    "C2DIS.tag_ibs(DATASET, \n",
    "            domain = 'C2DIS', #Domain\n",
    "            pdbreference = \"1czsA00\",\n",
    "            includeResidueRange = [], #CHANGE 173 to 171 and run again!\n",
    "            excludeResidueRange=[], #Exclude thoses residues from IBS\n",
    "            extendSS=False, #Extend the secondary structures\n",
    "            withAlignment=False, #restrict the results with pdb that have a sequences.\n",
    "            onlyC=False, #get only COIL in the IBS.\n",
    "            cathCluster=clusterLevel, #Structure redundancy filter\n",
    "            Uniref=\"uniref90\", #Sequence redundancy filter\n",
    "            addSequence=False, #add the non structural data in the IBS/NONIBS dataset.\n",
    "            extendAlign=False, #Extend the secondary structure instead of a raw \"cut\" based on the alignment position\n",
    "            excludeStrand=False, #Exclude \"strand\" From secondary structure\n",
    "            overide_axis_mode = True, #use the Zaxis instead of the alignment to tag the IBS\n",
    "            zaxis=ZAXISLEVEL, #Z axis plane to define \"IBS\" or not IBS\n",
    "            extendCoilOnly = False, #Extend coil only.\n",
    "            coordinates_folder_name = \"zaligned\"  \n",
    "          )"
   ]
  },
  {
   "cell_type": "code",
   "execution_count": 36,
   "metadata": {},
   "outputs": [],
   "source": [
    "if SHOW_EXAMPLE:\n",
    "    C2DIS.show_structure_and_plane('2okxA03', 'zalignedS95')"
   ]
  },
  {
   "cell_type": "code",
   "execution_count": 37,
   "metadata": {},
   "outputs": [
    {
     "name": "stdout",
     "output_type": "stream",
     "text": [
      "making report for C2DIS\n"
     ]
    },
    {
     "name": "stderr",
     "output_type": "stream",
     "text": [
      "/Users/thibault/OneDrive - University of Bergen/projects/peprmint/dev/pepermintdataset/notebooks/Ui.py:1916: UserWarning: This figure includes Axes that are not compatible with tight_layout, so results might be incorrect.\n",
      "  plt.tight_layout()\n",
      "/Users/thibault/OneDrive - University of Bergen/projects/peprmint/dev/pepermintdataset/notebooks/Ui.py:1006: UserWarning: This figure includes Axes that are not compatible with tight_layout, so results might be incorrect.\n",
      "  plt.tight_layout()\n"
     ]
    }
   ],
   "source": [
    "if DO_REPORT:\n",
    "    C2DIS.analysis.report(displayHTML=False)\n"
   ]
  },
  {
   "cell_type": "code",
   "execution_count": 38,
   "metadata": {},
   "outputs": [],
   "source": [
    "if DO_PICTURES:\n",
    "    C2DIS.generate_picutre_of_IBS(subfolder='zaligned')"
   ]
  },
  {
   "cell_type": "markdown",
   "metadata": {},
   "source": [
    "## FYVE"
   ]
  },
  {
   "cell_type": "code",
   "execution_count": 39,
   "metadata": {},
   "outputs": [],
   "source": [
    "if DO_ALIGNMENT:\n",
    "    !/Users/thibault/miniconda3/envs/peprmint/bin/python ~/OneDrive\\ -\\ University\\ of\\ Bergen/projects/peprmint/dev/pepermintdataset/scripts/align_on_z.py -d FYVE -ref 1jocA02 -res1 1373 -res2 1392 -res3 1382 -i superposed -o zaligned"
   ]
  },
  {
   "cell_type": "code",
   "execution_count": 40,
   "metadata": {},
   "outputs": [
    {
     "name": "stderr",
     "output_type": "stream",
     "text": [
      "/Users/thibault/miniconda3/envs/peprmint/lib/python3.7/site-packages/tqdm/std.py:699: FutureWarning: The Panel class is removed from pandas. Accessing it from the top-level namespace will also be removed in the next version\n",
      "  from pandas import Panel\n"
     ]
    },
    {
     "data": {
      "text/plain": [
       "<module 'Ui' from '/Users/thibault/OneDrive - University of Bergen/projects/peprmint/dev/pepermintdataset/notebooks/Ui.py'>"
      ]
     },
     "execution_count": 40,
     "metadata": {},
     "output_type": "execute_result"
    },
    {
     "name": "stdout",
     "output_type": "stream",
     "text": [
      "selecting amino acids\n",
      "UPDATING COORDINATES\n"
     ]
    },
    {
     "data": {
      "application/vnd.jupyter.widget-view+json": {
       "model_id": "a34e9b42a5ad4dfe9210db4e767bcc9f",
       "version_major": 2,
       "version_minor": 0
      },
      "text/plain": [
       "HBox(children=(HTML(value=''), FloatProgress(value=0.0, max=262.0), HTML(value='')))"
      ]
     },
     "metadata": {},
     "output_type": "display_data"
    },
    {
     "name": "stdout",
     "output_type": "stream",
     "text": [
      "\n",
      "taggin IBS\n"
     ]
    },
    {
     "data": {
      "application/vnd.jupyter.widget-view+json": {
       "model_id": "c5061023a9b7480bad3c62c981689877",
       "version_major": 2,
       "version_minor": 0
      },
      "text/plain": [
       "HBox(children=(HTML(value=''), FloatProgress(value=0.0, max=262.0), HTML(value='')))"
      ]
     },
     "metadata": {},
     "output_type": "display_data"
    },
    {
     "name": "stdout",
     "output_type": "stream",
     "text": [
      "\n",
      "len IBS 262\n",
      "len nonIBS 262\n"
     ]
    }
   ],
   "source": [
    "import importlib\n",
    "import pepr2ds\n",
    "importlib.reload(pepr2ds)\n",
    "from pepr2ds.dataset.tagibs import Dataset\n",
    "\n",
    "FYVE = Dataset(DATASET,PEPRMINT_FOLDER)\n",
    "FYVE.tag_ibs(DATASET, \n",
    "            domain = 'FYVE', #Domain\n",
    "            pdbreference = \"1jocA02\",\n",
    "            includeResidueRange = [], #CHANGE 173 to 171 and run again!\n",
    "            excludeResidueRange=[], #Exclude thoses residues from IBS\n",
    "            extendSS=False, #Extend the secondary structures\n",
    "            withAlignment=False, #restrict the results with pdb that have a sequences.\n",
    "            onlyC=False, #get only COIL in the IBS.\n",
    "            cathCluster=clusterLevel, #Structure redundancy filter\n",
    "            Uniref=\"uniref90\", #Sequence redundancy filter\n",
    "            addSequence=False, #add the non structural data in the IBS/NONIBS dataset.\n",
    "            extendAlign=False, #Extend the secondary structure instead of a raw \"cut\" based on the alignment position\n",
    "            excludeStrand=False, #Exclude \"strand\" From secondary structure\n",
    "            overide_axis_mode = True, #use the Zaxis instead of the alignment to tag the IBS\n",
    "            zaxis=ZAXISLEVEL, #Z axis plane to define \"IBS\" or not IBS\n",
    "            extendCoilOnly = False, #Extend coil only.\n",
    "            coordinates_folder_name = \"zaligned\"  \n",
    "          )"
   ]
  },
  {
   "cell_type": "code",
   "execution_count": 41,
   "metadata": {},
   "outputs": [],
   "source": [
    "if SHOW_EXAMPLE:\n",
    "    FYVE.show_structure_and_plane('1jocA02', 'zaligned')"
   ]
  },
  {
   "cell_type": "code",
   "execution_count": 42,
   "metadata": {},
   "outputs": [
    {
     "name": "stdout",
     "output_type": "stream",
     "text": [
      "making report for FYVE\n",
      "Error while generating shannon entropy graphs\n"
     ]
    },
    {
     "name": "stderr",
     "output_type": "stream",
     "text": [
      "/Users/thibault/OneDrive - University of Bergen/projects/peprmint/dev/pepermintdataset/notebooks/Ui.py:1916: UserWarning: This figure includes Axes that are not compatible with tight_layout, so results might be incorrect.\n",
      "  plt.tight_layout()\n",
      "/Users/thibault/OneDrive - University of Bergen/projects/peprmint/dev/pepermintdataset/notebooks/Ui.py:1006: UserWarning: This figure includes Axes that are not compatible with tight_layout, so results might be incorrect.\n",
      "  plt.tight_layout()\n"
     ]
    }
   ],
   "source": [
    "if DO_REPORT:\n",
    "    FYVE.analysis.report(displayHTML=False)\n"
   ]
  },
  {
   "cell_type": "code",
   "execution_count": 43,
   "metadata": {},
   "outputs": [],
   "source": [
    "if DO_PICTURES:\n",
    "    FYVE.generate_picutre_of_IBS(subfolder='zaligned')"
   ]
  },
  {
   "cell_type": "markdown",
   "metadata": {},
   "source": [
    "## PX "
   ]
  },
  {
   "cell_type": "code",
   "execution_count": 44,
   "metadata": {},
   "outputs": [],
   "source": [
    "if DO_ALIGNMENT:\n",
    "    !/Users/thibault/miniconda3/envs/peprmint/bin/python ~/OneDrive\\ -\\ University\\ of\\ Bergen/projects/peprmint/dev/pepermintdataset/scripts/align_on_z.py -d PX -ref 1h6hA00 -res1 33 -res2 74 -res3 100 -i superposed -o zaligned"
   ]
  },
  {
   "cell_type": "code",
   "execution_count": 45,
   "metadata": {},
   "outputs": [
    {
     "name": "stderr",
     "output_type": "stream",
     "text": [
      "/Users/thibault/miniconda3/envs/peprmint/lib/python3.7/site-packages/tqdm/std.py:699: FutureWarning: The Panel class is removed from pandas. Accessing it from the top-level namespace will also be removed in the next version\n",
      "  from pandas import Panel\n"
     ]
    },
    {
     "data": {
      "text/plain": [
       "<module 'Ui' from '/Users/thibault/OneDrive - University of Bergen/projects/peprmint/dev/pepermintdataset/notebooks/Ui.py'>"
      ]
     },
     "execution_count": 45,
     "metadata": {},
     "output_type": "execute_result"
    },
    {
     "name": "stdout",
     "output_type": "stream",
     "text": [
      "selecting amino acids\n",
      "UPDATING COORDINATES\n"
     ]
    },
    {
     "data": {
      "application/vnd.jupyter.widget-view+json": {
       "model_id": "5bf3acb1795b4eccbe576eba6d593504",
       "version_major": 2,
       "version_minor": 0
      },
      "text/plain": [
       "HBox(children=(HTML(value=''), FloatProgress(value=0.0, max=47.0), HTML(value='')))"
      ]
     },
     "metadata": {},
     "output_type": "display_data"
    },
    {
     "name": "stdout",
     "output_type": "stream",
     "text": [
      "\n",
      "taggin IBS\n"
     ]
    },
    {
     "data": {
      "application/vnd.jupyter.widget-view+json": {
       "model_id": "8780b30fe7bf41739d935558244a2e84",
       "version_major": 2,
       "version_minor": 0
      },
      "text/plain": [
       "HBox(children=(HTML(value=''), FloatProgress(value=0.0, max=47.0), HTML(value='')))"
      ]
     },
     "metadata": {},
     "output_type": "display_data"
    },
    {
     "name": "stdout",
     "output_type": "stream",
     "text": [
      "\n",
      "len IBS 47\n",
      "len nonIBS 47\n"
     ]
    }
   ],
   "source": [
    "import importlib\n",
    "import pepr2ds\n",
    "importlib.reload(pepr2ds)\n",
    "from pepr2ds.dataset.tagibs import Dataset\n",
    "PX = Dataset(DATASET,PEPRMINT_FOLDER)\n",
    "PX.tag_ibs(DATASET, \n",
    "            domain = 'PX', #Domain\n",
    "            pdbreference = \"1h6hA00\",\n",
    "            includeResidueRange = [], #CHANGE 173 to 171 and run again!\n",
    "            excludeResidueRange=[], #Exclude thoses residues from IBS\n",
    "            extendSS=False, #Extend the secondary structures\n",
    "            withAlignment=False, #restrict the results with pdb that have a sequences.\n",
    "            onlyC=False, #get only COIL in the IBS.\n",
    "            cathCluster=clusterLevel, #Structure redundancy filter\n",
    "            Uniref=\"uniref90\", #Sequence redundancy filter\n",
    "            addSequence=False, #add the non structural data in the IBS/NONIBS dataset.\n",
    "            extendAlign=False, #Extend the secondary structure instead of a raw \"cut\" based on the alignment position\n",
    "            excludeStrand=False, #Exclude \"strand\" From secondary structure\n",
    "            overide_axis_mode = True, #use the Zaxis instead of the alignment to tag the IBS\n",
    "            zaxis=ZAXISLEVEL, #Z axis plane to define \"IBS\" or not IBS\n",
    "            extendCoilOnly = False, #Extend coil only.\n",
    "            coordinates_folder_name = \"zaligned\"  \n",
    "          )"
   ]
  },
  {
   "cell_type": "code",
   "execution_count": 46,
   "metadata": {},
   "outputs": [
    {
     "name": "stdout",
     "output_type": "stream",
     "text": [
      "making report for PX\n"
     ]
    },
    {
     "name": "stderr",
     "output_type": "stream",
     "text": [
      "/Users/thibault/OneDrive - University of Bergen/projects/peprmint/dev/pepermintdataset/notebooks/Ui.py:1916: UserWarning: This figure includes Axes that are not compatible with tight_layout, so results might be incorrect.\n",
      "  plt.tight_layout()\n",
      "/Users/thibault/OneDrive - University of Bergen/projects/peprmint/dev/pepermintdataset/notebooks/Ui.py:1006: UserWarning: This figure includes Axes that are not compatible with tight_layout, so results might be incorrect.\n",
      "  plt.tight_layout()\n"
     ]
    }
   ],
   "source": [
    "if DO_REPORT:\n",
    "    PX.analysis.report(displayHTML=False)\n"
   ]
  },
  {
   "cell_type": "code",
   "execution_count": 47,
   "metadata": {},
   "outputs": [],
   "source": [
    "if DO_PICTURES:\n",
    "    PX.generate_picutre_of_IBS(subfolder='zaligned')"
   ]
  },
  {
   "cell_type": "markdown",
   "metadata": {},
   "source": [
    "## ENTH"
   ]
  },
  {
   "cell_type": "code",
   "execution_count": 48,
   "metadata": {},
   "outputs": [],
   "source": [
    "if DO_ALIGNMENT:\n",
    "    !/Users/thibault/miniconda3/envs/peprmint/bin/python ~/OneDrive\\ -\\ University\\ of\\ Bergen/projects/peprmint/dev/pepermintdataset/scripts/align_on_z.py -d ENTH -ref 1h0aA00 -res1 17 -res2 70 -res3 116 -i superposed -o zaligned"
   ]
  },
  {
   "cell_type": "code",
   "execution_count": 49,
   "metadata": {},
   "outputs": [
    {
     "name": "stderr",
     "output_type": "stream",
     "text": [
      "/Users/thibault/miniconda3/envs/peprmint/lib/python3.7/site-packages/tqdm/std.py:699: FutureWarning: The Panel class is removed from pandas. Accessing it from the top-level namespace will also be removed in the next version\n",
      "  from pandas import Panel\n"
     ]
    },
    {
     "data": {
      "text/plain": [
       "<module 'Ui' from '/Users/thibault/OneDrive - University of Bergen/projects/peprmint/dev/pepermintdataset/notebooks/Ui.py'>"
      ]
     },
     "execution_count": 49,
     "metadata": {},
     "output_type": "execute_result"
    },
    {
     "name": "stdout",
     "output_type": "stream",
     "text": [
      "selecting amino acids\n",
      "UPDATING COORDINATES\n"
     ]
    },
    {
     "data": {
      "application/vnd.jupyter.widget-view+json": {
       "model_id": "e1633297b9f346ca8167948aa6076ab9",
       "version_major": 2,
       "version_minor": 0
      },
      "text/plain": [
       "HBox(children=(HTML(value=''), FloatProgress(value=0.0, max=51.0), HTML(value='')))"
      ]
     },
     "metadata": {},
     "output_type": "display_data"
    },
    {
     "name": "stdout",
     "output_type": "stream",
     "text": [
      "\n",
      "taggin IBS\n"
     ]
    },
    {
     "data": {
      "application/vnd.jupyter.widget-view+json": {
       "model_id": "55ca0f357756434a960285fb7dc1e13d",
       "version_major": 2,
       "version_minor": 0
      },
      "text/plain": [
       "HBox(children=(HTML(value=''), FloatProgress(value=0.0, max=51.0), HTML(value='')))"
      ]
     },
     "metadata": {},
     "output_type": "display_data"
    },
    {
     "name": "stdout",
     "output_type": "stream",
     "text": [
      "\n",
      "len IBS 51\n",
      "len nonIBS 51\n"
     ]
    }
   ],
   "source": [
    "import importlib\n",
    "import pepr2ds\n",
    "importlib.reload(pepr2ds)\n",
    "from pepr2ds.dataset.tagibs import Dataset\n",
    "\n",
    "ENTH = Dataset(DATASET,PEPRMINT_FOLDER)\n",
    "ENTH.tag_ibs(DATASET, \n",
    "            domain = 'ENTH', #Domain\n",
    "            pdbreference = \"1h0aA00\",\n",
    "            includeResidueRange = [], #CHANGE 173 to 171 and run again!\n",
    "            excludeResidueRange=[], #Exclude thoses residues from IBS\n",
    "            extendSS=False, #Extend the secondary structures\n",
    "            withAlignment=False, #restrict the results with pdb that have a sequences.\n",
    "            onlyC=False, #get only COIL in the IBS.\n",
    "            cathCluster=clusterLevel, #Structure redundancy filter\n",
    "            Uniref=\"uniref90\", #Sequence redundancy filter\n",
    "            addSequence=False, #add the non structural data in the IBS/NONIBS dataset.\n",
    "            extendAlign=False, #Extend the secondary structure instead of a raw \"cut\" based on the alignment position\n",
    "            excludeStrand=False, #Exclude \"strand\" From secondary structure\n",
    "            overide_axis_mode = True, #use the Zaxis instead of the alignment to tag the IBS\n",
    "            zaxis=ZAXISLEVEL, #Z axis plane to define \"IBS\" or not IBS\n",
    "            extendCoilOnly = False, #Extend coil only.\n",
    "            coordinates_folder_name = \"zaligned\"  \n",
    "          )"
   ]
  },
  {
   "cell_type": "code",
   "execution_count": 50,
   "metadata": {},
   "outputs": [],
   "source": [
    "if SHOW_EXAMPLE:\n",
    "    ENTH.show_structure_and_plane('1h0aA00', 'zaligned')"
   ]
  },
  {
   "cell_type": "code",
   "execution_count": 51,
   "metadata": {},
   "outputs": [
    {
     "name": "stdout",
     "output_type": "stream",
     "text": [
      "making report for ENTH\n"
     ]
    },
    {
     "name": "stderr",
     "output_type": "stream",
     "text": [
      "/Users/thibault/OneDrive - University of Bergen/projects/peprmint/dev/pepermintdataset/notebooks/Ui.py:1916: UserWarning: This figure includes Axes that are not compatible with tight_layout, so results might be incorrect.\n",
      "  plt.tight_layout()\n",
      "/Users/thibault/OneDrive - University of Bergen/projects/peprmint/dev/pepermintdataset/notebooks/Ui.py:1006: UserWarning: This figure includes Axes that are not compatible with tight_layout, so results might be incorrect.\n",
      "  plt.tight_layout()\n"
     ]
    }
   ],
   "source": [
    "if DO_REPORT:\n",
    "    ENTH.analysis.report(displayHTML=False)"
   ]
  },
  {
   "cell_type": "code",
   "execution_count": 52,
   "metadata": {},
   "outputs": [],
   "source": [
    "if DO_PICTURES:\n",
    "    ENTH.generate_picutre_of_IBS(subfolder='zaligned')"
   ]
  },
  {
   "cell_type": "markdown",
   "metadata": {},
   "source": []
  },
  {
   "cell_type": "markdown",
   "metadata": {},
   "source": [
    "## PLD"
   ]
  },
  {
   "cell_type": "code",
   "execution_count": 53,
   "metadata": {},
   "outputs": [],
   "source": [
    "DATASET.domain = DATASET.domain.astype(str)\n",
    "DATASET.loc[DATASET.domain == \"PIPLC\", \"domain\"] = \"PLD\"\n"
   ]
  },
  {
   "cell_type": "code",
   "execution_count": 54,
   "metadata": {},
   "outputs": [],
   "source": [
    "if DO_ALIGNMENT:\n",
    "    !/Users/thibault/miniconda3/envs/peprmint/bin/python ~/OneDrive\\ -\\ University\\ of\\ Bergen/projects/peprmint/dev/pepermintdataset/scripts/align_on_z.py -d PLD -ref 3rlhA00 -res1 59 -res2 205 -res3 198 -i superposed -o orientationOPM\n",
    "    !/Users/thibault/miniconda3/envs/peprmint/bin/python ~/OneDrive\\ -\\ University\\ of\\ Bergen/projects/peprmint/dev/pepermintdataset/scripts/align_on_z.py -d PLD -ref 3rlhA00 -res1 53 -res2 41 -res3 99 -i superposed -o orientationCAGE\n",
    "\n"
   ]
  },
  {
   "cell_type": "markdown",
   "metadata": {},
   "source": [
    "### Orientation OPM"
   ]
  },
  {
   "cell_type": "code",
   "execution_count": 55,
   "metadata": {},
   "outputs": [
    {
     "name": "stderr",
     "output_type": "stream",
     "text": [
      "/Users/thibault/miniconda3/envs/peprmint/lib/python3.7/site-packages/tqdm/std.py:699: FutureWarning: The Panel class is removed from pandas. Accessing it from the top-level namespace will also be removed in the next version\n",
      "  from pandas import Panel\n"
     ]
    },
    {
     "data": {
      "text/plain": [
       "<module 'Ui' from '/Users/thibault/OneDrive - University of Bergen/projects/peprmint/dev/pepermintdataset/notebooks/Ui.py'>"
      ]
     },
     "execution_count": 55,
     "metadata": {},
     "output_type": "execute_result"
    },
    {
     "name": "stdout",
     "output_type": "stream",
     "text": [
      "selecting amino acids\n",
      "UPDATING COORDINATES\n"
     ]
    },
    {
     "data": {
      "application/vnd.jupyter.widget-view+json": {
       "model_id": "29917a7426d34a02aa4f72db0a6a9321",
       "version_major": 2,
       "version_minor": 0
      },
      "text/plain": [
       "HBox(children=(HTML(value=''), FloatProgress(value=0.0, max=67.0), HTML(value='')))"
      ]
     },
     "metadata": {},
     "output_type": "display_data"
    },
    {
     "name": "stdout",
     "output_type": "stream",
     "text": [
      "\n",
      "taggin IBS\n"
     ]
    },
    {
     "data": {
      "application/vnd.jupyter.widget-view+json": {
       "model_id": "0051a62ac3184f258b0a57cf75b3ad35",
       "version_major": 2,
       "version_minor": 0
      },
      "text/plain": [
       "HBox(children=(HTML(value=''), FloatProgress(value=0.0, max=67.0), HTML(value='')))"
      ]
     },
     "metadata": {},
     "output_type": "display_data"
    },
    {
     "name": "stdout",
     "output_type": "stream",
     "text": [
      "\n",
      "len IBS 67\n",
      "len nonIBS 67\n",
      "making report for PLD\n",
      "Error while generating shannon entropy graphs\n"
     ]
    },
    {
     "name": "stderr",
     "output_type": "stream",
     "text": [
      "/Users/thibault/OneDrive - University of Bergen/projects/peprmint/dev/pepermintdataset/notebooks/Ui.py:1916: UserWarning: This figure includes Axes that are not compatible with tight_layout, so results might be incorrect.\n",
      "  plt.tight_layout()\n",
      "/Users/thibault/OneDrive - University of Bergen/projects/peprmint/dev/pepermintdataset/notebooks/Ui.py:1006: UserWarning: This figure includes Axes that are not compatible with tight_layout, so results might be incorrect.\n",
      "  plt.tight_layout()\n"
     ]
    }
   ],
   "source": [
    "import importlib\n",
    "import pepr2ds\n",
    "importlib.reload(pepr2ds)\n",
    "from pepr2ds.dataset.tagibs import Dataset\n",
    "\n",
    "PLDopm = Dataset(DATASET,PEPRMINT_FOLDER)\n",
    "PLDopm.tag_ibs(DATASET, \n",
    "            domain = 'PLD', #Domain\n",
    "            pdbreference = \"3rlhA00\",\n",
    "            includeResidueRange = [], #CHANGE 173 to 171 and run again!\n",
    "            excludeResidueRange=[], #Exclude thoses residues from IBS\n",
    "            extendSS=False, #Extend the secondary structures\n",
    "            withAlignment=False, #restrict the results with pdb that have a sequences.\n",
    "            onlyC=False, #get only COIL in the IBS.\n",
    "            cathCluster=clusterLevel, #Structure redundancy filter\n",
    "            Uniref=\"uniref90\", #Sequence redundancy filter\n",
    "            addSequence=False, #add the non structural data in the IBS/NONIBS dataset.\n",
    "            extendAlign=False, #Extend the secondary structure instead of a raw \"cut\" based on the alignment position\n",
    "            excludeStrand=False, #Exclude \"strand\" From secondary structure\n",
    "            overide_axis_mode = True, #use the Zaxis instead of the alignment to tag the IBS\n",
    "            zaxis=ZAXISLEVEL, #Z axis plane to define \"IBS\" or not IBS\n",
    "            extendCoilOnly = False, #Extend coil only.\n",
    "            coordinates_folder_name = \"orientationOPM\"  \n",
    "          )\n",
    "if SHOW_EXAMPLE:\n",
    "    PLDopm.show_structure_and_plane('3rlhA00', 'orientationOPM')\n",
    "if DO_REPORT:\n",
    "    PLDopm.analysis.report(displayHTML=False, customFolder='PLDopm')\n",
    "if DO_PICTURES:\n",
    "    PLDopm.generate_picutre_of_IBS(subfolder='orientationOPM')"
   ]
  },
  {
   "cell_type": "raw",
   "metadata": {},
   "source": [
    "import importlib\n",
    "import pepr2ds\n",
    "importlib.reload(pepr2ds)\n",
    "PLDcage = Ui.Dataset(DATASET, PEPRMINT_FOLDER)\n",
    "PLDcage.tag_ibs(DATASET, \n",
    "            domain = 'PLD', #Domain\n",
    "            pdbreference = \"3rlhA00\",\n",
    "            includeResidueRange = [], #CHANGE 173 to 171 and run again!\n",
    "            excludeResidueRange=[], #Exclude thoses residues from IBS\n",
    "            extendSS=False, #Extend the secondary structures\n",
    "            withAlignment=False, #restrict the results with pdb that have a sequences.\n",
    "            onlyC=False, #get only COIL in the IBS.\n",
    "            cathCluster=clusterLevel, #Structure redundancy filter\n",
    "            Uniref=\"uniref90\", #Sequence redundancy filter\n",
    "            addSequence=False, #add the non structural data in the IBS/NONIBS dataset.\n",
    "            extendAlign=False, #Extend the secondary structure instead of a raw \"cut\" based on the alignment position\n",
    "            excludeStrand=False, #Exclude \"strand\" From secondary structure\n",
    "            overide_axis_mode = True, #use the Zaxis instead of the alignment to tag the IBS\n",
    "            zaxis=ZAXISLEVEL, #Z axis plane to define \"IBS\" or not IBS\n",
    "            extendCoilOnly = False, #Extend coil only.\n",
    "            coordinates_folder_name = \"orientationCAGE\"  \n",
    "          )\n",
    "\n",
    "if SHOW_EXAMPLE:\n",
    "    PLDcage.show_structure_and_plane('3rlhA00', 'orientationCAGE')\n",
    "if DO_REPORT:\n",
    "    PLDcage.analysis.report(displayHTML=False, customFolder='PLDcage')\n",
    "if DO_PICTURES:\n",
    "    PLDcage.generate_picutre_of_IBS(subfolder='orientationCAGE')"
   ]
  },
  {
   "cell_type": "markdown",
   "metadata": {},
   "source": [
    "## ANNEXIN"
   ]
  },
  {
   "cell_type": "code",
   "execution_count": 57,
   "metadata": {},
   "outputs": [],
   "source": [
    "DATASET.domain = DATASET.domain.astype(str)\n",
    "DATASET.loc[DATASET.domain == \"ANEXIN\", \"domain\"] = \"ANNEXIN\"\n"
   ]
  },
  {
   "cell_type": "code",
   "execution_count": 58,
   "metadata": {},
   "outputs": [],
   "source": [
    "if DO_ALIGNMENT:\n",
    "    !/Users/thibault/miniconda3/envs/peprmint/bin/python ~/OneDrive\\ -\\ University\\ of\\ Bergen/projects/peprmint/dev/pepermintdataset/scripts/align_on_z.py -d ANNEXIN -ref 1a8aA01 -res1 25 -res2 68 -res3 77 -i superposed -o zaligned\n"
   ]
  },
  {
   "cell_type": "code",
   "execution_count": 59,
   "metadata": {},
   "outputs": [
    {
     "name": "stderr",
     "output_type": "stream",
     "text": [
      "/Users/thibault/miniconda3/envs/peprmint/lib/python3.7/site-packages/tqdm/std.py:699: FutureWarning: The Panel class is removed from pandas. Accessing it from the top-level namespace will also be removed in the next version\n",
      "  from pandas import Panel\n"
     ]
    },
    {
     "data": {
      "text/plain": [
       "<module 'Ui' from '/Users/thibault/OneDrive - University of Bergen/projects/peprmint/dev/pepermintdataset/notebooks/Ui.py'>"
      ]
     },
     "execution_count": 59,
     "metadata": {},
     "output_type": "execute_result"
    },
    {
     "name": "stdout",
     "output_type": "stream",
     "text": [
      "selecting amino acids\n",
      "UPDATING COORDINATES\n"
     ]
    },
    {
     "data": {
      "application/vnd.jupyter.widget-view+json": {
       "model_id": "fc02e2ce9f354309966323fc8f0211f4",
       "version_major": 2,
       "version_minor": 0
      },
      "text/plain": [
       "HBox(children=(HTML(value=''), FloatProgress(value=0.0, max=122.0), HTML(value='')))"
      ]
     },
     "metadata": {},
     "output_type": "display_data"
    },
    {
     "name": "stdout",
     "output_type": "stream",
     "text": [
      "\n",
      "taggin IBS\n"
     ]
    },
    {
     "data": {
      "application/vnd.jupyter.widget-view+json": {
       "model_id": "f81d877a0b8d48b48074082b973ea457",
       "version_major": 2,
       "version_minor": 0
      },
      "text/plain": [
       "HBox(children=(HTML(value=''), FloatProgress(value=0.0, max=122.0), HTML(value='')))"
      ]
     },
     "metadata": {},
     "output_type": "display_data"
    },
    {
     "name": "stdout",
     "output_type": "stream",
     "text": [
      "\n",
      "len IBS 122\n",
      "len nonIBS 122\n"
     ]
    }
   ],
   "source": [
    "import importlib\n",
    "import pepr2ds\n",
    "importlib.reload(pepr2ds)\n",
    "from pepr2ds.dataset.tagibs import Dataset\n",
    "\n",
    "ANNEXIN = Dataset(DATASET,PEPRMINT_FOLDER)\n",
    "ANNEXIN.tag_ibs(DATASET, \n",
    "            domain = 'ANNEXIN', #Domain\n",
    "            pdbreference = \"1a8aA01\",\n",
    "            includeResidueRange = [], #CHANGE 173 to 171 and run again!\n",
    "            excludeResidueRange=[], #Exclude thoses residues from IBS\n",
    "            extendSS=False, #Extend the secondary structures\n",
    "            withAlignment=False, #restrict the results with pdb that have a sequences.\n",
    "            onlyC=False, #get only COIL in the IBS.\n",
    "            cathCluster=clusterLevel, #Structure redundancy filter\n",
    "            Uniref=\"uniref90\", #Sequence redundancy filter\n",
    "            addSequence=False, #add the non structural data in the IBS/NONIBS dataset.\n",
    "            extendAlign=False, #Extend the secondary structure instead of a raw \"cut\" based on the alignment position\n",
    "            excludeStrand=False, #Exclude \"strand\" From secondary structure\n",
    "            overide_axis_mode = True, #use the Zaxis instead of the alignment to tag the IBS\n",
    "            zaxis=ZAXISLEVEL, #Z axis plane to define \"IBS\" or not IBS\n",
    "            extendCoilOnly = False, #Extend coil only.\n",
    "            coordinates_folder_name = \"zaligned\"  \n",
    "          )\n",
    "if SHOW_EXAMPLE:\n",
    "    ANNEXIN.show_structure_and_plane('1a8aA01', 'zaligned')"
   ]
  },
  {
   "cell_type": "code",
   "execution_count": 60,
   "metadata": {},
   "outputs": [
    {
     "name": "stdout",
     "output_type": "stream",
     "text": [
      "making report for ANNEXIN\n"
     ]
    },
    {
     "name": "stderr",
     "output_type": "stream",
     "text": [
      "/Users/thibault/OneDrive - University of Bergen/projects/peprmint/dev/pepermintdataset/notebooks/Ui.py:1916: UserWarning: This figure includes Axes that are not compatible with tight_layout, so results might be incorrect.\n",
      "  plt.tight_layout()\n",
      "/Users/thibault/OneDrive - University of Bergen/projects/peprmint/dev/pepermintdataset/notebooks/Ui.py:1006: UserWarning: This figure includes Axes that are not compatible with tight_layout, so results might be incorrect.\n",
      "  plt.tight_layout()\n"
     ]
    }
   ],
   "source": [
    "if DO_REPORT:\n",
    "    ANNEXIN.analysis.report(displayHTML=False)\n",
    "if DO_PICTURES:\n",
    "    ANNEXIN.generate_picutre_of_IBS(subfolder='zaligned')"
   ]
  },
  {
   "cell_type": "markdown",
   "metadata": {},
   "source": [
    "## PLA"
   ]
  },
  {
   "cell_type": "code",
   "execution_count": 61,
   "metadata": {},
   "outputs": [],
   "source": [
    "if DO_ALIGNMENT:\n",
    "    !/Users/thibault/miniconda3/envs/peprmint/bin/python ~/OneDrive\\ -\\ University\\ of\\ Bergen/projects/peprmint/dev/pepermintdataset/scripts/align_on_z.py -d PLA -ref 1pocA00 -res1 7 -res2 92 -res3 76 -i superposed -o zaligned"
   ]
  },
  {
   "cell_type": "code",
   "execution_count": 1,
   "metadata": {},
   "outputs": [
    {
     "name": "stderr",
     "output_type": "stream",
     "text": [
      "/Users/thibault/miniconda3/envs/peprmint/lib/python3.7/site-packages/tqdm/std.py:699: FutureWarning: The Panel class is removed from pandas. Accessing it from the top-level namespace will also be removed in the next version\n",
      "  from pandas import Panel\n"
     ]
    },
    {
     "data": {
      "application/vnd.jupyter.widget-view+json": {
       "model_id": "3c55ef4f87c547da98402955b2a010f5",
       "version_major": 2,
       "version_minor": 0
      },
      "text/plain": []
     },
     "metadata": {},
     "output_type": "display_data"
    },
    {
     "name": "stderr",
     "output_type": "stream",
     "text": [
      "/Users/thibault/miniconda3/envs/peprmint/lib/python3.7/site-packages/tqdm/std.py:699: FutureWarning: The Panel class is removed from pandas. Accessing it from the top-level namespace will also be removed in the next version\n",
      "  from pandas import Panel\n"
     ]
    },
    {
     "ename": "NameError",
     "evalue": "name 'DATASET' is not defined",
     "output_type": "error",
     "traceback": [
      "\u001b[0;31m---------------------------------------------------------------------------\u001b[0m",
      "\u001b[0;31mNameError\u001b[0m                                 Traceback (most recent call last)",
      "\u001b[0;32m<ipython-input-1-8a54330283b4>\u001b[0m in \u001b[0;36m<module>\u001b[0;34m\u001b[0m\n\u001b[1;32m      2\u001b[0m \u001b[0;32mimport\u001b[0m \u001b[0mUi\u001b[0m\u001b[0;34m\u001b[0m\u001b[0;34m\u001b[0m\u001b[0m\n\u001b[1;32m      3\u001b[0m \u001b[0mimportlib\u001b[0m\u001b[0;34m.\u001b[0m\u001b[0mreload\u001b[0m\u001b[0;34m(\u001b[0m\u001b[0mUi\u001b[0m\u001b[0;34m)\u001b[0m\u001b[0;34m\u001b[0m\u001b[0;34m\u001b[0m\u001b[0m\n\u001b[0;32m----> 4\u001b[0;31m \u001b[0mPLA\u001b[0m \u001b[0;34m=\u001b[0m \u001b[0mUi\u001b[0m\u001b[0;34m.\u001b[0m\u001b[0mDataset\u001b[0m\u001b[0;34m(\u001b[0m\u001b[0mDATASET\u001b[0m\u001b[0;34m,\u001b[0m\u001b[0mPEPRMINT_FOLDER\u001b[0m\u001b[0;34m)\u001b[0m\u001b[0;34m\u001b[0m\u001b[0;34m\u001b[0m\u001b[0m\n\u001b[0m\u001b[1;32m      5\u001b[0m PLA.tag_ibs(DATASET, \n\u001b[1;32m      6\u001b[0m             \u001b[0mdomain\u001b[0m \u001b[0;34m=\u001b[0m \u001b[0;34m'PLA'\u001b[0m\u001b[0;34m,\u001b[0m \u001b[0;31m#Domain\u001b[0m\u001b[0;34m\u001b[0m\u001b[0;34m\u001b[0m\u001b[0m\n",
      "\u001b[0;31mNameError\u001b[0m: name 'DATASET' is not defined"
     ]
    }
   ],
   "source": [
    "import importlib\n",
    "import pepr2ds\n",
    "importlib.reload(pepr2ds)\n",
    "from pepr2ds.dataset.tagibs import Dataset\n",
    "\n",
    "PLA = Dataset(DATASET,PEPRMINT_FOLDER)\n",
    "PLA.tag_ibs(DATASET, \n",
    "            domain = 'PLA', #Domain\n",
    "            pdbreference = \"1pocA00\",\n",
    "            includeResidueRange = [], #CHANGE 173 to 171 and run again!\n",
    "            excludeResidueRange=[], #Exclude thoses residues from IBS\n",
    "            extendSS=False, #Extend the secondary structures\n",
    "            withAlignment=False, #restrict the results with pdb that have a sequences.\n",
    "            onlyC=False, #get only COIL in the IBS.\n",
    "            cathCluster=clusterLevel, #Structure redundancy filter\n",
    "            Uniref=\"uniref90\", #Sequence redundancy filter\n",
    "            addSequence=False, #add the non structural data in the IBS/NONIBS dataset.\n",
    "            extendAlign=False, #Extend the secondary structure instead of a raw \"cut\" based on the alignment position\n",
    "            excludeStrand=False, #Exclude \"strand\" From secondary structure\n",
    "            overide_axis_mode = True, #use the Zaxis instead of the alignment to tag the IBS\n",
    "            zaxis=ZAXISLEVEL, #Z axis plane to define \"IBS\" or not IBS\n",
    "            extendCoilOnly = False, #Extend coil only.\n",
    "            coordinates_folder_name = \"zaligned\"  \n",
    "          )\n",
    "if SHOW_EXAMPLE:\n",
    "    PLA.show_structure_and_plane('1pocA00', 'zaligned')"
   ]
  },
  {
   "cell_type": "code",
   "execution_count": 63,
   "metadata": {},
   "outputs": [
    {
     "name": "stdout",
     "output_type": "stream",
     "text": [
      "making report for PLA\n",
      "Error while generating shannon entropy graphs\n"
     ]
    },
    {
     "name": "stderr",
     "output_type": "stream",
     "text": [
      "/Users/thibault/OneDrive - University of Bergen/projects/peprmint/dev/pepermintdataset/notebooks/Ui.py:1916: UserWarning: This figure includes Axes that are not compatible with tight_layout, so results might be incorrect.\n",
      "  plt.tight_layout()\n",
      "/Users/thibault/OneDrive - University of Bergen/projects/peprmint/dev/pepermintdataset/notebooks/Ui.py:1006: UserWarning: This figure includes Axes that are not compatible with tight_layout, so results might be incorrect.\n",
      "  plt.tight_layout()\n"
     ]
    }
   ],
   "source": [
    "if DO_REPORT:\n",
    "    PLA.analysis.report(displayHTML=False)\n",
    "    \n",
    "if DO_PICTURES:\n",
    "    PLA.generate_picutre_of_IBS(subfolder='zaligned')"
   ]
  },
  {
   "cell_type": "markdown",
   "metadata": {},
   "source": [
    "## MERGED DATASET"
   ]
  },
  {
   "cell_type": "code",
   "execution_count": null,
   "metadata": {},
   "outputs": [],
   "source": [
    "def merge_dataset(**kwargs):\n",
    "    importlib.reload(pepr2ds)\n",
    "    from pepr2ds.dataset.tagibs import Dataset\n",
    "    merged = Dataset(DATASET,PEPRMINT_FOLDER)\n",
    "\n",
    "    merged.ibs = pd.concat([x.ibs for x in kwargs.values()])\n",
    "    merged.nonibs = pd.concat([x.nonibs for x in kwargs.values()])\n",
    "    merged.domainDf = pd.concat([x.domainDf for x in kwargs.values()])\n",
    "    domainLabel = \"+\".join([x for x in kwargs.keys()])\n",
    "    merged.domainLabel = domainLabel\n",
    "    return(merged)\n",
    "    \n",
    "\n",
    "if DO_REPORT:\n",
    "    MERGED = merge_dataset(PH=PH, C2=C2, START=STARTo1, C1=C1, C2DIS=C2DIS, PX=PX, ENTH=ENTH, PLD=PLDcage, ANNEXIN=ANNEXIN, PLA=PLA)\n",
    "    MERGED.analysis.report(displayHTML=False)"
   ]
  }
 ],
 "metadata": {
  "interpreter": {
   "hash": "6f562939bf91b46b655e3a917bf756908169d96bc255520a8d7ed621cd1fd7da"
  },
  "kernelspec": {
   "display_name": "Python [conda env:peprmint]",
   "language": "python",
   "name": "python3"
  },
  "language_info": {
   "codemirror_mode": {
    "name": "ipython",
    "version": 3
   },
   "file_extension": ".py",
   "mimetype": "text/x-python",
   "name": "python",
   "nbconvert_exporter": "python",
   "pygments_lexer": "ipython3",
   "version": "3.7.9"
  }
 },
 "nbformat": 4,
 "nbformat_minor": 4
}
